{
 "cells": [
  {
   "cell_type": "markdown",
   "metadata": {},
   "source": [
    "This is intended to be an example of the workflow / requirements to generate observations of a moving object. This shows the general workflow for generating observations using PyOrb to generate ephemerides (here, 'ra/dec' positions at an observatory). \n",
    "\n",
    "This also demonstrates the basic functionality which we need from ADAM, and could imagine wrapping ADAM in a class to make it easy to call (like we've wrapped PyOorb here, with lsst.sims.movingObjects.PyOrbEphemerides). \n",
    "\n",
    "The LSST sims_movingObject code is at https://github.com/lsst/sims_movingObjects"
   ]
  },
  {
   "cell_type": "code",
   "execution_count": 1,
   "metadata": {},
   "outputs": [],
   "source": [
    "import numpy as np\n",
    "import pandas as pd\n",
    "\n",
    "# Import lsst sims_movingObjects code -- \n",
    "# this has some convenience classes for reading orbits and generating ephemerides with PyOrb\n",
    "import lsst.sims.movingObjects as mo"
   ]
  },
  {
   "cell_type": "code",
   "execution_count": 2,
   "metadata": {},
   "outputs": [
    {
     "name": "stdout",
     "output_type": "stream",
     "text": [
      "!!S3M V.09.06.15\r\n",
      "!!OID FORMAT q e i node argperi t_p H t_0 INDEX N_PAR MOID COMPCODE\r\n",
      "S1000000a  COM   3.01822   0.05208  22.56035 211.00286 335.42134  51575.94061 14.20  54800.00000 1 6 -1 Python\r\n",
      "S1000001a  COM   2.10974   0.07518   4.91571 209.40298 322.66447  54205.77161 20.57  54800.00000 1 6 -1 Python\r\n",
      "S1000002a  COM   2.80523   0.07777   1.24945 112.52284 139.86858  54468.71747 14.65  54800.00000 1 6 -1 Python\r\n",
      "S1000003a  COM   2.10917   0.13219   1.46615 266.54621 232.24412  54212.16304 19.58  54800.00000 1 6 -1 Python\r\n",
      "S1000004a  COM   2.17676   0.19949  12.92422 162.14580 192.22312  51895.46586 10.56  54800.00000 1 6 -1 Python\r\n",
      "S1000007a  COM   1.98262   0.16324  23.42404 210.02222 326.18514  54730.97656  8.17  54800.00000 1 6 -1 Python\r\n",
      "S1000008a  COM   1.73305   0.24339  23.73823 337.86076 113.29921  54647.98297  8.97  54800.00000 1 6 -1 Python\r\n",
      "S1000009a  COM   2.18691   0.15787  14.26404  63.83526 171.52690  51866.56387 10.73  54800.00000 1 6 -1 Python\r\n"
     ]
    }
   ],
   "source": [
    "# Example of an input file we typically use.\n",
    "!head 'mba_300.s3m'"
   ]
  },
  {
   "cell_type": "code",
   "execution_count": 3,
   "metadata": {
    "collapsed": true
   },
   "outputs": [],
   "source": [
    "orbits = mo.Orbits()\n",
    "orbits.readOrbits('mba_300.s3m')"
   ]
  },
  {
   "cell_type": "code",
   "execution_count": 4,
   "metadata": {},
   "outputs": [
    {
     "name": "stdout",
     "output_type": "stream",
     "text": [
      "COM\n"
     ]
    },
    {
     "data": {
      "text/html": [
       "<div>\n",
       "<style>\n",
       "    .dataframe thead tr:only-child th {\n",
       "        text-align: right;\n",
       "    }\n",
       "\n",
       "    .dataframe thead th {\n",
       "        text-align: left;\n",
       "    }\n",
       "\n",
       "    .dataframe tbody tr th {\n",
       "        vertical-align: top;\n",
       "    }\n",
       "</style>\n",
       "<table border=\"1\" class=\"dataframe\">\n",
       "  <thead>\n",
       "    <tr style=\"text-align: right;\">\n",
       "      <th></th>\n",
       "      <th>objId</th>\n",
       "      <th>q</th>\n",
       "      <th>e</th>\n",
       "      <th>inc</th>\n",
       "      <th>Omega</th>\n",
       "      <th>argPeri</th>\n",
       "      <th>tPeri</th>\n",
       "      <th>H</th>\n",
       "      <th>epoch</th>\n",
       "      <th>g</th>\n",
       "      <th>sed_filename</th>\n",
       "    </tr>\n",
       "  </thead>\n",
       "  <tbody>\n",
       "    <tr>\n",
       "      <th>0</th>\n",
       "      <td>S1000000a</td>\n",
       "      <td>3.01822</td>\n",
       "      <td>0.05208</td>\n",
       "      <td>22.56035</td>\n",
       "      <td>211.00286</td>\n",
       "      <td>335.42134</td>\n",
       "      <td>51575.94061</td>\n",
       "      <td>14.20</td>\n",
       "      <td>54800.0</td>\n",
       "      <td>0.15</td>\n",
       "      <td>C.dat</td>\n",
       "    </tr>\n",
       "    <tr>\n",
       "      <th>1</th>\n",
       "      <td>S1000001a</td>\n",
       "      <td>2.10974</td>\n",
       "      <td>0.07518</td>\n",
       "      <td>4.91571</td>\n",
       "      <td>209.40298</td>\n",
       "      <td>322.66447</td>\n",
       "      <td>54205.77161</td>\n",
       "      <td>20.57</td>\n",
       "      <td>54800.0</td>\n",
       "      <td>0.15</td>\n",
       "      <td>C.dat</td>\n",
       "    </tr>\n",
       "    <tr>\n",
       "      <th>2</th>\n",
       "      <td>S1000002a</td>\n",
       "      <td>2.80523</td>\n",
       "      <td>0.07777</td>\n",
       "      <td>1.24945</td>\n",
       "      <td>112.52284</td>\n",
       "      <td>139.86858</td>\n",
       "      <td>54468.71747</td>\n",
       "      <td>14.65</td>\n",
       "      <td>54800.0</td>\n",
       "      <td>0.15</td>\n",
       "      <td>S.dat</td>\n",
       "    </tr>\n",
       "  </tbody>\n",
       "</table>\n",
       "</div>"
      ],
      "text/plain": [
       "       objId        q        e       inc      Omega    argPeri        tPeri  \\\n",
       "0  S1000000a  3.01822  0.05208  22.56035  211.00286  335.42134  51575.94061   \n",
       "1  S1000001a  2.10974  0.07518   4.91571  209.40298  322.66447  54205.77161   \n",
       "2  S1000002a  2.80523  0.07777   1.24945  112.52284  139.86858  54468.71747   \n",
       "\n",
       "       H    epoch     g sed_filename  \n",
       "0  14.20  54800.0  0.15        C.dat  \n",
       "1  20.57  54800.0  0.15        C.dat  \n",
       "2  14.65  54800.0  0.15        S.dat  "
      ]
     },
     "execution_count": 4,
     "metadata": {},
     "output_type": "execute_result"
    }
   ],
   "source": [
    "# What is the data that is in orbits? a pandas data frame of orbital parameters, plus the format.\n",
    "print(orbits.orb_format)\n",
    "orbits.orbits[0:3]"
   ]
  },
  {
   "cell_type": "code",
   "execution_count": 5,
   "metadata": {
    "collapsed": true
   },
   "outputs": [],
   "source": [
    "# Okay - set up ephemeris generation module. (Here this is PyOorb. Swap for ADAM)\n",
    "ephGen = mo.PyOrbEphemerides(ephfile='de430')\n",
    "ephGen.setOrbits(orbits)"
   ]
  },
  {
   "cell_type": "code",
   "execution_count": 6,
   "metadata": {},
   "outputs": [
    {
     "data": {
      "text/plain": [
       "array([  0.00000000e+00,   3.01822000e+00,   5.20800000e-02,\n",
       "         3.93752388e-01,   3.68269464e+00,   5.85420676e+00,\n",
       "         5.15759406e+04,   2.00000000e+00,   5.48000000e+04,\n",
       "         3.00000000e+00,   1.42000000e+01,   1.50000000e-01])"
      ]
     },
     "execution_count": 6,
     "metadata": {},
     "output_type": "execute_result"
    }
   ],
   "source": [
    "# The pyoorb orbit saves a copy of the orbit elements, in the format that pyoorb needs\n",
    "# Probably the ADAM module would turn the given elements into Cartesian format and store in the dictionary (OPM?)\n",
    "ephGen.oorbElem[0]"
   ]
  },
  {
   "cell_type": "code",
   "execution_count": 7,
   "metadata": {},
   "outputs": [
    {
     "name": "stdout",
     "output_type": "stream",
     "text": [
      "Test things out to propagate from 54800.000000 to 54830.000000\n"
     ]
    }
   ],
   "source": [
    "# I want to be able to propagate orbits. \n",
    "# original epoch - just FYI\n",
    "epoch_orig = orbits.orbits['epoch'][0]\n",
    "epoch_new = epoch_orig + 30.0\n",
    "print('Test things out to propagate from %f to %f' % (epoch_orig, epoch_new))\n",
    "#ephGen.propagateOrbits(epoch_new)   --- currently doesn't work for PyOrb\n",
    "# epoch_new could be a single time or a range of times would be useful too (numpy array?)\n",
    "# New orbits stored in the ephGen object (i.e. series of OPM dictionaries?)"
   ]
  },
  {
   "cell_type": "code",
   "execution_count": 8,
   "metadata": {},
   "outputs": [
    {
     "name": "stdout",
     "output_type": "stream",
     "text": [
      "[ 54800.0272083   54800.11652983  54800.91350783  54801.39857434\n",
      "  54801.5635174   54802.43987338  54802.79619456  54803.06728361\n",
      "  54803.19663425  54803.40330753  54803.67261494  54804.0772348\n",
      "  54804.5914872   54805.15884506  54805.21112618  54805.88469292\n",
      "  54806.43759611  54806.5204512   54806.57061195  54806.86912816\n",
      "  54806.95686385  54807.06634154  54807.31373372  54807.46442235\n",
      "  54807.48513908  54807.63034795  54807.72443812  54807.84384013\n",
      "  54807.89571734  54808.11334993  54808.4661842   54808.95994545\n",
      "  54809.08319158  54809.15419397  54809.22838755  54809.67765201\n",
      "  54810.7302052   54811.08729443  54811.40556941  54811.8397688\n",
      "  54812.29820406  54812.35290797  54812.65272106  54812.99498542\n",
      "  54813.24089402  54813.50772355  54813.72940532  54814.20614858\n",
      "  54814.43621976  54814.68821595  54814.76430519  54815.26807562\n",
      "  54815.62255328  54815.73107937  54816.31424347  54816.31812373\n",
      "  54816.47845006  54817.47537262  54817.54634764  54817.75472913\n",
      "  54817.84089316  54818.27095237  54819.23049703  54819.46058767\n",
      "  54819.65818612  54819.79908354  54819.88355595  54820.19144008\n",
      "  54821.07057124  54821.12765812  54821.22426366  54821.94493678\n",
      "  54822.06971112  54822.29954347  54822.46695207  54822.64384288\n",
      "  54822.65821377  54823.51413414  54823.59010779  54823.91465969\n",
      "  54824.43089388  54824.46652097  54824.47742518  54824.69646022\n",
      "  54824.85985211  54825.38243257  54825.84061796  54826.42316037\n",
      "  54826.83442847  54827.25815639  54827.48146348  54827.69038717\n",
      "  54827.74577143  54828.37141727  54828.38693177  54828.55985232\n",
      "  54829.15318279  54829.22700891  54829.3310124   54829.81538544]\n"
     ]
    }
   ],
   "source": [
    "# And I want to be able to generate 'observations' at a series of given times and at a given observatory location\n",
    "times = np.sort(epoch_orig + (np.random.rand(100)) * (epoch_new - epoch_orig))\n",
    "print(times)"
   ]
  },
  {
   "cell_type": "code",
   "execution_count": 9,
   "metadata": {
    "collapsed": true
   },
   "outputs": [],
   "source": [
    "obs = ephGen.generateEphemerides(times=times, obscode='I11', byObject=True)"
   ]
  },
  {
   "cell_type": "code",
   "execution_count": 10,
   "metadata": {},
   "outputs": [
    {
     "name": "stdout",
     "output_type": "stream",
     "text": [
      "(300, 100)\n",
      "('delta', 'ra', 'dec', 'magV', 'time', 'dradt', 'ddecdt', 'phase', 'solarelon', 'velocity')\n"
     ]
    },
    {
     "data": {
      "text/plain": [
       "array([ 54800.0272083 ,  54800.11652983,  54800.91350783,  54801.39857434,\n",
       "        54801.5635174 ,  54802.43987338,  54802.79619456,  54803.06728361,\n",
       "        54803.19663425,  54803.40330753,  54803.67261494,  54804.0772348 ,\n",
       "        54804.5914872 ,  54805.15884506,  54805.21112618,  54805.88469292,\n",
       "        54806.43759611,  54806.5204512 ,  54806.57061195,  54806.86912816,\n",
       "        54806.95686385,  54807.06634154,  54807.31373372,  54807.46442235,\n",
       "        54807.48513908,  54807.63034795,  54807.72443812,  54807.84384013,\n",
       "        54807.89571734,  54808.11334993,  54808.4661842 ,  54808.95994545,\n",
       "        54809.08319158,  54809.15419397,  54809.22838755,  54809.67765201,\n",
       "        54810.7302052 ,  54811.08729443,  54811.40556941,  54811.8397688 ,\n",
       "        54812.29820406,  54812.35290797,  54812.65272106,  54812.99498542,\n",
       "        54813.24089402,  54813.50772355,  54813.72940532,  54814.20614858,\n",
       "        54814.43621976,  54814.68821595,  54814.76430519,  54815.26807562,\n",
       "        54815.62255328,  54815.73107937,  54816.31424347,  54816.31812373,\n",
       "        54816.47845006,  54817.47537262,  54817.54634764,  54817.75472913,\n",
       "        54817.84089316,  54818.27095237,  54819.23049703,  54819.46058767,\n",
       "        54819.65818612,  54819.79908354,  54819.88355595,  54820.19144008,\n",
       "        54821.07057124,  54821.12765812,  54821.22426366,  54821.94493678,\n",
       "        54822.06971112,  54822.29954347,  54822.46695207,  54822.64384288,\n",
       "        54822.65821377,  54823.51413414,  54823.59010779,  54823.91465969,\n",
       "        54824.43089388,  54824.46652097,  54824.47742518,  54824.69646022,\n",
       "        54824.85985211,  54825.38243257,  54825.84061796,  54826.42316037,\n",
       "        54826.83442847,  54827.25815639,  54827.48146348,  54827.69038717,\n",
       "        54827.74577143,  54828.37141727,  54828.38693177,  54828.55985232,\n",
       "        54829.15318279,  54829.22700891,  54829.3310124 ,  54829.81538544])"
      ]
     },
     "execution_count": 10,
     "metadata": {},
     "output_type": "execute_result"
    }
   ],
   "source": [
    "# The ephems returned are a 2d recarray, which can be grouped as either [object][time] or [time][object] \n",
    "# (how these are sorted is set by the 'byObject' flag)\n",
    "print(obs.shape)\n",
    "print(obs[0][0].dtype.names)\n",
    "# e.g. here the observations were grouped by object - so these are of the same object, at various times.\n",
    "obs[0]['time']"
   ]
  },
  {
   "cell_type": "code",
   "execution_count": 11,
   "metadata": {},
   "outputs": [
    {
     "name": "stdout",
     "output_type": "stream",
     "text": [
      "(100, 300)\n",
      "('delta', 'ra', 'dec', 'magV', 'time', 'dradt', 'ddecdt', 'phase', 'solarelon', 'velocity')\n",
      "[ 54800.0272083  54800.0272083  54800.0272083  54800.0272083  54800.0272083\n",
      "  54800.0272083  54800.0272083  54800.0272083  54800.0272083  54800.0272083\n",
      "  54800.0272083  54800.0272083  54800.0272083  54800.0272083  54800.0272083\n",
      "  54800.0272083  54800.0272083  54800.0272083  54800.0272083  54800.0272083\n",
      "  54800.0272083  54800.0272083  54800.0272083  54800.0272083  54800.0272083\n",
      "  54800.0272083  54800.0272083  54800.0272083  54800.0272083  54800.0272083\n",
      "  54800.0272083  54800.0272083  54800.0272083  54800.0272083  54800.0272083\n",
      "  54800.0272083  54800.0272083  54800.0272083  54800.0272083  54800.0272083\n",
      "  54800.0272083  54800.0272083  54800.0272083  54800.0272083  54800.0272083\n",
      "  54800.0272083  54800.0272083  54800.0272083  54800.0272083  54800.0272083\n",
      "  54800.0272083  54800.0272083  54800.0272083  54800.0272083  54800.0272083\n",
      "  54800.0272083  54800.0272083  54800.0272083  54800.0272083  54800.0272083\n",
      "  54800.0272083  54800.0272083  54800.0272083  54800.0272083  54800.0272083\n",
      "  54800.0272083  54800.0272083  54800.0272083  54800.0272083  54800.0272083\n",
      "  54800.0272083  54800.0272083  54800.0272083  54800.0272083  54800.0272083\n",
      "  54800.0272083  54800.0272083  54800.0272083  54800.0272083  54800.0272083\n",
      "  54800.0272083  54800.0272083  54800.0272083  54800.0272083  54800.0272083\n",
      "  54800.0272083  54800.0272083  54800.0272083  54800.0272083  54800.0272083\n",
      "  54800.0272083  54800.0272083  54800.0272083  54800.0272083  54800.0272083\n",
      "  54800.0272083  54800.0272083  54800.0272083  54800.0272083  54800.0272083\n",
      "  54800.0272083  54800.0272083  54800.0272083  54800.0272083  54800.0272083\n",
      "  54800.0272083  54800.0272083  54800.0272083  54800.0272083  54800.0272083\n",
      "  54800.0272083  54800.0272083  54800.0272083  54800.0272083  54800.0272083\n",
      "  54800.0272083  54800.0272083  54800.0272083  54800.0272083  54800.0272083\n",
      "  54800.0272083  54800.0272083  54800.0272083  54800.0272083  54800.0272083\n",
      "  54800.0272083  54800.0272083  54800.0272083  54800.0272083  54800.0272083\n",
      "  54800.0272083  54800.0272083  54800.0272083  54800.0272083  54800.0272083\n",
      "  54800.0272083  54800.0272083  54800.0272083  54800.0272083  54800.0272083\n",
      "  54800.0272083  54800.0272083  54800.0272083  54800.0272083  54800.0272083\n",
      "  54800.0272083  54800.0272083  54800.0272083  54800.0272083  54800.0272083\n",
      "  54800.0272083  54800.0272083  54800.0272083  54800.0272083  54800.0272083\n",
      "  54800.0272083  54800.0272083  54800.0272083  54800.0272083  54800.0272083\n",
      "  54800.0272083  54800.0272083  54800.0272083  54800.0272083  54800.0272083\n",
      "  54800.0272083  54800.0272083  54800.0272083  54800.0272083  54800.0272083\n",
      "  54800.0272083  54800.0272083  54800.0272083  54800.0272083  54800.0272083\n",
      "  54800.0272083  54800.0272083  54800.0272083  54800.0272083  54800.0272083\n",
      "  54800.0272083  54800.0272083  54800.0272083  54800.0272083  54800.0272083\n",
      "  54800.0272083  54800.0272083  54800.0272083  54800.0272083  54800.0272083\n",
      "  54800.0272083  54800.0272083  54800.0272083  54800.0272083  54800.0272083\n",
      "  54800.0272083  54800.0272083  54800.0272083  54800.0272083  54800.0272083\n",
      "  54800.0272083  54800.0272083  54800.0272083  54800.0272083  54800.0272083\n",
      "  54800.0272083  54800.0272083  54800.0272083  54800.0272083  54800.0272083\n",
      "  54800.0272083  54800.0272083  54800.0272083  54800.0272083  54800.0272083\n",
      "  54800.0272083  54800.0272083  54800.0272083  54800.0272083  54800.0272083\n",
      "  54800.0272083  54800.0272083  54800.0272083  54800.0272083  54800.0272083\n",
      "  54800.0272083  54800.0272083  54800.0272083  54800.0272083  54800.0272083\n",
      "  54800.0272083  54800.0272083  54800.0272083  54800.0272083  54800.0272083\n",
      "  54800.0272083  54800.0272083  54800.0272083  54800.0272083  54800.0272083\n",
      "  54800.0272083  54800.0272083  54800.0272083  54800.0272083  54800.0272083\n",
      "  54800.0272083  54800.0272083  54800.0272083  54800.0272083  54800.0272083\n",
      "  54800.0272083  54800.0272083  54800.0272083  54800.0272083  54800.0272083\n",
      "  54800.0272083  54800.0272083  54800.0272083  54800.0272083  54800.0272083\n",
      "  54800.0272083  54800.0272083  54800.0272083  54800.0272083  54800.0272083\n",
      "  54800.0272083  54800.0272083  54800.0272083  54800.0272083  54800.0272083\n",
      "  54800.0272083  54800.0272083  54800.0272083  54800.0272083  54800.0272083\n",
      "  54800.0272083  54800.0272083  54800.0272083  54800.0272083  54800.0272083\n",
      "  54800.0272083  54800.0272083  54800.0272083  54800.0272083  54800.0272083\n",
      "  54800.0272083  54800.0272083  54800.0272083  54800.0272083  54800.0272083\n",
      "  54800.0272083  54800.0272083  54800.0272083  54800.0272083  54800.0272083\n",
      "  54800.0272083  54800.0272083  54800.0272083  54800.0272083  54800.0272083]\n"
     ]
    }
   ],
   "source": [
    "# Here they are sorted in the other order, so it's all objects @ the first time, then the second time, etc.\n",
    "obs = ephGen.generateEphemerides(times=times, obscode='I11', byObject=False)\n",
    "print(obs.shape)\n",
    "print(obs[0][0].dtype.names)\n",
    "print(obs[0]['time'])"
   ]
  },
  {
   "cell_type": "code",
   "execution_count": 12,
   "metadata": {
    "collapsed": true
   },
   "outputs": [],
   "source": [
    "# But I would be okay with just generating observations at a single time, if the propagation was still efficient\n",
    "# (here for PyOorb, generating all the ephemerides at one time is more efficient than doing it per time, using the \n",
    "# orbits at the original epoch)"
   ]
  },
  {
   "cell_type": "markdown",
   "metadata": {},
   "source": [
    "Here's a rough/simple example of our end-to-end process.."
   ]
  },
  {
   "cell_type": "code",
   "execution_count": 13,
   "metadata": {
    "collapsed": true
   },
   "outputs": [],
   "source": [
    "# Use a MAF class to quickly grab data from the opsim sqlite output. The result here is just a numpy recarray.\n",
    "import lsst.sims.maf.db as db\n",
    "o = db.OpsimDatabase('/Users/lynnej/opsim/db/astro-lsst-01_2013.db')\n",
    "surveydata = o.fetchMetricData(colnames=['observationStartMJD', 'fieldRA', 'fieldDec', \n",
    "                                         'filter', 'seeingFwhmGeom', 'fiveSigmaDepth'],\n",
    "                               sqlconstraint='night < 5')"
   ]
  },
  {
   "cell_type": "code",
   "execution_count": 14,
   "metadata": {
    "collapsed": true
   },
   "outputs": [],
   "source": [
    "import numbers\n",
    "def angularSeparation(long1, lat1, long2, lat2):\n",
    "    \"\"\"\n",
    "    Angular separation between two points in radians\n",
    "    Parameters\n",
    "    ----------\n",
    "    long1 is the first longitudinal coordinate in radians\n",
    "    lat1 is the first latitudinal coordinate in radians\n",
    "    long2 is the second longitudinal coordinate in radians\n",
    "    lat2 is the second latitudinal coordinate in radians\n",
    "    Returns\n",
    "    -------\n",
    "    The angular separation between the two points in radians\n",
    "    Calculated based on the haversine formula\n",
    "    From http://en.wikipedia.org/wiki/Haversine_formula\n",
    "    \"\"\"\n",
    "    t1 = np.sin(lat2/2.0 - lat1/2.0)**2\n",
    "    t2 = np.cos(lat1)*np.cos(lat2)*np.sin(long2/2.0 - long1/2.0)**2\n",
    "    ss = t1 + t2\n",
    "    ss = np.where(ss<0.0, 0.0, ss)\n",
    "    return 2.0*np.arcsin(np.sqrt(ss))\n",
    "\n",
    "\n",
    "def ssoInCircleFov(ephems, obsData, rFov=2.1):\n",
    "    \"\"\"Determine which observations are within a circular fov for a series of observations.\n",
    "\n",
    "    Parameters\n",
    "    ----------\n",
    "    ephems : np.recarray\n",
    "        Ephemerides for the objects, with RA and Dec as 'ra' and 'dec' columns (in degrees).\n",
    "    obsData : np.recarray\n",
    "        The observation pointings, with RA and Dec as 'ra' and 'dec' columns (in degrees).\n",
    "    rFov : float, opt\n",
    "        The radius of the field of view, in degrees.\n",
    "        Default 2.1 is appropriate for LSST fov if later applying camera footprint.\n",
    "        A value of 1.75 would be appropriate for simple circular LSST FOV assumption.\n",
    "\n",
    "    Returns\n",
    "    -------\n",
    "    np.ndarray\n",
    "        Returns the indexes of the numpy array of the object observations which are inside the fov.\n",
    "    \"\"\"\n",
    "    sep = angularSeparation(np.radians(ephems['ra']), np.radians(ephems['dec']), \n",
    "                            np.radians(obsData['fieldRA']), np.radians(obsData['fieldDec']))\n",
    "    idxObs = np.where(sep <= np.radians(rFov))[0]\n",
    "    return idxObs"
   ]
  },
  {
   "cell_type": "code",
   "execution_count": 15,
   "metadata": {
    "collapsed": true
   },
   "outputs": [],
   "source": [
    "def calcTrailingLosses(velocity, seeing, texp=30.):\n",
    "    \"\"\"Calculate the detection and SNR traiiling losses.\n",
    "\n",
    "    Parameters\n",
    "    ----------\n",
    "    velocity : np.ndarray or float\n",
    "        The velocity of the moving objects, in deg/day.\n",
    "    seeing : np.ndarray or float\n",
    "        The seeing of the images, in arcseconds.\n",
    "    texp : np.ndarray or float, opt\n",
    "        The exposure time of the images, in seconds. Default 30.\n",
    "\n",
    "    Returns\n",
    "    -------\n",
    "    (np.ndarray, np.ndarray) or (float, float)\n",
    "        dmagTrail and dmagDetect for each set of velocity/seeing/texp values.\n",
    "    \"\"\"\n",
    "    a_trail = 0.761\n",
    "    b_trail = 1.162\n",
    "    a_det = 0.420\n",
    "    b_det = 0.003\n",
    "    x = velocity * texp / seeing / 24.0\n",
    "    dmagTrail = 1.25 * np.log10(1 + a_trail * x ** 2 / (1 + b_trail * x))\n",
    "    dmagDetect = 1.25 * np.log10(1 + a_det * x ** 2 / (1 + b_det * x))\n",
    "    return (dmagTrail, dmagDetect)"
   ]
  },
  {
   "cell_type": "code",
   "execution_count": 16,
   "metadata": {
    "collapsed": true
   },
   "outputs": [],
   "source": [
    "#%%timeit 6.71 s ± 252 ms per loop (mean ± std. dev. of 7 runs, 1 loop each)\n",
    "# Timeit magic says this takes about 6.7s per loop, with 5 days of simulated data (2724 visits or 'times')\n",
    "# and only 10 objects.\n",
    "# and note that this is with some extra propagation - orbit epoch is 54800.00000 but \n",
    "# the first visit is at 59853.016793981478  (so there's an extra 13 years of propagation here .. whoops)\n",
    "\n",
    "# Let's try it again with some orbits with a 'faked' epoch that matches t0\n",
    "# Okay, then it's 4.92 s ± 58.3 ms per loop (mean ± std. dev. of 7 runs, 1 loop each) .. so not so different.\n",
    "\n",
    "# 5 days, 10 objects ~ 5-7s ... so for the full 10 years, this is about 5k sec (85 minutes) for 10 objects.\n",
    "# We'd prefer to run for 2k-10k objects, most of the time (for survey completeness kind of stuff) = ~1500 hours\n",
    "# but occasionally would like to run millions of objects for a shorter length of time (say about a month)\n",
    "# Note that both of these cases are pretty trivially parallelizable\n",
    "\n",
    "\n",
    "times = surveydata['observationStartMJD']\n",
    "columns=['objId', 'ra', 'dec', 'delta', 'dradt', 'ddecdt', 'velocity', 'magV', 'phase', 'solarelon',\n",
    "                           'observationStartMJD', 'fieldRA', 'fieldDec', 'filter', 'seeingFwhmGeom', 'fiveSigmaDepth',\n",
    "                           'dmagTrail', 'dmagDetect', 'dmagColor']\n",
    "\n",
    "surveyobs = None\n",
    "for sso in orbits[0:10]:\n",
    "    ephGen.setOrbits(sso)\n",
    "    ephs = ephGen.generateEphemerides(times, obscode='I11', byObject=True)\n",
    "    ephs = ephs[0]\n",
    "    idxObs = ssoInCircleFov(ephs, surveydata, rFov=1.75)\n",
    "    nobs = len(idxObs)\n",
    "    #print('Found %d observations with the telescope for object %s' % (nobs, sso.orbits.objId.values[0]))\n",
    "    if nobs > 0:\n",
    "        obs = ephs[idxObs]\n",
    "        metaobs = surveydata[idxObs]\n",
    "        dmagTrail, dmagDetect = calcTrailingLosses(obs['velocity'], metaobs['seeingFwhmGeom'], 30.)\n",
    "        dmagColor = np.zeros(nobs, float)\n",
    "        d = {'objId': [sso.orbits.objId.values[0]]*nobs,\n",
    "            'ra': obs['ra'], 'dec': obs['dec'], 'delta': obs['delta'],\n",
    "             'dradt': obs['dradt'], 'ddecdt': obs['ddecdt'], 'velocity': obs['velocity'], \n",
    "             'magV': obs['magV'], 'phase': obs['phase'], 'solarelon': obs['solarelon'],\n",
    "             'observationStartMJD': metaobs['observationStartMJD'], 'fieldRA': metaobs['fieldRA'],\n",
    "             'fieldDec': metaobs['fieldDec'], 'filter': metaobs['filter'], \n",
    "             'seeingFwhmGeom': metaobs['seeingFwhmGeom'], 'fiveSigmaDepth': metaobs['fiveSigmaDepth'],\n",
    "             'dmagTrail': dmagTrail, 'dmagDetect': dmagDetect, 'dmagColor': dmagColor}\n",
    "        newobs = pd.DataFrame(d)\n",
    "        if surveyobs is None:\n",
    "            surveyobs = newobs\n",
    "        else:\n",
    "            surveyobs = surveyobs.append(newobs, ignore_index=True)"
   ]
  },
  {
   "cell_type": "code",
   "execution_count": 17,
   "metadata": {},
   "outputs": [
    {
     "data": {
      "text/html": [
       "<div>\n",
       "<style>\n",
       "    .dataframe thead tr:only-child th {\n",
       "        text-align: right;\n",
       "    }\n",
       "\n",
       "    .dataframe thead th {\n",
       "        text-align: left;\n",
       "    }\n",
       "\n",
       "    .dataframe tbody tr th {\n",
       "        vertical-align: top;\n",
       "    }\n",
       "</style>\n",
       "<table border=\"1\" class=\"dataframe\">\n",
       "  <thead>\n",
       "    <tr style=\"text-align: right;\">\n",
       "      <th></th>\n",
       "      <th>ddecdt</th>\n",
       "      <th>dec</th>\n",
       "      <th>delta</th>\n",
       "      <th>dmagColor</th>\n",
       "      <th>dmagDetect</th>\n",
       "      <th>dmagTrail</th>\n",
       "      <th>dradt</th>\n",
       "      <th>fieldDec</th>\n",
       "      <th>fieldRA</th>\n",
       "      <th>filter</th>\n",
       "      <th>fiveSigmaDepth</th>\n",
       "      <th>magV</th>\n",
       "      <th>objId</th>\n",
       "      <th>observationStartMJD</th>\n",
       "      <th>phase</th>\n",
       "      <th>ra</th>\n",
       "      <th>seeingFwhmGeom</th>\n",
       "      <th>solarelon</th>\n",
       "      <th>velocity</th>\n",
       "    </tr>\n",
       "  </thead>\n",
       "  <tbody>\n",
       "    <tr>\n",
       "      <th>0</th>\n",
       "      <td>-0.095931</td>\n",
       "      <td>-4.939275</td>\n",
       "      <td>1.561411</td>\n",
       "      <td>0.0</td>\n",
       "      <td>0.050512</td>\n",
       "      <td>0.058314</td>\n",
       "      <td>-0.117304</td>\n",
       "      <td>-5.689996</td>\n",
       "      <td>335.151362</td>\n",
       "      <td>y</td>\n",
       "      <td>22.194889</td>\n",
       "      <td>24.268074</td>\n",
       "      <td>S1000001a</td>\n",
       "      <td>59855.027905</td>\n",
       "      <td>13.455332</td>\n",
       "      <td>335.047920</td>\n",
       "      <td>0.392831</td>\n",
       "      <td>145.258206</td>\n",
       "      <td>0.151536</td>\n",
       "    </tr>\n",
       "    <tr>\n",
       "      <th>1</th>\n",
       "      <td>-0.093309</td>\n",
       "      <td>-5.036984</td>\n",
       "      <td>1.569287</td>\n",
       "      <td>0.0</td>\n",
       "      <td>0.024441</td>\n",
       "      <td>0.031789</td>\n",
       "      <td>-0.110926</td>\n",
       "      <td>-5.689996</td>\n",
       "      <td>335.151362</td>\n",
       "      <td>y</td>\n",
       "      <td>22.042133</td>\n",
       "      <td>24.292406</td>\n",
       "      <td>S1000001a</td>\n",
       "      <td>59856.062639</td>\n",
       "      <td>13.840847</td>\n",
       "      <td>334.937428</td>\n",
       "      <td>0.546925</td>\n",
       "      <td>144.120853</td>\n",
       "      <td>0.144952</td>\n",
       "    </tr>\n",
       "    <tr>\n",
       "      <th>2</th>\n",
       "      <td>0.102167</td>\n",
       "      <td>-34.439533</td>\n",
       "      <td>1.868874</td>\n",
       "      <td>0.0</td>\n",
       "      <td>0.014623</td>\n",
       "      <td>0.020346</td>\n",
       "      <td>-0.058082</td>\n",
       "      <td>-35.901259</td>\n",
       "      <td>327.493795</td>\n",
       "      <td>z</td>\n",
       "      <td>23.176332</td>\n",
       "      <td>15.093946</td>\n",
       "      <td>S1000009a</td>\n",
       "      <td>59853.087245</td>\n",
       "      <td>17.799468</td>\n",
       "      <td>327.652208</td>\n",
       "      <td>0.575949</td>\n",
       "      <td>127.415100</td>\n",
       "      <td>0.117523</td>\n",
       "    </tr>\n",
       "    <tr>\n",
       "      <th>3</th>\n",
       "      <td>0.102208</td>\n",
       "      <td>-34.439385</td>\n",
       "      <td>1.868890</td>\n",
       "      <td>0.0</td>\n",
       "      <td>0.014442</td>\n",
       "      <td>0.020124</td>\n",
       "      <td>-0.058070</td>\n",
       "      <td>-33.146604</td>\n",
       "      <td>327.373658</td>\n",
       "      <td>z</td>\n",
       "      <td>23.171840</td>\n",
       "      <td>15.093976</td>\n",
       "      <td>S1000009a</td>\n",
       "      <td>59853.088692</td>\n",
       "      <td>17.799758</td>\n",
       "      <td>327.652106</td>\n",
       "      <td>0.579741</td>\n",
       "      <td>127.413830</td>\n",
       "      <td>0.117553</td>\n",
       "    </tr>\n",
       "    <tr>\n",
       "      <th>4</th>\n",
       "      <td>0.106772</td>\n",
       "      <td>-34.234561</td>\n",
       "      <td>1.890874</td>\n",
       "      <td>0.0</td>\n",
       "      <td>0.026070</td>\n",
       "      <td>0.033590</td>\n",
       "      <td>-0.045917</td>\n",
       "      <td>-33.146604</td>\n",
       "      <td>327.373658</td>\n",
       "      <td>y</td>\n",
       "      <td>22.314798</td>\n",
       "      <td>15.134214</td>\n",
       "      <td>S1000009a</td>\n",
       "      <td>59855.043241</td>\n",
       "      <td>18.171668</td>\n",
       "      <td>327.545916</td>\n",
       "      <td>0.424285</td>\n",
       "      <td>125.726006</td>\n",
       "      <td>0.116227</td>\n",
       "    </tr>\n",
       "    <tr>\n",
       "      <th>5</th>\n",
       "      <td>0.106811</td>\n",
       "      <td>-34.234408</td>\n",
       "      <td>1.890891</td>\n",
       "      <td>0.0</td>\n",
       "      <td>0.025629</td>\n",
       "      <td>0.033105</td>\n",
       "      <td>-0.045920</td>\n",
       "      <td>-35.901259</td>\n",
       "      <td>327.493795</td>\n",
       "      <td>y</td>\n",
       "      <td>22.308882</td>\n",
       "      <td>15.134244</td>\n",
       "      <td>S1000009a</td>\n",
       "      <td>59855.044676</td>\n",
       "      <td>18.171944</td>\n",
       "      <td>327.545836</td>\n",
       "      <td>0.428145</td>\n",
       "      <td>125.724753</td>\n",
       "      <td>0.116264</td>\n",
       "    </tr>\n",
       "  </tbody>\n",
       "</table>\n",
       "</div>"
      ],
      "text/plain": [
       "     ddecdt        dec     delta  dmagColor  dmagDetect  dmagTrail     dradt  \\\n",
       "0 -0.095931  -4.939275  1.561411        0.0    0.050512   0.058314 -0.117304   \n",
       "1 -0.093309  -5.036984  1.569287        0.0    0.024441   0.031789 -0.110926   \n",
       "2  0.102167 -34.439533  1.868874        0.0    0.014623   0.020346 -0.058082   \n",
       "3  0.102208 -34.439385  1.868890        0.0    0.014442   0.020124 -0.058070   \n",
       "4  0.106772 -34.234561  1.890874        0.0    0.026070   0.033590 -0.045917   \n",
       "5  0.106811 -34.234408  1.890891        0.0    0.025629   0.033105 -0.045920   \n",
       "\n",
       "    fieldDec     fieldRA filter  fiveSigmaDepth       magV      objId  \\\n",
       "0  -5.689996  335.151362      y       22.194889  24.268074  S1000001a   \n",
       "1  -5.689996  335.151362      y       22.042133  24.292406  S1000001a   \n",
       "2 -35.901259  327.493795      z       23.176332  15.093946  S1000009a   \n",
       "3 -33.146604  327.373658      z       23.171840  15.093976  S1000009a   \n",
       "4 -33.146604  327.373658      y       22.314798  15.134214  S1000009a   \n",
       "5 -35.901259  327.493795      y       22.308882  15.134244  S1000009a   \n",
       "\n",
       "   observationStartMJD      phase          ra  seeingFwhmGeom   solarelon  \\\n",
       "0         59855.027905  13.455332  335.047920        0.392831  145.258206   \n",
       "1         59856.062639  13.840847  334.937428        0.546925  144.120853   \n",
       "2         59853.087245  17.799468  327.652208        0.575949  127.415100   \n",
       "3         59853.088692  17.799758  327.652106        0.579741  127.413830   \n",
       "4         59855.043241  18.171668  327.545916        0.424285  125.726006   \n",
       "5         59855.044676  18.171944  327.545836        0.428145  125.724753   \n",
       "\n",
       "   velocity  \n",
       "0  0.151536  \n",
       "1  0.144952  \n",
       "2  0.117523  \n",
       "3  0.117553  \n",
       "4  0.116227  \n",
       "5  0.116264  "
      ]
     },
     "execution_count": 17,
     "metadata": {},
     "output_type": "execute_result"
    }
   ],
   "source": [
    "surveyobs"
   ]
  },
  {
   "cell_type": "code",
   "execution_count": null,
   "metadata": {
    "collapsed": true
   },
   "outputs": [],
   "source": []
  }
 ],
 "metadata": {
  "kernelspec": {
   "display_name": "Python 3",
   "language": "python",
   "name": "python3"
  },
  "language_info": {
   "codemirror_mode": {
    "name": "ipython",
    "version": 3
   },
   "file_extension": ".py",
   "mimetype": "text/x-python",
   "name": "python",
   "nbconvert_exporter": "python",
   "pygments_lexer": "ipython3",
   "version": "3.6.2"
  }
 },
 "nbformat": 4,
 "nbformat_minor": 2
}
