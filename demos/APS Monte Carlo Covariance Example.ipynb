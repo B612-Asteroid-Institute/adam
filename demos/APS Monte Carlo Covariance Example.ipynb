{
 "cells": [
  {
   "cell_type": "markdown",
   "metadata": {},
   "source": [
    "# This notebook runs a covariance based Monte Carlo propagation in ADAM"
   ]
  },
  {
   "cell_type": "code",
   "execution_count": 1,
   "metadata": {},
   "outputs": [],
   "source": [
    "from adam import PropagationParams\n",
    "from adam import OpmParams\n",
    "from adam import ConfigManager\n",
    "from adam import ProjectsClient\n",
    "from adam import AdamProcessingService\n",
    "from adam import MonteCarloResults\n",
    "import matplotlib.pyplot as plt\n"
   ]
  },
  {
   "cell_type": "markdown",
   "metadata": {},
   "source": [
    "This sets up authenticated access to the server. It needs to be done before pretty much everything you want to do with ADAM."
   ]
  },
  {
   "cell_type": "code",
   "execution_count": 2,
   "metadata": {},
   "outputs": [],
   "source": [
    "# ConfigManager loads the config set up via adamctl.\n",
    "# See the README at https://github.com/B612-Asteroid-Institute/adam_home/blob/master/README.md\n",
    "config = ConfigManager().get_config('dev')\n",
    "project = ProjectsClient().get_project_from_config(config)\n",
    "aps = AdamProcessingService()"
   ]
  },
  {
   "cell_type": "markdown",
   "metadata": {},
   "source": [
    "## Example Inputs"
   ]
  },
  {
   "cell_type": "markdown",
   "metadata": {},
   "source": [
    "The PropagationParameters sent to the propagation API will operate on either Keplerian or Cartesian elements."
   ]
  },
  {
   "cell_type": "code",
   "execution_count": 3,
   "metadata": {},
   "outputs": [],
   "source": [
    "# 6x1 state vector (position [km], velocity [km/s])\n",
    "state_vec = [130347560.13690618,\n",
    "             -74407287.6018632,\n",
    "             -35247598.541470632,\n",
    "             23.935241263310683,\n",
    "             27.146279819258538,\n",
    "             10.346605942591514]\n",
    "\n",
    "# Lower triangular covariance matrix (21 elements in a list)\n",
    "covariance = [3.331349476038534e-04, + \\\n",
    "              4.618927349220216e-04, 6.782421679971363e-04, + \\\n",
    "             -3.070007847730449e-04, -4.221234189514228e-04, 3.231931992380369e-04, + \\\n",
    "             -3.349365033922630e-07, -4.686084221046758e-07, 2.484949578400095e-07, 4.296022805587290e-10, + \\\n",
    "             -2.211832501084875e-07, -2.864186892102733e-07, 1.798098699846038e-07, 2.608899201686016e-10, 1.767514756338532e-10, + \\\n",
    "             -3.041346050686871e-07, -4.989496988610662e-07, 3.540310904497689e-07, 1.869263192954590e-10, 1.008862586240695e-10, 6.224444338635500e-10]"
   ]
  },
  {
   "cell_type": "markdown",
   "metadata": {},
   "source": [
    "### Set Parameters\n",
    "\n",
    "Commented parameters are optional. Uncomment to use."
   ]
  },
  {
   "cell_type": "code",
   "execution_count": 4,
   "metadata": {},
   "outputs": [],
   "source": [
    "propagation_params = PropagationParams({\n",
    "    'start_time': '2017-10-04T00:00:00Z',   # propagation start time in ISO format\n",
    "    'end_time': '2017-10-11T00:00:00Z',     # propagation end time in ISO format\n",
    "\n",
    "    'project_uuid': config['workspace'],\n",
    "    'description': 'Jupyter Covariance Monte Carlo Example',\n",
    "    'monteCarloDraws': 10,\n",
    "    'propagationType': 'MONTE_CARLO',\n",
    "    'stopOnImpact': True,\n",
    "    'step_size': 86400,\n",
    "    'stopOnCloseApproach': False,\n",
    "    'stopOnImpactAltitudeMeters': 500000,\n",
    "    'closeApproachRadiusFromTargetMeters': 7000000000\n",
    "})\n",
    "\n",
    "opm_params = OpmParams({\n",
    "    'epoch': '2017-10-04T00:00:00Z',\n",
    "    'state_vector': state_vec,\n",
    "    'covariance': covariance,   # object covariance\n",
    "            \n",
    "#     'mass': 500.5,              # object mass\n",
    "#     'solar_rad_area': 25.2,     # object solar radiation area (m^2)\n",
    "#     'solar_rad_coeff': 1.2,     # object solar radiation coefficient\n",
    "#     'drag_area': 33.3,          # object drag area (m^2)\n",
    "#     'drag_coeff': 2.5,          # object drag coefficient\n",
    "    \n",
    "})"
   ]
  },
  {
   "cell_type": "markdown",
   "metadata": {},
   "source": [
    "### Submit and Run Propagation"
   ]
  },
  {
   "cell_type": "code",
   "execution_count": 5,
   "metadata": {},
   "outputs": [],
   "source": [
    "batch_run = aps.execute_batch_propagation(\n",
    "    project, \n",
    "    propagation_params, \n",
    "    opm_params, \n",
    "    object_id=\"CartesianCovarianceObject01\",\n",
    "    user_defined_id=\"CartesianCovarianceWorkbook\"\n",
    ")\n"
   ]
  },
  {
   "cell_type": "markdown",
   "metadata": {},
   "source": [
    "### Get Status"
   ]
  },
  {
   "cell_type": "code",
   "execution_count": null,
   "metadata": {
    "scrolled": false
   },
   "outputs": [
    {
     "name": "stdout",
     "output_type": "stream",
     "text": [
      "CREATED\n",
      "CREATED\n",
      "...............RUNNING\n",
      "......"
     ]
    }
   ],
   "source": [
    "# See example notebook on how to search the ADAM system for previous submitted jobs\n",
    "print(batch_run.check_status())\n",
    "batch_run.wait_for_complete(max_wait_sec=500, print_waiting = True)\n",
    "print()\n",
    "print(batch_run.check_status())"
   ]
  },
  {
   "cell_type": "markdown",
   "metadata": {},
   "source": [
    "### Get Number of Runs"
   ]
  },
  {
   "cell_type": "code",
   "execution_count": null,
   "metadata": {},
   "outputs": [],
   "source": [
    "runs_count = batch_run.get_result_ephemeris_count()\n",
    "print(f'# Runs: {runs_count}')"
   ]
  },
  {
   "cell_type": "markdown",
   "metadata": {},
   "source": [
    "### Get Summary Statistics"
   ]
  },
  {
   "cell_type": "code",
   "execution_count": null,
   "metadata": {},
   "outputs": [],
   "source": [
    "stats = batch_run.get_summary()\n",
    "print(stats)\n",
    "print(stats.get_misses())"
   ]
  },
  {
   "cell_type": "markdown",
   "metadata": {},
   "source": [
    "### Get Ephemeris for specific run"
   ]
  },
  {
   "cell_type": "code",
   "execution_count": null,
   "metadata": {},
   "outputs": [],
   "source": [
    "eph = batch_run.get_result_ephemeris(2)\n",
    "print (eph.values[0])\n",
    "eph.plot(x='Epoch', y=['X','Y','Z'])\n",
    "eph.plot(x='Epoch', y=['Vx','Vy','Vz'])\n"
   ]
  },
  {
   "cell_type": "code",
   "execution_count": null,
   "metadata": {},
   "outputs": [],
   "source": [
    "ephem_raw_data = batch_run.get_result_raw_ephemeris(2)\n",
    "print(ephem_raw_data)"
   ]
  },
  {
   "cell_type": "markdown",
   "metadata": {},
   "source": [
    "### Get ending state vector"
   ]
  },
  {
   "cell_type": "code",
   "execution_count": null,
   "metadata": {},
   "outputs": [],
   "source": [
    "end_state_vectors = batch_run.get_final_positions(MonteCarloResults.PositionOrbitType.CLOSE_APPROACH)\n",
    "print(\"Close State Vectors\")\n",
    "if len(end_state_vectors) > 0:\n",
    "    print(f'First close end state: {end_state_vectors[0]}')\n",
    "else:\n",
    "    print(\"None\")\n",
    "\n",
    "\n",
    "end_state_vectors = batch_run.get_final_positions(MonteCarloResults.PositionOrbitType.IMPACT)\n",
    "print(\"Impact State Vectors\")\n",
    "if len(end_state_vectors) > 0:\n",
    "    print(f'First impact end state: {end_state_vectors[0]}')\n",
    "else:\n",
    "    print(\"None\")\n",
    "\n",
    "\n",
    "end_state_vectors = batch_run.get_final_positions(MonteCarloResults.PositionOrbitType.MISS)\n",
    "print(\"Miss State Vectors\")\n",
    "if len(end_state_vectors) > 0:\n",
    "    print(f'First miss end state: {end_state_vectors[0]}')\n",
    "else:\n",
    "    print(\"None\")\n",
    "\n"
   ]
  }
 ],
 "metadata": {
  "kernelspec": {
   "display_name": "Python 3",
   "language": "python",
   "name": "python3"
  },
  "language_info": {
   "codemirror_mode": {
    "name": "ipython",
    "version": 3
   },
   "file_extension": ".py",
   "mimetype": "text/x-python",
   "name": "python",
   "nbconvert_exporter": "python",
   "pygments_lexer": "ipython3",
   "version": "3.7.6"
  }
 },
 "nbformat": 4,
 "nbformat_minor": 1
}
