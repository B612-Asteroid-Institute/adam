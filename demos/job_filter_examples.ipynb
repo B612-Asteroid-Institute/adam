{
 "cells": [
  {
   "cell_type": "code",
   "execution_count": null,
   "metadata": {},
   "outputs": [],
   "source": [
    "import os\n",
    "import requests\n",
    "import time\n",
    "\n",
    "from adam import Batch\n",
    "from adam import Batches\n",
    "from adam import BatchRunManager\n",
    "from adam import PropagationParams\n",
    "from adam import OpmParams\n",
    "from adam import ConfigManager\n",
    "from adam import ProjectsClient\n",
    "from adam import RestRequests\n",
    "from adam import AuthenticatingRestProxy\n",
    "from adam import JobsClient\n",
    "from adam import Comparison\n",
    "\n",
    "# setup\n",
    "config_manager = ConfigManager()\n",
    "config_manager.set_default_env('dev')\n",
    "config = config_manager.get_config()\n",
    "api = AuthenticatingRestProxy(RestRequests())"
   ]
  },
  {
   "cell_type": "code",
   "execution_count": null,
   "metadata": {},
   "outputs": [],
   "source": [
    "jobs_client = JobsClient(api)"
   ]
  },
  {
   "cell_type": "code",
   "execution_count": null,
   "metadata": {},
   "outputs": [],
   "source": [
    "# get all jobs\n",
    "jobs = jobs_client.get_jobs(config['workspace'])\n",
    "print(jobs)"
   ]
  },
  {
   "cell_type": "code",
   "execution_count": null,
   "metadata": {},
   "outputs": [],
   "source": [
    "# filter the jobs by number of Monte Carlo draws\n",
    "filtered_jobs = jobs_client.filter_by_inputs(jobs, ['monteCarloDraws'], Comparison.GreaterThan, 50000)\n",
    "print(filtered_jobs)"
   ]
  },
  {
   "cell_type": "code",
   "execution_count": null,
   "metadata": {},
   "outputs": [],
   "source": [
    "# filter the jobs by submission date: since 2021/03/01\n",
    "import datetime\n",
    "jobs_since_march = jobs_client.get_jobs(config['workspace'], earliest_submission_datetime=datetime.datetime(2021,3,1))\n",
    "print(jobs_since_march)"
   ]
  },
  {
   "cell_type": "code",
   "execution_count": null,
   "metadata": {},
   "outputs": [],
   "source": []
  }
 ],
 "metadata": {
  "kernelspec": {
   "display_name": "Python 3",
   "language": "python",
   "name": "python3"
  },
  "language_info": {
   "codemirror_mode": {
    "name": "ipython",
    "version": 3
   },
   "file_extension": ".py",
   "mimetype": "text/x-python",
   "name": "python",
   "nbconvert_exporter": "python",
   "pygments_lexer": "ipython3",
   "version": "3.7.4"
  }
 },
 "nbformat": 4,
 "nbformat_minor": 4
}
