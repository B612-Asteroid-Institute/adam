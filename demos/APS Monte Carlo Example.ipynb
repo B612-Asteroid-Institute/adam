{
 "cells": [
  {
   "cell_type": "markdown",
   "metadata": {},
   "source": [
    "# This notebook runs a Monte Carlo propagation in ADAM"
   ]
  },
  {
   "cell_type": "code",
   "execution_count": null,
   "metadata": {},
   "outputs": [],
   "source": [
    "from adam import Batch\n",
    "from adam import Batches\n",
    "from adam import BatchRunManager\n",
    "from adam import PropagationParams\n",
    "from adam import OpmParams\n",
    "from adam import ConfigManager\n",
    "from adam import Projects\n",
    "from adam import RestRequests\n",
    "from adam import AuthenticatingRestProxy\n",
    "from adam import AdamProcessingService\n",
    "from adam import BatchPropagationResults\n",
    "import time\n",
    "import os"
   ]
  },
  {
   "cell_type": "markdown",
   "metadata": {},
   "source": [
    "This sets up authenticated access to the server. It needs to be done before pretty much everything you want to do with ADAM."
   ]
  },
  {
   "cell_type": "code",
   "execution_count": null,
   "metadata": {},
   "outputs": [],
   "source": [
    "# ConfigManager loads the config set up via adamctl.\n",
    "# See the README at https://github.com/B612-Asteroid-Institute/adam_home/blob/master/README.md\n",
    "config = ConfigManager().get_config('adam_dev')\n",
    "auth_rest = AuthenticatingRestProxy(RestRequests(config['url']), config['token'])\n",
    "aps = AdamProcessingService(auth_rest)"
   ]
  },
  {
   "cell_type": "markdown",
   "metadata": {},
   "source": [
    "## Example Inputs"
   ]
  },
  {
   "cell_type": "markdown",
   "metadata": {},
   "source": [
    "The PropagationParameters sent to the propagation API will operate on either Keplerian or Cartesian elements."
   ]
  },
  {
   "cell_type": "code",
   "execution_count": null,
   "metadata": {},
   "outputs": [],
   "source": [
    "# Keplerian elements state vector\n",
    "keplerian_elements = {\n",
    "    'semi_major_axis_km': 448793612,\n",
    "    'eccentricity': 0.1,\n",
    "    'inclination_deg': 90,\n",
    "    'ra_of_asc_node_deg': 91,\n",
    "    'arg_of_pericenter_deg': 92,\n",
    "    'true_anomaly_deg': 93,\n",
    "    'gm': 132712440041.9394\n",
    "}\n",
    "\n",
    "# Uncertainties on elements\n",
    "keplerian_sigma = {\n",
    "    'semi_major_axis': 100,\n",
    "    'eccentricity': 0.001,\n",
    "    'inclination': 1,\n",
    "    'ra_of_asc_node': 2,\n",
    "    'arg_of_pericenter': 3,\n",
    "    'true_anomaly': 4,\n",
    "}\n",
    "\n",
    "# Cartesian state vector\n",
    "state_vec = [-150874809.2,\n",
    "             -187234595.3,\n",
    "             -73785026.7,\n",
    "             14.64403935,\n",
    "             -11.75744819,\n",
    "             -5.583528281]\n",
    "\n",
    "cartesian_sigma = {\n",
    "    \"x\": 10,\n",
    "    \"y\": 10,\n",
    "    \"z\": 10,\n",
    "    \"x_dot\": 1,\n",
    "    \"y_dot\": 1,\n",
    "    \"z_dot\": 1    \n",
    "}\n"
   ]
  },
  {
   "cell_type": "markdown",
   "metadata": {},
   "source": [
    "### Set Parameters\n",
    "\n",
    "Commented parameters are optional. Uncomment to use."
   ]
  },
  {
   "cell_type": "code",
   "execution_count": null,
   "metadata": {},
   "outputs": [],
   "source": [
    "propagation_params = PropagationParams({\n",
    "    'start_time': '2001-01-02T01:13:46.62Z',  # propagation start time in ISO format\n",
    "    'end_time': '2010-12-31T01:13:46.62Z',    # propagation end time in ISO format\n",
    "\n",
    "    #'keplerianSigma': keplerian_sigma,\n",
    "    'description': 'Jupyter Example',\n",
    "    'cartesianSigma' : cartesian_sigma,       # comment out if using keplerian\n",
    "    'monteCarloDraws': 10,\n",
    "    'propagationType': 'MONTE_CARLO',\n",
    "    'stopOnImpact': True,\n",
    "    'step_size': 86400,\n",
    "    'stopOnCloseApproach': False,\n",
    "    'stopOnImpactDistanceMeters': 500000,\n",
    "    'closeApproachRadiusFromTargetMeters': 7000000000\n",
    "})\n",
    "\n",
    "opm_params = OpmParams({\n",
    "    'epoch': '2001-01-02T01:13:46Z',\n",
    "    # 'keplerian_elements': keplerian_elements,\n",
    "    'state_vector': state_vec,                # comment out if using keplerian\n",
    "})\n"
   ]
  },
  {
   "cell_type": "markdown",
   "metadata": {},
   "source": [
    "### Submit and Run Propagation"
   ]
  },
  {
   "cell_type": "code",
   "execution_count": null,
   "metadata": {},
   "outputs": [],
   "source": [
    "batch_run = aps.execute_batch_propagation(config['workspace'], propagation_params, opm_params)\n",
    "# batch_run = BatchPropagationResults.fromRESTwithRawIds(auth_rest, config['workspace'], 'efaa4ecc-c6d0-4d57-a769-cd400a3a0997')\n",
    "print(batch_run)"
   ]
  },
  {
   "cell_type": "markdown",
   "metadata": {},
   "source": [
    "### Get Status"
   ]
  },
  {
   "cell_type": "code",
   "execution_count": null,
   "metadata": {
    "scrolled": true
   },
   "outputs": [],
   "source": [
    "print(batch_run.check_status())\n",
    "batch_run.wait_for_complete(print_waiting = True)\n",
    "print()\n",
    "print(batch_run.check_status())"
   ]
  },
  {
   "cell_type": "markdown",
   "metadata": {},
   "source": [
    "### Get Number of Runs"
   ]
  },
  {
   "cell_type": "code",
   "execution_count": null,
   "metadata": {},
   "outputs": [],
   "source": [
    "runs_count = batch_run.get_result_ephemeris_count()\n",
    "print(f'# Runs: {runs_count}')"
   ]
  },
  {
   "cell_type": "markdown",
   "metadata": {},
   "source": [
    "### Get Summary Statistics"
   ]
  },
  {
   "cell_type": "code",
   "execution_count": null,
   "metadata": {},
   "outputs": [],
   "source": [
    "stats = batch_run.get_summary()\n",
    "print(stats)"
   ]
  },
  {
   "cell_type": "markdown",
   "metadata": {},
   "source": [
    "### Get Ephemeris for specific run"
   ]
  },
  {
   "cell_type": "code",
   "execution_count": null,
   "metadata": {},
   "outputs": [],
   "source": [
    "eph = batch_run.get_result_ephemeris(2)\n",
    "print(eph)"
   ]
  },
  {
   "cell_type": "markdown",
   "metadata": {},
   "source": [
    "### Get ending state vector"
   ]
  },
  {
   "cell_type": "code",
   "execution_count": null,
   "metadata": {},
   "outputs": [],
   "source": [
    "end_state_vectors = batch_run.get_final_positions(BatchPropagationResults.PositionOrbitType.CLOSE_APPROACH)\n",
    "print(\"Close State Vectors\")\n",
    "print(f'First close end state: {end_state_vectors[0]}')\n",
    "\n",
    "end_state_vectors = batch_run.get_final_positions(BatchPropagationResults.PositionOrbitType.IMPACT)\n",
    "print(\"Impact State Vectors\")\n",
    "print(len(end_state_vectors))\n",
    "print(f'First impact end state: {end_state_vectors[0]}')\n",
    "\n",
    "end_state_vectors = batch_run.get_final_positions(BatchPropagationResults.PositionOrbitType.MISS)\n",
    "print(\"Miss State Vectors\")\n",
    "print(len(end_state_vectors))\n",
    "print(f'First miss end state: {end_state_vectors[0]}')\n"
   ]
  },
  {
   "cell_type": "code",
   "execution_count": null,
   "metadata": {},
   "outputs": [],
   "source": []
  }
 ],
 "metadata": {
  "kernelspec": {
   "display_name": "Python 3",
   "language": "python",
   "name": "python3"
  },
  "language_info": {
   "codemirror_mode": {
    "name": "ipython",
    "version": 3
   },
   "file_extension": ".py",
   "mimetype": "text/x-python",
   "name": "python",
   "nbconvert_exporter": "python",
   "pygments_lexer": "ipython3",
   "version": "3.7.6"
  }
 },
 "nbformat": 4,
 "nbformat_minor": 1
}
