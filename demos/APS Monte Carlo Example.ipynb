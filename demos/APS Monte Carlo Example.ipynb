{
 "cells": [
  {
   "cell_type": "markdown",
   "metadata": {},
   "source": [
    "# This notebook runs a Monte Carlo propagation in ADAM"
   ]
  },
  {
   "cell_type": "code",
   "execution_count": 11,
   "metadata": {},
   "outputs": [],
   "source": [
    "from adam import PropagationParams\n",
    "from adam import OpmParams\n",
    "from adam import ConfigManager\n",
    "from adam import ProjectsClient\n",
    "from adam import ResultsClient\n",
    "from adam import AdamProcessingService\n",
    "from adam import MonteCarloResults"
   ]
  },
  {
   "cell_type": "markdown",
   "metadata": {},
   "source": [
    "This sets up authenticated access to the server. It needs to be done before pretty much everything you want to do with ADAM."
   ]
  },
  {
   "cell_type": "code",
   "execution_count": 2,
   "metadata": {},
   "outputs": [],
   "source": [
    "# ConfigManager loads the config set up via adamctl.\n",
    "# See the README at https://github.com/B612-Asteroid-Institute/adam_home/blob/master/README.md\n",
    "config_manager = ConfigManager()\n",
    "config_manager.set_default_env('dev')\n",
    "config = config_manager.get_config()\n",
    "project = ProjectsClient().get_project_from_config(config)\n",
    "aps = AdamProcessingService()"
   ]
  },
  {
   "cell_type": "markdown",
   "metadata": {},
   "source": [
    "## Example Inputs"
   ]
  },
  {
   "cell_type": "markdown",
   "metadata": {},
   "source": [
    "The PropagationParameters sent to the propagation API will operate on either Keplerian or Cartesian elements."
   ]
  },
  {
   "cell_type": "code",
   "execution_count": 3,
   "metadata": {},
   "outputs": [],
   "source": [
    "# Keplerian elements state vector\n",
    "keplerian_elements = {\n",
    "    'semi_major_axis_km': 448793612,\n",
    "    'eccentricity': 0.1,\n",
    "    'inclination_deg': 90,\n",
    "    'ra_of_asc_node_deg': 91,\n",
    "    'arg_of_pericenter_deg': 92,\n",
    "    'true_anomaly_deg': 93,\n",
    "    'gm': 132712440041.9394\n",
    "}\n",
    "\n",
    "# Uncertainties on elements\n",
    "keplerian_sigma = {\n",
    "    'semi_major_axis': 100,\n",
    "    'eccentricity': 0.001,\n",
    "    'inclination': 1,\n",
    "    'ra_of_asc_node': 2,\n",
    "    'arg_of_pericenter': 3,\n",
    "    'true_anomaly': 4,\n",
    "}\n",
    "\n",
    "# Cartesian state vector\n",
    "state_vec = [-150874809.2,\n",
    "             -187234595.3,\n",
    "             -73785026.7,\n",
    "             14.64403935,\n",
    "             -11.75744819,\n",
    "             -5.583528281]\n",
    "\n",
    "cartesian_sigma = {\n",
    "    \"x\": 10,\n",
    "    \"y\": 10,\n",
    "    \"z\": 10,\n",
    "    \"x_dot\": 1,\n",
    "    \"y_dot\": 1,\n",
    "    \"z_dot\": 1    \n",
    "}\n"
   ]
  },
  {
   "cell_type": "markdown",
   "metadata": {},
   "source": [
    "### Set Parameters\n",
    "\n",
    "Commented parameters are optional. Uncomment to use."
   ]
  },
  {
   "cell_type": "code",
   "execution_count": 4,
   "metadata": {},
   "outputs": [],
   "source": [
    "propagation_params = PropagationParams({\n",
    "    'start_time': '2001-01-02T01:13:46.62Z',  # propagation start time in ISO format\n",
    "    'end_time': '2010-12-31T01:13:46.62Z',    # propagation end time in ISO format\n",
    "\n",
    "    #'keplerianSigma': keplerian_sigma,\n",
    "    'description': 'Jupyter Example',\n",
    "    'cartesianSigma' : cartesian_sigma,       # comment out if using keplerian\n",
    "    'monteCarloDraws': 10,\n",
    "    'propagationType': 'MONTE_CARLO',\n",
    "    'stopOnImpact': True,\n",
    "    'step_size': 86400,\n",
    "    'stopOnCloseApproach': False,\n",
    "    'stopOnImpactAltitudeMeters': 500000,\n",
    "    'closeApproachRadiusFromTargetMeters': 7000000000\n",
    "})\n",
    "\n",
    "opm_params = OpmParams({\n",
    "    'epoch': '2001-01-02T01:13:46Z',\n",
    "    # 'keplerian_elements': keplerian_elements,\n",
    "    'state_vector': state_vec,                # comment out if using keplerian\n",
    "})\n"
   ]
  },
  {
   "cell_type": "markdown",
   "metadata": {},
   "source": [
    "### Submit and Run Propagation"
   ]
  },
  {
   "cell_type": "code",
   "execution_count": 5,
   "metadata": {},
   "outputs": [],
   "source": [
    "batch_run = aps.execute_batch_propagation(\n",
    "    project, \n",
    "    propagation_params, \n",
    "    opm_params, \n",
    "    object_id=\"MyTestObject10\", # optional field can be used for searching job sets later\n",
    "    user_defined_id=\"MyTestRun10\" # optional field can be used for searching job sets later\n",
    ")"
   ]
  },
  {
   "cell_type": "markdown",
   "metadata": {},
   "source": [
    "### Get Status"
   ]
  },
  {
   "cell_type": "code",
   "execution_count": 6,
   "metadata": {
    "scrolled": true
   },
   "outputs": [
    {
     "name": "stdout",
     "output_type": "stream",
     "text": [
      "CREATED\n",
      "CREATED\n",
      "..........RUNNING\n",
      "......\n",
      "COMPLETED\n"
     ]
    }
   ],
   "source": [
    "print(batch_run.check_status())\n",
    "batch_run.wait_for_complete(max_wait_sec = 500, print_waiting = True)\n",
    "print()\n",
    "print(batch_run.check_status())"
   ]
  },
  {
   "cell_type": "markdown",
   "metadata": {},
   "source": [
    "### Get Number of Runs"
   ]
  },
  {
   "cell_type": "code",
   "execution_count": 7,
   "metadata": {},
   "outputs": [
    {
     "name": "stdout",
     "output_type": "stream",
     "text": [
      "# Runs: 11\n"
     ]
    }
   ],
   "source": [
    "runs_count = batch_run.get_result_ephemeris_count()\n",
    "print(f'# Runs: {runs_count}')"
   ]
  },
  {
   "cell_type": "markdown",
   "metadata": {},
   "source": [
    "### Get Summary Statistics"
   ]
  },
  {
   "cell_type": "code",
   "execution_count": 13,
   "metadata": {},
   "outputs": [
    {
     "name": "stdout",
     "output_type": "stream",
     "text": [
      "MonteCarloSummary(misses=10, close_approaches=2, impacts=1, pc=0.09090909090909091)\n",
      "10\n"
     ]
    }
   ],
   "source": [
    "stats = batch_run.get_summary()\n",
    "print(stats)\n",
    "print(stats.get_misses())"
   ]
  },
  {
   "cell_type": "markdown",
   "metadata": {},
   "source": [
    "### Get Ephemeris for specific run"
   ]
  },
  {
   "cell_type": "code",
   "execution_count": 9,
   "metadata": {},
   "outputs": [
    {
     "name": "stdout",
     "output_type": "stream",
     "text": [
      "                       Epoch             X             Y             Z  \\\n",
      "0    2001-01-02 01:13:46.620 -1.508748e+08 -2.011344e+08  6.781218e+06   \n",
      "1    2001-01-03 01:13:46.620 -1.496813e+08 -2.021521e+08  6.660213e+06   \n",
      "2    2001-01-04 01:13:46.620 -1.484784e+08 -2.031571e+08  6.538794e+06   \n",
      "3    2001-01-05 01:13:46.620 -1.472664e+08 -2.041496e+08  6.416969e+06   \n",
      "4    2001-01-06 01:13:46.620 -1.460452e+08 -2.051294e+08  6.294745e+06   \n",
      "...                      ...           ...           ...           ...   \n",
      "3647 2010-12-28 01:13:44.620  1.177291e+08 -1.322383e+08 -1.277293e+07   \n",
      "3648 2010-12-29 01:13:44.620  1.187780e+08 -1.300741e+08 -1.279998e+07   \n",
      "3649 2010-12-30 01:13:44.620  1.198054e+08 -1.278864e+08 -1.282472e+07   \n",
      "3650 2010-12-31 01:13:44.620  1.208110e+08 -1.256753e+08 -1.284713e+07   \n",
      "3651 2010-12-31 01:13:46.620  1.208110e+08 -1.256753e+08 -1.284713e+07   \n",
      "\n",
      "             Vx         Vy        Vz  \n",
      "0     13.759689 -11.850956 -1.398094  \n",
      "1     13.867910 -11.705752 -1.402934  \n",
      "2     13.975145 -11.559987 -1.407681  \n",
      "3     14.081396 -11.413661 -1.412335  \n",
      "4     14.186667 -11.266776 -1.416898  \n",
      "...         ...        ...       ...  \n",
      "3647  12.260755  24.914144 -0.326245  \n",
      "3648  12.016482  25.185070 -0.299832  \n",
      "3649  11.766258  25.455618 -0.272956  \n",
      "3650  11.509968  25.725696 -0.245612  \n",
      "3651  11.509962  25.725703 -0.245611  \n",
      "\n",
      "[3652 rows x 7 columns]\n"
     ]
    }
   ],
   "source": [
    "eph = batch_run.get_result_ephemeris(2)\n",
    "print(eph)"
   ]
  },
  {
   "cell_type": "markdown",
   "metadata": {},
   "source": [
    "### Get ending state vector"
   ]
  },
  {
   "cell_type": "code",
   "execution_count": 12,
   "metadata": {},
   "outputs": [
    {
     "name": "stdout",
     "output_type": "stream",
     "text": [
      "Close State Vectors\n",
      "First close end state: [numpy.datetime64('2004-10-15T01:13:43.586422'), -153016310.60684204, 4703606844.01722, -3827499475.602997]\n",
      "Impact State Vectors\n",
      "1\n",
      "First impact end state: [numpy.datetime64('2010-12-30T20:56:02.361059'), -4020708.8821298536, -5561542.295034641, -467280.3576559379]\n",
      "Miss State Vectors\n",
      "10\n",
      "First miss end state: [numpy.datetime64('2010-12-31T01:13:46.620000'), -184781982105.40283, -156909115082.23712, -58538558652.59232]\n"
     ]
    }
   ],
   "source": [
    "end_state_vectors = batch_run.get_final_positions(MonteCarloResults.PositionOrbitType.CLOSE_APPROACH)\n",
    "print(\"Close State Vectors\")\n",
    "print(f'First close end state: {end_state_vectors[0]}')\n",
    "\n",
    "end_state_vectors = batch_run.get_final_positions(MonteCarloResults.PositionOrbitType.IMPACT)\n",
    "print(\"Impact State Vectors\")\n",
    "print(len(end_state_vectors))\n",
    "print(f'First impact end state: {end_state_vectors[0]}')\n",
    "\n",
    "end_state_vectors = batch_run.get_final_positions(MonteCarloResults.PositionOrbitType.MISS)\n",
    "print(\"Miss State Vectors\")\n",
    "print(len(end_state_vectors))\n",
    "print(f'First miss end state: {end_state_vectors[0]}')\n"
   ]
  }
 ],
 "metadata": {
  "kernelspec": {
   "display_name": "Python 3",
   "language": "python",
   "name": "python3"
  },
  "language_info": {
   "codemirror_mode": {
    "name": "ipython",
    "version": 3
   },
   "file_extension": ".py",
   "mimetype": "text/x-python",
   "name": "python",
   "nbconvert_exporter": "python",
   "pygments_lexer": "ipython3",
   "version": "3.7.6"
  }
 },
 "nbformat": 4,
 "nbformat_minor": 1
}
