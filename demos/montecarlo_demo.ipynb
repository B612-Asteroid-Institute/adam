{
 "cells": [
  {
   "cell_type": "markdown",
   "metadata": {},
   "source": [
    "# This notebook is to test a single batch run in ADAM"
   ]
  },
  {
   "cell_type": "code",
   "execution_count": null,
   "metadata": {},
   "outputs": [],
   "source": [
    "from adam import Batches\n",
    "from adam import BatchPropagation\n",
    "from adam import BatchPropagations\n",
    "from adam import PropagationParams\n",
    "from adam import OpmParams\n",
    "from adam import ConfigManager\n",
    "from adam import Projects\n",
    "from adam import RestRequests\n",
    "from adam import AuthenticatingRestProxy\n",
    "import time\n",
    "import os"
   ]
  },
  {
   "cell_type": "markdown",
   "metadata": {},
   "source": [
    "This sets up authenticated access to the server. It needs to be done before pretty much everything you want to do with ADAM."
   ]
  },
  {
   "cell_type": "code",
   "execution_count": null,
   "metadata": {},
   "outputs": [],
   "source": [
    "# Reads your config from a file in current directory. For instructions on setting this up, see config_demo notebook.\n",
    "config = ConfigManager().get_config(environment='dev')\n",
    "print(config)\n",
    "auth_rest = AuthenticatingRestProxy(RestRequests(config['url']), config['token'])"
   ]
  },
  {
   "cell_type": "markdown",
   "metadata": {},
   "source": [
    "## Example Inputs"
   ]
  },
  {
   "cell_type": "code",
   "execution_count": null,
   "metadata": {},
   "outputs": [],
   "source": [
    "# Keplerian elements and sigma from John's initial Monte Carlo notebook\n",
    "keplerian_elements = {\n",
    "    'semi_major_axis_km': 2.2321102129031378,\n",
    "    'eccentricity': 0.5836725969822691,\n",
    "    'inclination_deg': 0.889253120260506,\n",
    "    'ra_of_asc_node_deg': 38.46053156164339,\n",
    "    'arg_of_pericenter_deg': 34.36938785036925,\n",
    "    'mean_anomaly_deg': 136.4013846143255,\n",
    "    'gm': 1.327124400419394E11\n",
    "}\n",
    "\n",
    "keplerian_sigma = {\n",
    "    'semi_major_axis_km': 8e-5,\n",
    "    'eccentricity': 1e-4,\n",
    "    'inclination_deg': 1e-1,\n",
    "    'ra_of_asc_node_deg': 8e-2,\n",
    "    'arg_of_pericenter_deg': 8e-2,\n",
    "    'mean_anomaly': 3e-2\n",
    "}"
   ]
  },
  {
   "cell_type": "markdown",
   "metadata": {},
   "source": [
    "### Set Parameters\n",
    "\n",
    "Commented parameters are optional. Uncomment to use."
   ]
  },
  {
   "cell_type": "code",
   "execution_count": null,
   "metadata": {},
   "outputs": [],
   "source": [
    "propagation_params = PropagationParams({\n",
    "    'start_time': '2028-11-01T00:00:00Z',   # propagation start time in ISO format\n",
    "    'end_time': '2030-11-01T00:00:00.0000Z',     # propagation end time in ISO format\n",
    "\n",
    "    'project_uuid': config['workspace'],\n",
    "\n",
    "#     'step_size': 60 * 60,                   # default step size (seconds) is 86400\n",
    "#     'propagator_uuid': '00000000-0000-0000-0000-000000000001',  # default force model is \"all major bodies\"\n",
    "    'description': 'Monte Carlo',       # description of run\n",
    "\n",
    "    'propagationType': 'MONTE_CARLO',\n",
    "    'monteCarloDraws': 100000,\n",
    "    'keplerianSigma': keplerian_sigma\n",
    "})\n",
    "\n",
    "opm_params = OpmParams({\n",
    "    'epoch': '2028-11-01T00:00:00Z',\n",
    "    'keplerian_elements': keplerian_elements,\n",
    "            \n",
    "#     'mass': 500.5,              # object mass\n",
    "#     'solar_rad_area': 25.2,     # object solar radiation area (m^2)\n",
    "#     'solar_rad_coeff': 1.2,     # object solar radiation coefficient\n",
    "#     'drag_area': 33.3,          # object drag area (m^2)\n",
    "#     'drag_coeff': 2.5,          # object drag coefficient\n",
    "    \n",
    "#     'covariance': covariance,   # object covariance\n",
    "#     'perturbation': 3,          # sigma perturbation on state vector\n",
    "#     'hypercube': 'FACES',       # hypercube propagation type\n",
    "    \n",
    "#     'originator': 'Robot',      # originator of run\n",
    "#     'object_name': 'TestObj',   # object name\n",
    "#     'object_id': 'test1234',    # object ID\n",
    "})"
   ]
  },
  {
   "cell_type": "markdown",
   "metadata": {},
   "source": [
    "### Submit and Run Propagation"
   ]
  },
  {
   "cell_type": "code",
   "execution_count": null,
   "metadata": {
    "scrolled": true
   },
   "outputs": [],
   "source": [
    "# Use the new runnable framework to run hypercube\n",
    "batch = BatchPropagation(propagation_params, opm_params)\n",
    "print(\"Submitting OPM:\")\n",
    "print(batch.get_opm_params().generate_opm())"
   ]
  },
  {
   "cell_type": "code",
   "execution_count": null,
   "metadata": {
    "scrolled": true
   },
   "outputs": [],
   "source": [
    "# Submit and wait until batch run is ready\n",
    "batches_api = BatchPropagations(auth_rest)\n",
    "print(batches_api._build_batch_propagation_creation_data(propagation_params, opm_params, 'de77f430-7a4f-407c-93c1-a99cc4cd2909'))\n",
    "batch_uuid = batches_api.insert(batch, 'de77f430-7a4f-407c-93c1-a99cc4cd2909')"
   ]
  },
  {
   "cell_type": "markdown",
   "metadata": {},
   "source": [
    "### Get Status and Parts Count"
   ]
  },
  {
   "cell_type": "code",
   "execution_count": null,
   "metadata": {},
   "outputs": [],
   "source": [
    "# Get final status and parts count\n",
    "print(batch)\n",
    "parts_count = batch.get_summary().get_parts_count()\n",
    "print(batch.get_state_summary())\n",
    "print(\"Final state: %s, part count %s\\n\" % (batch.get_calc_state(), parts_count))"
   ]
  },
  {
   "cell_type": "markdown",
   "metadata": {},
   "source": [
    "### Get Ephemeris of Specified Part"
   ]
  },
  {
   "cell_type": "code",
   "execution_count": null,
   "metadata": {
    "scrolled": false
   },
   "outputs": [],
   "source": [
    "# Get ephemeris of specified part\n",
    "parts = batch.get_results().get_parts()\n",
    "for p in parts:\n",
    "  print(\"part {}:\\n{}\\n\".format(p.get_part_index(), p.get_ephemeris()))"
   ]
  },
  {
   "cell_type": "markdown",
   "metadata": {},
   "source": [
    "### Get ending state vector"
   ]
  },
  {
   "cell_type": "code",
   "execution_count": null,
   "metadata": {},
   "outputs": [],
   "source": [
    "# Get the end state vector (uncomment to use)\n",
    "end_state_vector = batch.get_results().get_end_state_vector()\n",
    "print(\"State vector at the end of propagation:\")\n",
    "print(end_state_vector)"
   ]
  },
  {
   "cell_type": "code",
   "execution_count": null,
   "metadata": {},
   "outputs": [],
   "source": []
  }
 ],
 "metadata": {
  "kernelspec": {
   "display_name": "Python 3",
   "language": "python",
   "name": "python3"
  },
  "language_info": {
   "codemirror_mode": {
    "name": "ipython",
    "version": 3
   },
   "file_extension": ".py",
   "mimetype": "text/x-python",
   "name": "python",
   "nbconvert_exporter": "python",
   "pygments_lexer": "ipython3",
   "version": "3.7.7"
  }
 },
 "nbformat": 4,
 "nbformat_minor": 1
}
