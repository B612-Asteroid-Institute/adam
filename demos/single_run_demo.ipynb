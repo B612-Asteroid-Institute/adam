{
 "cells": [
  {
   "cell_type": "markdown",
   "metadata": {},
   "source": [
    "# This notebook is to test a single batch run in ADAM"
   ]
  },
  {
   "cell_type": "code",
   "execution_count": 1,
   "metadata": {},
   "outputs": [],
   "source": [
    "from adam import Batch\n",
    "from adam import Batches\n",
    "from adam import BatchRunManager\n",
    "from adam import PropagationParams\n",
    "from adam import OpmParams\n",
    "from adam import ConfigManager\n",
    "from adam import Projects\n",
    "from adam import RestRequests\n",
    "from adam import AuthenticatingRestProxy\n",
    "import time\n",
    "import os"
   ]
  },
  {
   "cell_type": "markdown",
   "metadata": {},
   "source": [
    "This sets up authenticated access to the server. It needs to be done before pretty much everything you want to do with ADAM."
   ]
  },
  {
   "cell_type": "code",
   "execution_count": 2,
   "metadata": {},
   "outputs": [],
   "source": [
    "# Reads your config from a file in current directory. For instructions on setting this up, see config_demo notebook.\n",
    "config = ConfigManager().get_config()\n",
    "auth_rest = AuthenticatingRestProxy(RestRequests(config['url']), config['token'])"
   ]
  },
  {
   "cell_type": "markdown",
   "metadata": {},
   "source": [
    "## Example Inputs"
   ]
  },
  {
   "cell_type": "code",
   "execution_count": 3,
   "metadata": {},
   "outputs": [],
   "source": [
    "# 6x1 state vector (position [km], velocity [km/s])\n",
    "state_vec = [130347560.13690618,\n",
    "             -74407287.6018632,\n",
    "             -35247598.541470632,\n",
    "             23.935241263310683,\n",
    "             27.146279819258538,\n",
    "             10.346605942591514]\n",
    "\n",
    "# Lower triangular covariance matrix (21 elements in a list)\n",
    "covariance = [3.331349476038534e-04, + \\\n",
    "              4.618927349220216e-04, 6.782421679971363e-04, + \\\n",
    "             -3.070007847730449e-04, -4.221234189514228e-04, 3.231931992380369e-04, + \\\n",
    "             -3.349365033922630e-07, -4.686084221046758e-07, 2.484949578400095e-07, 4.296022805587290e-10, + \\\n",
    "             -2.211832501084875e-07, -2.864186892102733e-07, 1.798098699846038e-07, 2.608899201686016e-10, 1.767514756338532e-10, + \\\n",
    "             -3.041346050686871e-07, -4.989496988610662e-07, 3.540310904497689e-07, 1.869263192954590e-10, 1.008862586240695e-10, 6.224444338635500e-10]"
   ]
  },
  {
   "cell_type": "markdown",
   "metadata": {},
   "source": [
    "### Set Parameters\n",
    "\n",
    "Commented parameters are optional. Uncomment to use."
   ]
  },
  {
   "cell_type": "code",
   "execution_count": 4,
   "metadata": {},
   "outputs": [],
   "source": [
    "propagation_params = PropagationParams({\n",
    "    'start_time': '2017-10-04T00:00:00Z',   # propagation start time in ISO format\n",
    "    'end_time': '2017-10-11T00:00:00Z',     # propagation end time in ISO format\n",
    "\n",
    "    'project_uuid': config['workspace'],\n",
    "\n",
    "#     'step_size': 60 * 60,                   # step size (seconds)\n",
    "#     'propagator_uuid': '00000000-0000-0000-0000-000000000002',  # force model\n",
    "#     'description': 'some description'       # description of run\n",
    "})\n",
    "\n",
    "opm_params = OpmParams({\n",
    "    'epoch': '2017-10-04T00:00:00Z',\n",
    "    'state_vector': state_vec,\n",
    "            \n",
    "#     'mass': 500.5,              # object mass\n",
    "#     'solar_rad_area': 25.2,     # object solar radiation area (m^2)\n",
    "#     'solar_rad_coeff': 1.2,     # object solar radiation coefficient\n",
    "#     'drag_area': 33.3,          # object drag area (m^2)\n",
    "#     'drag_coeff': 2.5,          # object drag coefficient\n",
    "    \n",
    "#     'covariance': covariance,   # object covariance\n",
    "#     'perturbation': 3,          # sigma perturbation on state vector\n",
    "#     'hypercube': 'FACES',       # hypercube propagation type\n",
    "    \n",
    "#     'originator': 'Robot',      # originator of run\n",
    "#     'object_name': 'TestObj',   # object name\n",
    "#     'object_id': 'test1234',    # object ID\n",
    "})"
   ]
  },
  {
   "cell_type": "markdown",
   "metadata": {},
   "source": [
    "### Submit and Run Propagation"
   ]
  },
  {
   "cell_type": "code",
   "execution_count": 5,
   "metadata": {},
   "outputs": [
    {
     "name": "stdout",
     "output_type": "stream",
     "text": [
      "Submitting OPM:\n",
      "CCSDS_OPM_VERS = 2.0\n",
      "CREATION_DATE = 2020-01-31 01:42:45.015138\n",
      "ORIGINATOR = ADAM_User\n",
      "COMMENT Cartesian coordinate system\n",
      "OBJECT_NAME = dummy\n",
      "OBJECT_ID = 001\n",
      "CENTER_NAME = SUN\n",
      "REF_FRAME = ICRF\n",
      "TIME_SYSTEM = UTC\n",
      "EPOCH = 2017-10-04T00:00:00Z\n",
      "X = 130347560.13690618\n",
      "Y = -74407287.6018632\n",
      "Z = -35247598.54147063\n",
      "X_DOT = 23.935241263310683\n",
      "Y_DOT = 27.146279819258538\n",
      "Z_DOT = 10.346605942591514\n",
      "MASS = 1000.0\n",
      "SOLAR_RAD_AREA = 20.0\n",
      "SOLAR_RAD_COEFF = 1.0\n",
      "DRAG_AREA = 20.0\n",
      "DRAG_COEFF = 2.2\n",
      "\n"
     ]
    }
   ],
   "source": [
    "batch = Batch(propagation_params, opm_params)\n",
    "print(\"Submitting OPM:\")\n",
    "print(batch.get_opm_params().generate_opm())"
   ]
  },
  {
   "cell_type": "code",
   "execution_count": 6,
   "metadata": {},
   "outputs": [
    {
     "name": "stdout",
     "output_type": "stream",
     "text": [
      "[17.709584] Submitting 1 runs.\n",
      "[6.314619] Running.\n",
      "[0.517325] Retrieving propagation results.\n"
     ]
    }
   ],
   "source": [
    "# Submit and wait until batch run is ready\n",
    "batches_module = Batches(auth_rest)\n",
    "BatchRunManager(batches_module, [batch]).run()"
   ]
  },
  {
   "cell_type": "markdown",
   "metadata": {},
   "source": [
    "### Get Status and Parts Count"
   ]
  },
  {
   "cell_type": "code",
   "execution_count": 7,
   "metadata": {},
   "outputs": [
    {
     "name": "stdout",
     "output_type": "stream",
     "text": [
      "Final state: COMPLETED, part count 1\n",
      "\n"
     ]
    }
   ],
   "source": [
    "# Get final status and parts count\n",
    "parts_count = batch.get_state_summary().get_parts_count()\n",
    "print(\"Final state: %s, part count %s\\n\" % (batch.get_calc_state(), parts_count))"
   ]
  },
  {
   "cell_type": "markdown",
   "metadata": {},
   "source": [
    "### Get Ephemeris of Specified Part"
   ]
  },
  {
   "cell_type": "code",
   "execution_count": 8,
   "metadata": {},
   "outputs": [
    {
     "name": "stdout",
     "output_type": "stream",
     "text": [
      "Ephemeris:\n",
      "stk.v.9.0\n",
      "\n",
      "# WrittenBy    STK_Components_2018 r3(18.3.395.0)\n",
      "\n",
      "BEGIN Ephemeris\n",
      "\n",
      "NumberOfEphemerisPoints\t8\n",
      "ScenarioEpoch\t4 Oct 2017 00:00:00\n",
      "InterpolationMethod\tHermite\n",
      "InterpolationSamplesM1\t2\n",
      "CentralBody\tSun\n",
      "CoordinateSystem\tICRF\n",
      "\n",
      "EphemerisTimePosVel\n",
      "\n",
      "0 130347560136.90617 -74407287601.8632 -35247598541.470634 23935.241263310683 27146.27981925854 10346.605942591514\n",
      "86400 132397901142.35962 -72051923842.2795 -34348940383.26344 23525.854645014435 27374.492096848546 10455.050276306205\n",
      "172800 134412746667.10405 -69677241421.15378 -33441072650.973186 23113.65011574464 27593.46699066004 10559.786619242846\n",
      "259200 136391869646.87138 -67284039250.353264 -32524316622.08983 22699.006699408754 27803.188844064465 10660.795195643448\n",
      "345600 138335075572.65045 -64873116848.67935 -31598994968.59646 22282.29878343753 28003.659175729463 10758.06347125273\n",
      "432000 140242202043.74875 -62445272881.82381 -30665431139.52489 21863.895057395603 28194.89611561114 10851.585958183761\n",
      "518400 142113118232.18036 -60001303753.730125 -29723948761.579865 21444.15752242568 28376.933780255644 10941.363992280829\n",
      "604800 143947724264.667 -57542002254.28288 -28774871060.081646 21023.440575257016 28549.821594856 11027.405485916117\n",
      "\n",
      "END Ephemeris\n",
      "\n",
      "\n"
     ]
    }
   ],
   "source": [
    "# Get ephemeris of specified part\n",
    "part_to_get = 0\n",
    "eph = batch.get_results().get_parts()[part_to_get].get_ephemeris()\n",
    "print(\"Ephemeris:\")\n",
    "print(eph)"
   ]
  },
  {
   "cell_type": "markdown",
   "metadata": {},
   "source": [
    "### Get ending state vector"
   ]
  },
  {
   "cell_type": "code",
   "execution_count": 9,
   "metadata": {},
   "outputs": [
    {
     "name": "stdout",
     "output_type": "stream",
     "text": [
      "State vector at the end of propagation:\n",
      "[143947724.264667, -57542002.254282884, -28774871.060081646, 21.023440575257016, 28.549821594856, 11.027405485916118]\n"
     ]
    }
   ],
   "source": [
    "# Get the end state vector (uncomment to use)\n",
    "end_state_vector = batch.get_results().get_end_state_vector()\n",
    "print(\"State vector at the end of propagation:\")\n",
    "print(end_state_vector)"
   ]
  }
 ],
 "metadata": {
  "kernelspec": {
   "display_name": "Python 3",
   "language": "python",
   "name": "python3"
  },
  "language_info": {
   "codemirror_mode": {
    "name": "ipython",
    "version": 3
   },
   "file_extension": ".py",
   "mimetype": "text/x-python",
   "name": "python",
   "nbconvert_exporter": "python",
   "pygments_lexer": "ipython3",
   "version": "3.7.6"
  }
 },
 "nbformat": 4,
 "nbformat_minor": 1
}
