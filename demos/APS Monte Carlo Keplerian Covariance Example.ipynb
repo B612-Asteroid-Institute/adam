{
 "cells": [
  {
   "cell_type": "markdown",
   "metadata": {},
   "source": [
    "# This notebook runs a covariance based Monte Carlo propagation in ADAM"
   ]
  },
  {
   "cell_type": "code",
   "execution_count": 1,
   "metadata": {},
   "outputs": [],
   "source": [
    "from adam import PropagationParams\n",
    "from adam import OpmParams\n",
    "from adam import ConfigManager\n",
    "from adam import ProjectsClient\n",
    "from adam import AdamProcessingService\n",
    "from adam import MonteCarloResults\n",
    "from adam import OrbitEventType\n",
    "import matplotlib.pyplot as plt"
   ]
  },
  {
   "cell_type": "markdown",
   "metadata": {},
   "source": [
    "This sets up authenticated access to the server. It needs to be done before pretty much everything you want to do with ADAM."
   ]
  },
  {
   "cell_type": "code",
   "execution_count": 2,
   "metadata": {},
   "outputs": [],
   "source": [
    "# ConfigManager loads the config set up via adamctl.\n",
    "# See the README at https://github.com/B612-Asteroid-Institute/adam_home/blob/master/README.md\n",
    "config = ConfigManager().get_config('dev')\n",
    "project = ProjectsClient().get_project_from_config(config)\n",
    "aps = AdamProcessingService()"
   ]
  },
  {
   "cell_type": "markdown",
   "metadata": {},
   "source": [
    "## Example Inputs"
   ]
  },
  {
   "cell_type": "markdown",
   "metadata": {},
   "source": [
    "The PropagationParameters sent to the propagation API will operate on either Keplerian or Cartesian elements."
   ]
  },
  {
   "cell_type": "code",
   "execution_count": 3,
   "metadata": {},
   "outputs": [],
   "source": [
    "# from https://newton.spacedys.com/neodys/index.php?pc=1.1.1.1&n=2000SG344\n",
    "# true_anomaly_deg is also available instead of mean_anomaly_deg\n",
    "keplerian_elements = {\n",
    "    'semi_major_axis_km': 146222900,\n",
    "    'eccentricity': 0.066958,\n",
    "    'inclination_deg': 0.112,\n",
    "    'ra_of_asc_node_deg' : 191.912,\n",
    "    'arg_of_pericenter_deg' :  275.347,\n",
    "    'mean_anomaly_deg' : 35.681,\n",
    "    'gm' : 132712440041.93938 #JPL Horizons GM\n",
    "}\n",
    "\n",
    "# Lower triangular covariance matrix (21 elements in a list)\n",
    "covariance = [3.94346903514E+03, + \\\n",
    "             -1.40266786788E-04, 5.00812620000E-12, + \\\n",
    "             -2.91357694324E-04, 1.06017205000E-11, 3.15658331000E-11, + \\\n",
    "             -3.83826656095E-03, 1.40431472000E-10, 2.32155752000E-09, 8.81161492000E-07, + \\\n",
    "             -1.09220523817E-02, 3.62452521000E-10, -1.53067748000E-09, -8.70304198000E-07, 9.42413982000E-07, + \\\n",
    "             -2.96713683611E-01, 1.05830167000E-08, 2.23110293000E-08, 2.93564832000E-07, 7.81029359000E-07, 2.23721205000E-05]"
   ]
  },
  {
   "cell_type": "markdown",
   "metadata": {},
   "source": [
    "### Set Parameters\n",
    "\n",
    "Commented parameters are optional. Uncomment to use."
   ]
  },
  {
   "cell_type": "code",
   "execution_count": 4,
   "metadata": {},
   "outputs": [],
   "source": [
    "propagation_params = PropagationParams({\n",
    "    'start_time': '2017-10-04T00:00:00Z',   # propagation start time in ISO format\n",
    "    'end_time': '2017-10-11T00:00:00Z',     # propagation end time in ISO format\n",
    "\n",
    "    'project_uuid': config['workspace'],\n",
    "    'description': 'Jupyter Keplerian Covariance Monte Carlo Example',\n",
    "    'monteCarloDraws': 10,\n",
    "    'propagationType': 'MONTE_CARLO',\n",
    "    'stopOnImpact': True,\n",
    "    'step_size': 86400,\n",
    "    'stopOnCloseApproach': False,\n",
    "    'stopOnImpactAltitudeMeters': 500000,\n",
    "    'closeApproachRadiusFromTargetMeters': 7000000000\n",
    "})\n",
    "\n",
    "opm_params = OpmParams({\n",
    "    'epoch': '2017-10-04T00:00:00Z',\n",
    "    'keplerian_elements': keplerian_elements,\n",
    "    'keplerian_covariance': covariance,   # object covariance\n",
    "            \n",
    "#     'mass': 500.5,              # object mass\n",
    "#     'solar_rad_area': 25.2,     # object solar radiation area (m^2)\n",
    "#     'solar_rad_coeff': 1.2,     # object solar radiation coefficient\n",
    "#     'drag_area': 33.3,          # object drag area (m^2)\n",
    "#     'drag_coeff': 2.5,          # object drag coefficient\n",
    "    \n",
    "})"
   ]
  },
  {
   "cell_type": "markdown",
   "metadata": {},
   "source": [
    "### Submit and Run Propagation"
   ]
  },
  {
   "cell_type": "code",
   "execution_count": null,
   "metadata": {
    "scrolled": true
   },
   "outputs": [],
   "source": [
    "batch_run = aps.execute_batch_propagation(\n",
    "    project, \n",
    "    propagation_params, \n",
    "    opm_params, \n",
    "    object_id=\"KeplerianCovarianceObject01\",\n",
    "    user_defined_id=\"KeplerianCovarianceWorkbook\"\n",
    ")"
   ]
  },
  {
   "cell_type": "markdown",
   "metadata": {},
   "source": [
    "### Get Status"
   ]
  },
  {
   "cell_type": "code",
   "execution_count": 6,
   "metadata": {
    "scrolled": true
   },
   "outputs": [
    {
     "name": "stdout",
     "output_type": "stream",
     "text": [
      "CREATED\n",
      "CREATED\n",
      ".............RUNNING\n",
      ".....\n",
      "COMPLETED\n"
     ]
    }
   ],
   "source": [
    "# See example notebook on how to search the ADAM system for previous submitted jobs\n",
    "print(batch_run.check_status())\n",
    "batch_run.wait_for_complete(max_wait_sec=500, print_waiting = True)\n",
    "print()\n",
    "print(batch_run.check_status())"
   ]
  },
  {
   "cell_type": "markdown",
   "metadata": {},
   "source": [
    "### Get Summary Statistics"
   ]
  },
  {
   "cell_type": "code",
   "execution_count": 7,
   "metadata": {},
   "outputs": [
    {
     "name": "stdout",
     "output_type": "stream",
     "text": [
      "MonteCarloSummary(misses=11, close_approaches=0, impacts=0, pc=0.0)\n",
      "11\n"
     ]
    }
   ],
   "source": [
    "stats = batch_run.get_summary()\n",
    "print(stats)\n",
    "print(stats.get_misses())"
   ]
  },
  {
   "cell_type": "markdown",
   "metadata": {},
   "source": [
    "### Get Ephemeris for specific run"
   ]
  },
  {
   "cell_type": "code",
   "execution_count": 8,
   "metadata": {},
   "outputs": [
    {
     "name": "stdout",
     "output_type": "stream",
     "text": [
      "       Epoch             X             Y             Z         Vx         Vy  \\\n",
      "0 2017-10-04 -1.171214e+08  6.777029e+07 -2.958767e+07 -18.050466 -23.957754   \n",
      "1 2017-10-05 -1.186591e+08  6.568785e+07 -2.868076e+07 -17.542400 -24.245335   \n",
      "2 2017-10-06 -1.201526e+08  6.358098e+07 -2.776319e+07 -17.029093 -24.523191   \n",
      "3 2017-10-07 -1.216015e+08  6.145052e+07 -2.683531e+07 -16.510792 -24.791251   \n",
      "4 2017-10-08 -1.230055e+08  5.929733e+07 -2.589751e+07 -15.987743 -25.049451   \n",
      "5 2017-10-09 -1.243641e+08  5.712226e+07 -2.495015e+07 -15.460195 -25.297733   \n",
      "6 2017-10-10 -1.256769e+08  5.492617e+07 -2.399361e+07 -14.928395 -25.536046   \n",
      "7 2017-10-11 -1.269436e+08  5.270992e+07 -2.302827e+07 -14.392592 -25.764343   \n",
      "\n",
      "          Vz  \n",
      "0  10.433493  \n",
      "1  10.559056  \n",
      "2  10.680384  \n",
      "3  10.797444  \n",
      "4  10.910210  \n",
      "5  11.018655  \n",
      "6  11.122758  \n",
      "7  11.222497  \n"
     ]
    },
    {
     "data": {
      "text/plain": [
       "<AxesSubplot:xlabel='Epoch'>"
      ]
     },
     "execution_count": 8,
     "metadata": {},
     "output_type": "execute_result"
    },
    {
     "data": {
      "image/png": "[encoded data removed]",
      "text/plain": [
       "<Figure size 432x288 with 1 Axes>"
      ]
     },
     "metadata": {
      "needs_background": "light"
     },
     "output_type": "display_data"
    },
    {
     "data": {
      "image/png": "[encoded data removed]",
      "text/plain": [
       "<Figure size 432x288 with 1 Axes>"
      ]
     },
     "metadata": {
      "needs_background": "light"
     },
     "output_type": "display_data"
    }
   ],
   "source": [
    "eph = batch_run.get_ephemeris_as_dataframe(2)\n",
    "print(eph)\n",
    "eph.plot(x='Epoch', y=['X','Y','Z'])\n",
    "eph.plot(x='Epoch', y=['Vx','Vy','Vz'])"
   ]
  },
  {
   "cell_type": "code",
   "execution_count": 9,
   "metadata": {},
   "outputs": [
    {
     "name": "stdout",
     "output_type": "stream",
     "text": [
      "stk.v.11.0\n",
      "BEGIN Ephemeris\n",
      "ScenarioEpoch 04 Oct 2017 00:00:00.000000\n",
      "CentralBody SUN\n",
      "CoordinateSystem ICRF\n",
      "InterpolationMethod HERMITE\n",
      "InterpolationOrder 5\n",
      "NumberOfEphemerisPoints 8\n",
      "\n",
      "EphemerisTimePosVel\n",
      "0.000000000000e+00 -1.171214013517e+11 7.394732652019e+10 -1.886822514175e+08 -1.805046562904e+04 -2.613101426534e+04 4.269553588623e+01\n",
      "8.640000000000e+04 -1.186590517895e+11 7.167597477504e+10 -1.849582777052e+08 -1.754240031026e+04 -2.644481117664e+04 4.350457805057e+01\n",
      "1.728000000000e+05 -1.201525771618e+11 6.937796866428e+10 -1.811651791299e+08 -1.702909322465e+04 -2.674800013735e+04 4.429560675089e+01\n",
      "2.592000000000e+05 -1.216015352532e+11 6.705422807413e+10 -1.773045226884e+08 -1.651079151974e+04 -2.704050449973e+04 4.506837787666e+01\n",
      "3.456000000000e+05 -1.230055052211e+11 6.470567922514e+10 -1.733778959434e+08 -1.598774276089e+04 -2.732225427651e+04 4.582265944850e+01\n",
      "4.320000000000e+05 -1.243640876231e+11 6.233325409870e+10 -1.693869059833e+08 -1.546019472373e+04 -2.759318609327e+04 4.655823142397e+01\n",
      "5.184000000000e+05 -1.256769044265e+11 5.993788986802e+10 -1.653331784012e+08 -1.492839519070e+04 -2.785324313361e+04 4.727488545219e+01\n",
      "6.048000000000e+05 -1.269435989999e+11 5.752052833416e+10 -1.612183562971e+08 -1.439259175214e+04 -2.810237507732e+04 4.797242457442e+01\n",
      "\n",
      "\n",
      "END Ephemeris\n",
      "\n"
     ]
    }
   ],
   "source": [
    "ephem_raw_data = batch_run.get_ephemeris_content(2)\n",
    "print(ephem_raw_data)"
   ]
  },
  {
   "cell_type": "markdown",
   "metadata": {},
   "source": [
    "### Get ending state vector"
   ]
  },
  {
   "cell_type": "code",
   "execution_count": 10,
   "metadata": {},
   "outputs": [
    {
     "name": "stdout",
     "output_type": "stream",
     "text": [
      "\n",
      "Close State Vectors\n",
      "None\n",
      "\n",
      "Impact State Vectors\n",
      "None\n",
      "\n",
      "Miss State Vectors\n",
      "First miss end state:\n",
      "epoch    2017-10-11T00:00:00Z\n",
      "x        -269283286686.194489\n",
      "y           16022240493.69976\n",
      "z         -18148301392.883297\n",
      "xdot            -14391.486058\n",
      "ydot            -28102.904726\n",
      "zdot                47.975807\n",
      "Name: 0, dtype: object\n"
     ]
    }
   ],
   "source": [
    "close_approach_states = batch_run.get_states_dataframe(OrbitEventType.CLOSE_APPROACH)\n",
    "print(\"\\nClose State Vectors\")\n",
    "if not close_approach_states.empty:\n",
    "    print(f'First close approach state:\\n{close_approach_states.loc[0]}')\n",
    "else:\n",
    "    print(\"None\")\n",
    "\n",
    "\n",
    "impact_states = batch_run.get_states_dataframe(OrbitEventType.IMPACT)\n",
    "print(\"\\nImpact State Vectors\")\n",
    "if not impact_states.empty:\n",
    "    print(f'First impact end state:\\n{impact_states.loc[0]}')\n",
    "else:\n",
    "    print(\"None\")\n",
    "\n",
    "\n",
    "miss_states = batch_run.get_states_dataframe(OrbitEventType.MISS)\n",
    "print(\"\\nMiss State Vectors\")\n",
    "if not miss_states.empty:\n",
    "    print(f'First miss end state:\\n{miss_states.loc[0]}')\n",
    "else:\n",
    "    print(\"None\")\n"
   ]
  },
  {
   "cell_type": "code",
   "execution_count": null,
   "metadata": {},
   "outputs": [],
   "source": []
  }
 ],
 "metadata": {
  "kernelspec": {
   "display_name": "Python 3",
   "language": "python",
   "name": "python3"
  },
  "language_info": {
   "codemirror_mode": {
    "name": "ipython",
    "version": 3
   },
   "file_extension": ".py",
   "mimetype": "text/x-python",
   "name": "python",
   "nbconvert_exporter": "python",
   "pygments_lexer": "ipython3",
   "version": "3.9.2"
  }
 },
 "nbformat": 4,
 "nbformat_minor": 1
}
