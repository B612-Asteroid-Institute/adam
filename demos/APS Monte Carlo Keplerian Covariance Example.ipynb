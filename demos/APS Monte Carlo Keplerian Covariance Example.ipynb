{
 "cells": [
  {
   "cell_type": "markdown",
   "metadata": {},
   "source": [
    "# This notebook runs a covariance based Monte Carlo propagation in ADAM"
   ]
  },
  {
   "cell_type": "code",
   "execution_count": 1,
   "metadata": {},
   "outputs": [],
   "source": [
    "from adam import Batch\n",
    "from adam import Batches\n",
    "from adam import BatchRunManager\n",
    "from adam import PropagationParams\n",
    "from adam import OpmParams\n",
    "from adam import ConfigManager\n",
    "from adam import Projects\n",
    "from adam import RestRequests\n",
    "from adam import AuthenticatingRestProxy\n",
    "from adam import AdamProcessingService\n",
    "from adam import BatchPropagationResults\n",
    "import time\n",
    "import os"
   ]
  },
  {
   "cell_type": "markdown",
   "metadata": {},
   "source": [
    "This sets up authenticated access to the server. It needs to be done before pretty much everything you want to do with ADAM."
   ]
  },
  {
   "cell_type": "code",
   "execution_count": 2,
   "metadata": {},
   "outputs": [],
   "source": [
    "# ConfigManager loads the config set up via adamctl.\n",
    "# See the README at https://github.com/B612-Asteroid-Institute/adam_home/blob/master/README.md\n",
    "config_manager = ConfigManager()\n",
    "config_manager.set_default_env('dev')\n",
    "config = config_manager.get_config()\n",
    "auth_rest = AuthenticatingRestProxy(RestRequests())\n",
    "aps = AdamProcessingService(auth_rest)"
   ]
  },
  {
   "cell_type": "markdown",
   "metadata": {},
   "source": [
    "## Example Inputs"
   ]
  },
  {
   "cell_type": "markdown",
   "metadata": {},
   "source": [
    "The PropagationParameters sent to the propagation API will operate on either Keplerian or Cartesian elements."
   ]
  },
  {
   "cell_type": "code",
   "execution_count": 3,
   "metadata": {},
   "outputs": [],
   "source": [
    "# from https://newton.spacedys.com/neodys/index.php?pc=1.1.1.1&n=2000SG344\n",
    "# true_anomaly_deg is also available instead of mean_anomaly_deg\n",
    "keplerian_elements = {\n",
    "    'semi_major_axis_km': 146222900,\n",
    "    'eccentricity': 0.066958,\n",
    "    'inclination_deg': 0.112,\n",
    "    'ra_of_asc_node_deg' : 191.912,\n",
    "    'arg_of_pericenter_deg' :  275.347,\n",
    "    'mean_anomaly_deg' : 35.681,\n",
    "    'gm' : 132712440041.93938 #JPL Horizons GM\n",
    "}\n",
    "\n",
    "# Lower triangular covariance matrix (21 elements in a list)\n",
    "covariance = [3.94346903514E+03, + \\\n",
    "             -1.40266786788E-04, 5.00812620000E-12, + \\\n",
    "             -2.91357694324E-04, 1.06017205000E-11, 3.15658331000E-11, + \\\n",
    "             -3.83826656095E-03, 1.40431472000E-10, 2.32155752000E-09, 8.81161492000E-07, + \\\n",
    "             -1.09220523817E-02, 3.62452521000E-10, -1.53067748000E-09, -8.70304198000E-07, 9.42413982000E-07, + \\\n",
    "             -2.96713683611E-01, 1.05830167000E-08, 2.23110293000E-08, 2.93564832000E-07, 7.81029359000E-07, 2.23721205000E-05]"
   ]
  },
  {
   "cell_type": "markdown",
   "metadata": {},
   "source": [
    "### Set Parameters\n",
    "\n",
    "Commented parameters are optional. Uncomment to use."
   ]
  },
  {
   "cell_type": "code",
   "execution_count": 4,
   "metadata": {},
   "outputs": [],
   "source": [
    "propagation_params = PropagationParams({\n",
    "    'start_time': '2017-10-04T00:00:00Z',   # propagation start time in ISO format\n",
    "    'end_time': '2017-10-11T00:00:00Z',     # propagation end time in ISO format\n",
    "\n",
    "    'project_uuid': config['workspace'],\n",
    "    'description': 'Jupyter Keplerian Covariance Monte Carlo Example',\n",
    "    'monteCarloDraws': 10,\n",
    "    'propagationType': 'MONTE_CARLO',\n",
    "    'stopOnImpact': True,\n",
    "    'step_size': 86400,\n",
    "    'stopOnCloseApproach': False,\n",
    "    'stopOnImpactAltitudeMeters': 500000,\n",
    "    'closeApproachRadiusFromTargetMeters': 7000000000\n",
    "})\n",
    "\n",
    "opm_params = OpmParams({\n",
    "    'epoch': '2017-10-04T00:00:00Z',\n",
    "    'keplerian_elements': keplerian_elements,\n",
    "    'keplerian_covariance': covariance,   # object covariance\n",
    "            \n",
    "#     'mass': 500.5,              # object mass\n",
    "#     'solar_rad_area': 25.2,     # object solar radiation area (m^2)\n",
    "#     'solar_rad_coeff': 1.2,     # object solar radiation coefficient\n",
    "#     'drag_area': 33.3,          # object drag area (m^2)\n",
    "#     'drag_coeff': 2.5,          # object drag coefficient\n",
    "    \n",
    "})"
   ]
  },
  {
   "cell_type": "markdown",
   "metadata": {},
   "source": [
    "### Submit and Run Propagation"
   ]
  },
  {
   "cell_type": "code",
   "execution_count": 5,
   "metadata": {},
   "outputs": [
    {
     "name": "stdout",
     "output_type": "stream",
     "text": [
      "{'job_uuid': '8bba9eec-7523-41e5-8af6-e610396ce1bf', 'results': None}\n"
     ]
    }
   ],
   "source": [
    "batch_run = aps.execute_batch_propagation(config['workspace'], propagation_params, opm_params)\n",
    "# batch_run = BatchPropagationResults.fromRESTwithRawIds(auth_rest, config['workspace'], 'efaa4ecc-c6d0-4d57-a769-cd400a3a0997')\n",
    "print(batch_run)"
   ]
  },
  {
   "cell_type": "markdown",
   "metadata": {},
   "source": [
    "### Get Status"
   ]
  },
  {
   "cell_type": "code",
   "execution_count": 7,
   "metadata": {
    "scrolled": true
   },
   "outputs": [
    {
     "name": "stdout",
     "output_type": "stream",
     "text": [
      "COMPLETED\n",
      "\n",
      "COMPLETED\n"
     ]
    }
   ],
   "source": [
    "print(batch_run.check_status())\n",
    "batch_run.wait_for_complete(print_waiting = True)\n",
    "print()\n",
    "print(batch_run.check_status())"
   ]
  },
  {
   "cell_type": "markdown",
   "metadata": {},
   "source": [
    "### Get Number of Runs"
   ]
  },
  {
   "cell_type": "code",
   "execution_count": 8,
   "metadata": {},
   "outputs": [
    {
     "name": "stdout",
     "output_type": "stream",
     "text": [
      "# Runs: 11\n"
     ]
    }
   ],
   "source": [
    "runs_count = batch_run.get_result_ephemeris_count()\n",
    "print(f'# Runs: {runs_count}')"
   ]
  },
  {
   "cell_type": "markdown",
   "metadata": {},
   "source": [
    "### Get Summary Statistics"
   ]
  },
  {
   "cell_type": "code",
   "execution_count": 9,
   "metadata": {},
   "outputs": [
    {
     "name": "stdout",
     "output_type": "stream",
     "text": [
      "{'misses': 11, 'close_approach': 0, 'impacts': 0, 'pc': 0.0}\n"
     ]
    }
   ],
   "source": [
    "stats = batch_run.get_summary()\n",
    "print(stats)"
   ]
  },
  {
   "cell_type": "markdown",
   "metadata": {},
   "source": [
    "### Get Ephemeris for specific run"
   ]
  },
  {
   "cell_type": "code",
   "execution_count": 10,
   "metadata": {},
   "outputs": [
    {
     "name": "stdout",
     "output_type": "stream",
     "text": [
      "       Epoch             X             Y             Z         Vx         Vy  \\\n",
      "0 2017-10-04 -1.171198e+08  6.777254e+07 -2.958866e+07 -18.050997 -23.957429   \n",
      "1 2017-10-05 -1.186575e+08  6.569012e+07 -2.868176e+07 -17.542938 -24.245020   \n",
      "2 2017-10-06 -1.201511e+08  6.358328e+07 -2.776420e+07 -17.029637 -24.522886   \n",
      "3 2017-10-07 -1.216001e+08  6.145285e+07 -2.683634e+07 -16.511341 -24.790957   \n",
      "4 2017-10-08 -1.230041e+08  5.929969e+07 -2.589855e+07 -15.988298 -25.049167   \n",
      "5 2017-10-09 -1.243627e+08  5.712464e+07 -2.495120e+07 -15.460755 -25.297460   \n",
      "6 2017-10-10 -1.256756e+08  5.492857e+07 -2.399467e+07 -14.928961 -25.535783   \n",
      "7 2017-10-11 -1.269423e+08  5.271235e+07 -2.302933e+07 -14.393162 -25.764090   \n",
      "\n",
      "          Vz  \n",
      "0  10.433353  \n",
      "1  10.558921  \n",
      "2  10.680252  \n",
      "3  10.797318  \n",
      "4  10.910088  \n",
      "5  11.018538  \n",
      "6  11.122645  \n",
      "7  11.222388  \n"
     ]
    }
   ],
   "source": [
    "eph = batch_run.get_result_ephemeris(2)\n",
    "print(eph)"
   ]
  },
  {
   "cell_type": "markdown",
   "metadata": {},
   "source": [
    "### Get ending state vector"
   ]
  },
  {
   "cell_type": "code",
   "execution_count": 11,
   "metadata": {},
   "outputs": [
    {
     "name": "stdout",
     "output_type": "stream",
     "text": [
      "Close State Vectors\n",
      "None\n",
      "Impact State Vectors\n",
      "None\n",
      "Miss State Vectors\n",
      "First miss end state: [-269287324584.73828, 16013894239.062584, -18148304071.962654]\n"
     ]
    }
   ],
   "source": [
    "end_state_vectors = batch_run.get_final_positions(BatchPropagationResults.PositionOrbitType.CLOSE_APPROACH)\n",
    "print(\"Close State Vectors\")\n",
    "if len(end_state_vectors) > 0:\n",
    "    print(f'First close end state: {end_state_vectors[0]}')\n",
    "else:\n",
    "    print(\"None\")\n",
    "\n",
    "\n",
    "end_state_vectors = batch_run.get_final_positions(BatchPropagationResults.PositionOrbitType.IMPACT)\n",
    "print(\"Impact State Vectors\")\n",
    "if len(end_state_vectors) > 0:\n",
    "    print(f'First impact end state: {end_state_vectors[0]}')\n",
    "else:\n",
    "    print(\"None\")\n",
    "\n",
    "\n",
    "end_state_vectors = batch_run.get_final_positions(BatchPropagationResults.PositionOrbitType.MISS)\n",
    "print(\"Miss State Vectors\")\n",
    "if len(end_state_vectors) > 0:\n",
    "    print(f'First miss end state: {end_state_vectors[0]}')\n",
    "else:\n",
    "    print(\"None\")\n",
    "\n"
   ]
  },
  {
   "cell_type": "code",
   "execution_count": null,
   "metadata": {},
   "outputs": [],
   "source": []
  }
 ],
 "metadata": {
  "kernelspec": {
   "display_name": "Python 3",
   "language": "python",
   "name": "python3"
  },
  "language_info": {
   "codemirror_mode": {
    "name": "ipython",
    "version": 3
   },
   "file_extension": ".py",
   "mimetype": "text/x-python",
   "name": "python",
   "nbconvert_exporter": "python",
   "pygments_lexer": "ipython3",
   "version": "3.8.5"
  }
 },
 "nbformat": 4,
 "nbformat_minor": 1
}
