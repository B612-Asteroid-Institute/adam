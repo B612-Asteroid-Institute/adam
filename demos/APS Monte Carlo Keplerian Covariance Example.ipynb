{
 "cells": [
  {
   "cell_type": "markdown",
   "metadata": {},
   "source": [
    "# This notebook runs a covariance based Monte Carlo propagation in ADAM"
   ]
  },
  {
   "cell_type": "code",
   "execution_count": 1,
   "metadata": {},
   "outputs": [],
   "source": [
    "from adam import PropagationParams\n",
    "from adam import OpmParams\n",
    "from adam import ConfigManager\n",
    "from adam import ProjectsClient\n",
    "from adam import AdamProcessingService\n",
    "from adam import MonteCarloResults\n",
    "import matplotlib.pyplot as plt"
   ]
  },
  {
   "cell_type": "markdown",
   "metadata": {},
   "source": [
    "This sets up authenticated access to the server. It needs to be done before pretty much everything you want to do with ADAM."
   ]
  },
  {
   "cell_type": "code",
   "execution_count": 2,
   "metadata": {},
   "outputs": [],
   "source": [
    "# ConfigManager loads the config set up via adamctl.\n",
    "# See the README at https://github.com/B612-Asteroid-Institute/adam_home/blob/master/README.md\n",
    "config = ConfigManager().get_config('dev')\n",
    "project = ProjectsClient().get_project_from_config(config)\n",
    "aps = AdamProcessingService()"
   ]
  },
  {
   "cell_type": "markdown",
   "metadata": {},
   "source": [
    "## Example Inputs"
   ]
  },
  {
   "cell_type": "markdown",
   "metadata": {},
   "source": [
    "The PropagationParameters sent to the propagation API will operate on either Keplerian or Cartesian elements."
   ]
  },
  {
   "cell_type": "code",
   "execution_count": 3,
   "metadata": {},
   "outputs": [],
   "source": [
    "# from https://newton.spacedys.com/neodys/index.php?pc=1.1.1.1&n=2000SG344\n",
    "# true_anomaly_deg is also available instead of mean_anomaly_deg\n",
    "keplerian_elements = {\n",
    "    'semi_major_axis_km': 146222900,\n",
    "    'eccentricity': 0.066958,\n",
    "    'inclination_deg': 0.112,\n",
    "    'ra_of_asc_node_deg' : 191.912,\n",
    "    'arg_of_pericenter_deg' :  275.347,\n",
    "    'mean_anomaly_deg' : 35.681,\n",
    "    'gm' : 132712440041.93938 #JPL Horizons GM\n",
    "}\n",
    "\n",
    "# Lower triangular covariance matrix (21 elements in a list)\n",
    "covariance = [3.94346903514E+03, + \\\n",
    "             -1.40266786788E-04, 5.00812620000E-12, + \\\n",
    "             -2.91357694324E-04, 1.06017205000E-11, 3.15658331000E-11, + \\\n",
    "             -3.83826656095E-03, 1.40431472000E-10, 2.32155752000E-09, 8.81161492000E-07, + \\\n",
    "             -1.09220523817E-02, 3.62452521000E-10, -1.53067748000E-09, -8.70304198000E-07, 9.42413982000E-07, + \\\n",
    "             -2.96713683611E-01, 1.05830167000E-08, 2.23110293000E-08, 2.93564832000E-07, 7.81029359000E-07, 2.23721205000E-05]"
   ]
  },
  {
   "cell_type": "markdown",
   "metadata": {},
   "source": [
    "### Set Parameters\n",
    "\n",
    "Commented parameters are optional. Uncomment to use."
   ]
  },
  {
   "cell_type": "code",
   "execution_count": 4,
   "metadata": {},
   "outputs": [],
   "source": [
    "propagation_params = PropagationParams({\n",
    "    'start_time': '2017-10-04T00:00:00Z',   # propagation start time in ISO format\n",
    "    'end_time': '2017-10-11T00:00:00Z',     # propagation end time in ISO format\n",
    "\n",
    "    'project_uuid': config['workspace'],\n",
    "    'description': 'Jupyter Keplerian Covariance Monte Carlo Example',\n",
    "    'monteCarloDraws': 10,\n",
    "    'propagationType': 'MONTE_CARLO',\n",
    "    'stopOnImpact': True,\n",
    "    'step_size': 86400,\n",
    "    'stopOnCloseApproach': False,\n",
    "    'stopOnImpactAltitudeMeters': 500000,\n",
    "    'closeApproachRadiusFromTargetMeters': 7000000000\n",
    "})\n",
    "\n",
    "opm_params = OpmParams({\n",
    "    'epoch': '2017-10-04T00:00:00Z',\n",
    "    'keplerian_elements': keplerian_elements,\n",
    "    'keplerian_covariance': covariance,   # object covariance\n",
    "            \n",
    "#     'mass': 500.5,              # object mass\n",
    "#     'solar_rad_area': 25.2,     # object solar radiation area (m^2)\n",
    "#     'solar_rad_coeff': 1.2,     # object solar radiation coefficient\n",
    "#     'drag_area': 33.3,          # object drag area (m^2)\n",
    "#     'drag_coeff': 2.5,          # object drag coefficient\n",
    "    \n",
    "})"
   ]
  },
  {
   "cell_type": "markdown",
   "metadata": {},
   "source": [
    "### Submit and Run Propagation"
   ]
  },
  {
   "cell_type": "code",
   "execution_count": 5,
   "metadata": {},
   "outputs": [],
   "source": [
    "batch_run = aps.execute_batch_propagation(\n",
    "    project, \n",
    "    propagation_params, \n",
    "    opm_params, \n",
    "    object_id=\"KeplerianCovarianceObject01\",\n",
    "    user_defined_id=\"KeplerianCovarianceWorkbook\"\n",
    ")"
   ]
  },
  {
   "cell_type": "markdown",
   "metadata": {},
   "source": [
    "### Get Status"
   ]
  },
  {
   "cell_type": "code",
   "execution_count": 6,
   "metadata": {
    "scrolled": true
   },
   "outputs": [
    {
     "name": "stdout",
     "output_type": "stream",
     "text": [
      "CREATED\n",
      "CREATED\n",
      "...........RUNNING\n",
      "....\n",
      "COMPLETED\n"
     ]
    }
   ],
   "source": [
    "# See example notebook on how to search the ADAM system for previous submitted jobs\n",
    "print(batch_run.check_status())\n",
    "batch_run.wait_for_complete(max_wait_sec=500, print_waiting = True)\n",
    "print()\n",
    "print(batch_run.check_status())"
   ]
  },
  {
   "cell_type": "markdown",
   "metadata": {},
   "source": [
    "### Get Number of Runs"
   ]
  },
  {
   "cell_type": "code",
   "execution_count": 7,
   "metadata": {},
   "outputs": [
    {
     "name": "stdout",
     "output_type": "stream",
     "text": [
      "# Runs: 11\n"
     ]
    }
   ],
   "source": [
    "runs_count = batch_run.get_result_ephemeris_count()\n",
    "print(f'# Runs: {runs_count}')"
   ]
  },
  {
   "cell_type": "markdown",
   "metadata": {},
   "source": [
    "### Get Summary Statistics"
   ]
  },
  {
   "cell_type": "code",
   "execution_count": 8,
   "metadata": {},
   "outputs": [
    {
     "name": "stdout",
     "output_type": "stream",
     "text": [
      "MonteCarloSummary(misses=11, close_approaches=0, impacts=0, pc=0.0)\n",
      "11\n"
     ]
    }
   ],
   "source": [
    "stats = batch_run.get_summary()\n",
    "print(stats)\n",
    "print(stats.get_misses())"
   ]
  },
  {
   "cell_type": "markdown",
   "metadata": {},
   "source": [
    "### Get Ephemeris for specific run"
   ]
  },
  {
   "cell_type": "code",
   "execution_count": 9,
   "metadata": {},
   "outputs": [
    {
     "name": "stdout",
     "output_type": "stream",
     "text": [
      "[Timestamp('2017-10-04 00:00:00') -117126507.81560001 67763135.06749249\n",
      " -29584581.31733138 -18.04880170016 -23.958763117213703 10.433936997332543]\n"
     ]
    },
    {
     "data": {
      "text/plain": [
       "<AxesSubplot:xlabel='Epoch'>"
      ]
     },
     "execution_count": 9,
     "metadata": {},
     "output_type": "execute_result"
    },
    {
     "data": {
      "image/png": "[encoded data removed]",
      "text/plain": [
       "<Figure size 432x288 with 1 Axes>"
      ]
     },
     "metadata": {
      "needs_background": "light"
     },
     "output_type": "display_data"
    },
    {
     "data": {
      "image/png": "[encoded data removed]",
      "text/plain": [
       "<Figure size 432x288 with 1 Axes>"
      ]
     },
     "metadata": {
      "needs_background": "light"
     },
     "output_type": "display_data"
    }
   ],
   "source": [
    "eph = batch_run.get_result_ephemeris(2)\n",
    "print (eph.values[0])\n",
    "eph.plot(x='Epoch', y=['X','Y','Z'])\n",
    "eph.plot(x='Epoch', y=['Vx','Vy','Vz'])"
   ]
  },
  {
   "cell_type": "code",
   "execution_count": 10,
   "metadata": {},
   "outputs": [
    {
     "name": "stdout",
     "output_type": "stream",
     "text": [
      "stk.v.11.0\n",
      "BEGIN Ephemeris\n",
      "ScenarioEpoch 04 Oct 2017 00:00:00.000000\n",
      "CentralBody SUN\n",
      "CoordinateSystem ICRF\n",
      "InterpolationMethod HERMITE\n",
      "InterpolationOrder 5\n",
      "NumberOfEphemerisPoints 8\n",
      "\n",
      "EphemerisTimePosVel\n",
      "0.000000000000e+00 -1.171265078156e+11 7.393953150984e+10 -1.886955283013e+08 -1.804880170016e+04 -2.613211717338e+04 4.270137940089e+01\n",
      "8.640000000000e+04 -1.186640136241e+11 7.166808597854e+10 -1.849710474370e+08 -1.754071647627e+04 -2.644587918354e+04 4.351047374766e+01\n",
      "1.728000000000e+05 -1.201573926831e+11 6.936998911246e+10 -1.811774373091e+08 -1.702739031428e+04 -2.674903289138e+04 4.430155213383e+01\n",
      "2.592000000000e+05 -1.216062028490e+11 6.704616082720e+10 -1.773162651299e+08 -1.650907036687e+04 -2.704150167230e+04 4.507437045151e+01\n",
      "3.456000000000e+05 -1.230100233513e+11 6.469752737070e+10 -1.733891186774e+08 -1.598600420381e+04 -2.732321556216e+04 4.582869672579e+01\n",
      "4.320000000000e+05 -1.243684548204e+11 6.232502074974e+10 -1.693976052548e+08 -1.545843960433e+04 -2.759411120966e+04 4.656431092056e+01\n",
      "5.184000000000e+05 -1.256811192964e+11 5.992957816093e+10 -1.653433506694e+08 -1.492662435374e+04 -2.785413182142e+04 4.728100469312e+01\n",
      "6.048000000000e+05 -1.269476602210e+11 5.751214142676e+10 -1.612279982347e+08 -1.439080604454e+04 -2.810322710017e+04 4.797858109484e+01\n",
      "\n",
      "\n",
      "END Ephemeris\n",
      "\n"
     ]
    }
   ],
   "source": [
    "ephem_raw_data = batch_run.get_result_raw_ephemeris(2)\n",
    "print(ephem_raw_data)"
   ]
  },
  {
   "cell_type": "markdown",
   "metadata": {},
   "source": [
    "### Get ending state vector"
   ]
  },
  {
   "cell_type": "code",
   "execution_count": 11,
   "metadata": {},
   "outputs": [
    {
     "name": "stdout",
     "output_type": "stream",
     "text": [
      "Close State Vectors\n",
      "None\n",
      "Impact State Vectors\n",
      "None\n",
      "Miss State Vectors\n",
      "First miss end state: [numpy.datetime64('2017-10-11T00:00:00.000000'), -269282534685.58035, 16023761649.636383, -18148305633.195087]\n"
     ]
    }
   ],
   "source": [
    "end_state_vectors = batch_run.get_final_positions(MonteCarloResults.PositionOrbitType.CLOSE_APPROACH)\n",
    "print(\"Close State Vectors\")\n",
    "if len(end_state_vectors) > 0:\n",
    "    print(f'First close end state: {end_state_vectors[0]}')\n",
    "else:\n",
    "    print(\"None\")\n",
    "\n",
    "\n",
    "end_state_vectors = batch_run.get_final_positions(MonteCarloResults.PositionOrbitType.IMPACT)\n",
    "print(\"Impact State Vectors\")\n",
    "if len(end_state_vectors) > 0:\n",
    "    print(f'First impact end state: {end_state_vectors[0]}')\n",
    "else:\n",
    "    print(\"None\")\n",
    "\n",
    "\n",
    "end_state_vectors = batch_run.get_final_positions(MonteCarloResults.PositionOrbitType.MISS)\n",
    "print(\"Miss State Vectors\")\n",
    "if len(end_state_vectors) > 0:\n",
    "    print(f'First miss end state: {end_state_vectors[0]}')\n",
    "else:\n",
    "    print(\"None\")\n",
    "\n"
   ]
  }
 ],
 "metadata": {
  "kernelspec": {
   "display_name": "Python 3",
   "language": "python",
   "name": "python3"
  },
  "language_info": {
   "codemirror_mode": {
    "name": "ipython",
    "version": 3
   },
   "file_extension": ".py",
   "mimetype": "text/x-python",
   "name": "python",
   "nbconvert_exporter": "python",
   "pygments_lexer": "ipython3",
   "version": "3.7.6"
  }
 },
 "nbformat": 4,
 "nbformat_minor": 1
}
