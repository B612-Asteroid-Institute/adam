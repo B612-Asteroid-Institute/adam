{
 "cells": [
  {
   "cell_type": "markdown",
   "metadata": {},
   "source": [
    "# This notebook runs a covariance based Monte Carlo propagation in ADAM"
   ]
  },
  {
   "cell_type": "code",
   "execution_count": 1,
   "metadata": {},
   "outputs": [],
   "source": [
    "from adam import Batch\n",
    "from adam import Batches\n",
    "from adam import BatchRunManager\n",
    "from adam import PropagationParams\n",
    "from adam import OpmParams\n",
    "from adam import ConfigManager\n",
    "from adam import Projects\n",
    "from adam import RestRequests\n",
    "from adam import AuthenticatingRestProxy\n",
    "from adam import AdamProcessingService\n",
    "from adam import BatchPropagationResults\n",
    "import time\n",
    "import os"
   ]
  },
  {
   "cell_type": "markdown",
   "metadata": {},
   "source": [
    "This sets up authenticated access to the server. It needs to be done before pretty much everything you want to do with ADAM."
   ]
  },
  {
   "cell_type": "code",
   "execution_count": 2,
   "metadata": {},
   "outputs": [],
   "source": [
    "# ConfigManager loads the config set up via adamctl.\n",
    "# See the README at https://github.com/B612-Asteroid-Institute/adam_home/blob/master/README.md\n",
    "config = ConfigManager().get_config('adam_dev')\n",
    "auth_rest = AuthenticatingRestProxy(RestRequests(config['url']), config['token'])\n",
    "aps = AdamProcessingService(auth_rest)"
   ]
  },
  {
   "cell_type": "markdown",
   "metadata": {},
   "source": [
    "## Example Inputs"
   ]
  },
  {
   "cell_type": "markdown",
   "metadata": {},
   "source": [
    "The PropagationParameters sent to the propagation API will operate on either Keplerian or Cartesian elements."
   ]
  },
  {
   "cell_type": "code",
   "execution_count": 3,
   "metadata": {},
   "outputs": [],
   "source": [
    "# from https://newton.spacedys.com/neodys/index.php?pc=1.1.1.1&n=2000SG344\n",
    "# true_anomaly_deg is also available instead of mean_anomaly_deg\n",
    "keplerian_elements = {\n",
    "    'semi_major_axis_km': 146222900,\n",
    "    'eccentricity': 0.066958,\n",
    "    'inclination_deg': 0.112,\n",
    "    'ra_of_asc_node_deg' : 191.912,\n",
    "    'arg_of_pericenter_deg' :  275.347,\n",
    "    'mean_anomaly_deg' : 35.681,\n",
    "    'gm' : 132712440041.93938 #JPL Horizons GM\n",
    "}\n",
    "\n",
    "# Lower triangular covariance matrix (21 elements in a list)\n",
    "covariance = [3.94346903514E+03, + \\\n",
    "             -1.40266786788E-04, 5.00812620000E-12, + \\\n",
    "             -2.91357694324E-04, 1.06017205000E-11, 3.15658331000E-11, + \\\n",
    "             -3.83826656095E-03, 1.40431472000E-10, 2.32155752000E-09, 8.81161492000E-07, + \\\n",
    "             -1.09220523817E-02, 3.62452521000E-10, -1.53067748000E-09, -8.70304198000E-07, 9.42413982000E-07, + \\\n",
    "             -2.96713683611E-01, 1.05830167000E-08, 2.23110293000E-08, 2.93564832000E-07, 7.81029359000E-07, 2.23721205000E-05]"
   ]
  },
  {
   "cell_type": "markdown",
   "metadata": {},
   "source": [
    "### Set Parameters\n",
    "\n",
    "Commented parameters are optional. Uncomment to use."
   ]
  },
  {
   "cell_type": "code",
   "execution_count": 4,
   "metadata": {},
   "outputs": [],
   "source": [
    "propagation_params = PropagationParams({\n",
    "    'start_time': '2017-10-04T00:00:00Z',   # propagation start time in ISO format\n",
    "    'end_time': '2017-10-11T00:00:00Z',     # propagation end time in ISO format\n",
    "\n",
    "    'project_uuid': config['workspace'],\n",
    "    'description': 'Jupyter Keplerian Covariance Monte Carlo Example',\n",
    "    'monteCarloDraws': 10,\n",
    "    'propagationType': 'MONTE_CARLO',\n",
    "    'stopOnImpact': True,\n",
    "    'step_size': 86400,\n",
    "    'stopOnCloseApproach': False,\n",
    "    'stopOnImpactDistanceMeters': 500000,\n",
    "    'closeApproachRadiusFromTargetMeters': 7000000000\n",
    "})\n",
    "\n",
    "opm_params = OpmParams({\n",
    "    'epoch': '2017-10-04T00:00:00Z',\n",
    "    'keplerian_elements': keplerian_elements,\n",
    "    'keplerian_covariance': covariance,   # object covariance\n",
    "            \n",
    "#     'mass': 500.5,              # object mass\n",
    "#     'solar_rad_area': 25.2,     # object solar radiation area (m^2)\n",
    "#     'solar_rad_coeff': 1.2,     # object solar radiation coefficient\n",
    "#     'drag_area': 33.3,          # object drag area (m^2)\n",
    "#     'drag_coeff': 2.5,          # object drag coefficient\n",
    "    \n",
    "})"
   ]
  },
  {
   "cell_type": "markdown",
   "metadata": {},
   "source": [
    "### Submit and Run Propagation"
   ]
  },
  {
   "cell_type": "code",
   "execution_count": 5,
   "metadata": {},
   "outputs": [
    {
     "name": "stdout",
     "output_type": "stream",
     "text": [
      "{'job_uuid': '933d8fd0-6a39-4bf7-af41-e23af23b0b53', 'results': None}\n"
     ]
    }
   ],
   "source": [
    "batch_run = aps.execute_batch_propagation(config['workspace'], propagation_params, opm_params)\n",
    "# batch_run = BatchPropagationResults.fromRESTwithRawIds(auth_rest, config['workspace'], 'efaa4ecc-c6d0-4d57-a769-cd400a3a0997')\n",
    "print(batch_run)"
   ]
  },
  {
   "cell_type": "markdown",
   "metadata": {},
   "source": [
    "### Get Status"
   ]
  },
  {
   "cell_type": "code",
   "execution_count": 6,
   "metadata": {
    "scrolled": true
   },
   "outputs": [
    {
     "name": "stdout",
     "output_type": "stream",
     "text": [
      "CREATED\n",
      "CREATED\n",
      ".....RUNNING\n",
      "...........................\n",
      "COMPLETED\n"
     ]
    }
   ],
   "source": [
    "print(batch_run.check_status())\n",
    "batch_run.wait_for_complete(print_waiting = True)\n",
    "print()\n",
    "print(batch_run.check_status())"
   ]
  },
  {
   "cell_type": "markdown",
   "metadata": {},
   "source": [
    "### Get Number of Runs"
   ]
  },
  {
   "cell_type": "code",
   "execution_count": 7,
   "metadata": {},
   "outputs": [
    {
     "name": "stdout",
     "output_type": "stream",
     "text": [
      "# Runs: 11\n"
     ]
    }
   ],
   "source": [
    "runs_count = batch_run.get_result_ephemeris_count()\n",
    "print(f'# Runs: {runs_count}')"
   ]
  },
  {
   "cell_type": "markdown",
   "metadata": {},
   "source": [
    "### Get Summary Statistics"
   ]
  },
  {
   "cell_type": "code",
   "execution_count": 8,
   "metadata": {},
   "outputs": [
    {
     "name": "stdout",
     "output_type": "stream",
     "text": [
      "{'misses': 11, 'close_approach': 0, 'impacts': 0, 'total': 11, 'pc': 0.0}\n"
     ]
    }
   ],
   "source": [
    "stats = batch_run.get_summary()\n",
    "print(stats)"
   ]
  },
  {
   "cell_type": "markdown",
   "metadata": {},
   "source": [
    "### Get Ephemeris for specific run"
   ]
  },
  {
   "cell_type": "code",
   "execution_count": 9,
   "metadata": {},
   "outputs": [
    {
     "name": "stdout",
     "output_type": "stream",
     "text": [
      "https://storage.googleapis.com/adam-beam-storage/output/job/933d8fd0-6a39-4bf7-af41-e23af23b0b53/stk-ephemerides/MISS/run-5-00001-of-00003.e\n",
      "stk.v.11.0\n",
      "BEGIN Ephemeris\n",
      "ScenarioEpoch 04 Oct 2017 00:00:00.000000\n",
      "CentralBody SUN\n",
      "CoordinateSystem ICRF\n",
      "InterpolationMethod HERMITE\n",
      "InterpolationOrder 5\n",
      "NumberOfEphemerisPoints 8\n",
      "\n",
      "EphemerisTimePosVel\n",
      "0.000000000000e+00 -4.047751639286e+10 1.302893969618e+11 -2.655266474195e+08 -3.076537454072e+04 -9.557987244399e+03 5.867824146573e+00\n",
      "8.640000000000e+04 -4.312757684021e+10 1.294382277280e+11 -2.649678323585e+08 -3.057662430384e+04 -1.014435993159e+04 7.067270031341e+00\n",
      "1.728000000000e+05 -4.576081400241e+10 1.285365668488e+11 -2.643055072210e+08 -3.037596215611e+04 -1.072672981568e+04 8.263797129663e+00\n",
      "2.592000000000e+05 -4.837620281764e+10 1.275847719264e+11 -2.635399484217e+08 -3.016348486559e+04 -1.130482512352e+04 9.456844895718e+00\n",
      "3.456000000000e+05 -5.097272690200e+10 1.265832239239e+11 -2.626714807026e+08 -2.993929652470e+04 -1.187837690767e+04 1.064585527540e+01\n",
      "4.320000000000e+05 -5.354937917787e+10 1.255323269107e+11 -2.617004768953e+08 -2.970350844714e+04 -1.244711928817e+04 1.183027323045e+01\n",
      "5.184000000000e+05 -5.610516249310e+10 1.244325077873e+11 -2.606273576376e+08 -2.945623905506e+04 -1.301078968971e+04 1.300954725298e+01\n",
      "6.048000000000e+05 -5.863909022991e+10 1.232842159892e+11 -2.594525910468e+08 -2.919761375686e+04 -1.356912907373e+04 1.418312987061e+01\n",
      "\n",
      "\n",
      "END Ephemeris\n",
      "\n"
     ]
    }
   ],
   "source": [
    "eph = batch_run.get_result_ephemeris(2)\n",
    "print(eph)"
   ]
  },
  {
   "cell_type": "markdown",
   "metadata": {},
   "source": [
    "### Get ending state vector"
   ]
  },
  {
   "cell_type": "code",
   "execution_count": 10,
   "metadata": {},
   "outputs": [
    {
     "name": "stdout",
     "output_type": "stream",
     "text": [
      "Close State Vectors\n",
      "None\n",
      "Impact State Vectors\n",
      "None\n",
      "Miss State Vectors\n",
      "First miss end state: [-200977783778.7074, 81788878462.15994, -18246571187.675217]\n"
     ]
    }
   ],
   "source": [
    "end_state_vectors = batch_run.get_final_positions(BatchPropagationResults.PositionOrbitType.CLOSE_APPROACH)\n",
    "print(\"Close State Vectors\")\n",
    "if len(end_state_vectors) > 0:\n",
    "    print(f'First close end state: {end_state_vectors[0]}')\n",
    "else:\n",
    "    print(\"None\")\n",
    "\n",
    "\n",
    "end_state_vectors = batch_run.get_final_positions(BatchPropagationResults.PositionOrbitType.IMPACT)\n",
    "print(\"Impact State Vectors\")\n",
    "if len(end_state_vectors) > 0:\n",
    "    print(f'First impact end state: {end_state_vectors[0]}')\n",
    "else:\n",
    "    print(\"None\")\n",
    "\n",
    "\n",
    "end_state_vectors = batch_run.get_final_positions(BatchPropagationResults.PositionOrbitType.MISS)\n",
    "print(\"Miss State Vectors\")\n",
    "if len(end_state_vectors) > 0:\n",
    "    print(f'First miss end state: {end_state_vectors[0]}')\n",
    "else:\n",
    "    print(\"None\")\n",
    "\n"
   ]
  },
  {
   "cell_type": "code",
   "execution_count": null,
   "metadata": {},
   "outputs": [],
   "source": []
  }
 ],
 "metadata": {
  "kernelspec": {
   "display_name": "Python 3",
   "language": "python",
   "name": "python3"
  },
  "language_info": {
   "codemirror_mode": {
    "name": "ipython",
    "version": 3
   },
   "file_extension": ".py",
   "mimetype": "text/x-python",
   "name": "python",
   "nbconvert_exporter": "python",
   "pygments_lexer": "ipython3",
   "version": "3.7.6"
  }
 },
 "nbformat": 4,
 "nbformat_minor": 1
}
