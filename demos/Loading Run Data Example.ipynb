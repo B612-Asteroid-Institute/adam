{
 "cells": [
  {
   "cell_type": "markdown",
   "metadata": {},
   "source": [
    "# Illustrate Pulling Run Data From ADAM"
   ]
  },
  {
   "cell_type": "code",
   "execution_count": 1,
   "metadata": {},
   "outputs": [],
   "source": [
    "from adam import Batch\n",
    "from adam import Batches\n",
    "from adam import BatchRunManager\n",
    "from adam import PropagationParams\n",
    "from adam import OpmParams\n",
    "from adam import ConfigManager\n",
    "from adam import Projects\n",
    "from adam import RestRequests\n",
    "from adam import AuthenticatingRestProxy\n",
    "from adam import AdamProcessingService\n",
    "from adam import ApsRestServiceResultsProcessor\n",
    "from adam import BatchPropagationResults\n",
    "import matplotlib.pyplot as plt\n",
    "import time\n",
    "import os"
   ]
  },
  {
   "cell_type": "markdown",
   "metadata": {},
   "source": [
    "This sets up authenticated access to the server. It needs to be done before pretty much everything you want to do with ADAM."
   ]
  },
  {
   "cell_type": "code",
   "execution_count": 4,
   "metadata": {},
   "outputs": [],
   "source": [
    "# ConfigManager loads the config set up via adamctl.\n",
    "# See the README at https://github.com/B612-Asteroid-Institute/adam_home/blob/master/README.md\n",
    "config_manager = ConfigManager()\n",
    "config_manager.set_default_env('dev')\n",
    "config = config_manager.get_config()\n",
    "auth_rest = AuthenticatingRestProxy(RestRequests())\n",
    "aps = AdamProcessingService(auth_rest)"
   ]
  },
  {
   "cell_type": "markdown",
   "metadata": {},
   "source": [
    "## Getting Jobs List"
   ]
  },
  {
   "cell_type": "markdown",
   "metadata": {},
   "source": [
    "It is possible to query the service for all the jobs for your project."
   ]
  },
  {
   "cell_type": "code",
   "execution_count": 5,
   "metadata": {},
   "outputs": [
    {
     "name": "stdout",
     "output_type": "stream",
     "text": [
      "Completed Jobs:17\n"
     ]
    }
   ],
   "source": [
    "jobs = aps.get_jobs(config['workspace'])\n",
    "completed_jobs = [j for j in jobs['items'] if j['status'] == 'COMPLETED']\n",
    "print(f\"Completed Jobs:{len(completed_jobs)}\")"
   ]
  },
  {
   "cell_type": "markdown",
   "metadata": {},
   "source": [
    "## Get Job Results\n",
    "\n",
    "### Get first job (assuming at leastone job) and its inputs JSON"
   ]
  },
  {
   "cell_type": "code",
   "execution_count": 6,
   "metadata": {},
   "outputs": [
    {
     "name": "stdout",
     "output_type": "stream",
     "text": [
      "{\"opm\": {\"header\": {\"comments\": [], \"originator\": \"ADAM Web UI\", \"creation_date\": \"2020-07-07T21:22:06.350Z\"}, \"metadata\": {\"comments\": [], \"object_id\": \"1594156926349\", \"ref_frame\": \"ICRF\", \"center_name\": \"SUN\", \"object_name\": \"1594156926349\", \"time_system\": \"TT\", \"ref_frame_epoch\": null}, \"keplerian\": {\"gm\": 132712440041.9394, \"comments\": [], \"inclination\": 23.191608, \"mean_motion\": 0, \"eccentricity\": 0.279241, \"mean_anomaly\": 0, \"true_anomaly\": 230.970479, \"ra_of_asc_node\": 5.39833, \"semi_major_axis\": 196121611.7047344, \"arg_of_pericenter\": 59.341179}, \"maneuvers\": [], \"covariance\": null, \"spacecraft\": null, \"adam_fields\": [], \"state_vector\": {\"x\": 0, \"y\": 0, \"z\": 0, \"epoch\": \"2008-12-30T01:14:17.620Z\", \"x_dot\": 0, \"y_dot\": 0, \"z_dot\": 0, \"comments\": []}, \"ccsds_opm_vers\": \"2.0\"}, \"end_time\": \"2011-12-30T01:14:17.635Z\", \"executor\": \"stk\", \"start_time\": \"2008-12-30T01:14:17.620Z\", \"stopOnImpact\": false, \"cartesianSigma\": null, \"keplerianSigma\": {\"gm\": 0, \"comments\": [], \"inclination\": 0.01, \"mean_motion\": 0, \"eccentricity\": 0.00001, \"mean_anomaly\": 0, \"true_anomaly\": 0.03, \"ra_of_asc_node\": 0.02, \"semi_major_axis\": 0.0001, \"arg_of_pericenter\": 0.03}, \"monteCarloDraws\": 5, \"propagationType\": \"MONTE_CARLO\", \"propagator_uuid\": \"00000000-0000-0000-0000-000000000003\", \"step_duration_sec\": 86400, \"stopOnCloseApproach\": false, \"enableLogCloseApproaches\": true, \"stopOnImpactDistanceMeters\": 500000, \"stopOnCloseApproachAfterEpoch\": null, \"closeApproachRadiusFromTargetMeters\": 63780000}\n"
     ]
    }
   ],
   "source": [
    "job = completed_jobs[0]\n",
    "print(job['inputParametersJson'])"
   ]
  },
  {
   "cell_type": "markdown",
   "metadata": {},
   "source": [
    "### Get Job Result Data"
   ]
  },
  {
   "cell_type": "code",
   "execution_count": 6,
   "metadata": {},
   "outputs": [],
   "source": [
    "batch_run = aps.get_job_results(config['workspace'], job['uuid'])"
   ]
  },
  {
   "cell_type": "markdown",
   "metadata": {},
   "source": [
    "### Confirm Job Completed"
   ]
  },
  {
   "cell_type": "code",
   "execution_count": 7,
   "metadata": {
    "scrolled": false
   },
   "outputs": [
    {
     "data": {
      "text/plain": [
       "'COMPLETED'"
      ]
     },
     "execution_count": 7,
     "metadata": {},
     "output_type": "execute_result"
    }
   ],
   "source": [
    "batch_run.check_status()"
   ]
  },
  {
   "cell_type": "markdown",
   "metadata": {},
   "source": [
    "### Get Number of Runs"
   ]
  },
  {
   "cell_type": "code",
   "execution_count": 8,
   "metadata": {},
   "outputs": [
    {
     "name": "stdout",
     "output_type": "stream",
     "text": [
      "# Runs: 11\n"
     ]
    }
   ],
   "source": [
    "runs_count = batch_run.get_result_ephemeris_count()\n",
    "print(f'# Runs: {runs_count}')"
   ]
  },
  {
   "cell_type": "markdown",
   "metadata": {},
   "source": [
    "### Get Summary Statistics"
   ]
  },
  {
   "cell_type": "code",
   "execution_count": 9,
   "metadata": {},
   "outputs": [
    {
     "name": "stdout",
     "output_type": "stream",
     "text": [
      "{'misses': 11, 'close_approach': 0, 'impacts': 0, 'pc': 0.0}\n"
     ]
    }
   ],
   "source": [
    "stats = batch_run.get_summary()\n",
    "print(stats)"
   ]
  },
  {
   "cell_type": "markdown",
   "metadata": {},
   "source": [
    "### Get Ephemeris and Graph"
   ]
  },
  {
   "cell_type": "code",
   "execution_count": 10,
   "metadata": {},
   "outputs": [
    {
     "name": "stdout",
     "output_type": "stream",
     "text": [
      "[Timestamp('2017-10-04 00:00:00') 130347560.1335 -82288041.15372841\n",
      " -2741520.150300201 23.93524884363 29.02186659761898 -1.3053774191565335]\n"
     ]
    },
    {
     "data": {
      "text/plain": [
       "<AxesSubplot:xlabel='Epoch', ylabel='Velocity(km/s)'>"
      ]
     },
     "execution_count": 10,
     "metadata": {},
     "output_type": "execute_result"
    },
    {
     "data": {
      "image/png": "[encoded data removed]",
      "text/plain": [
       "<Figure size 432x288 with 1 Axes>"
      ]
     },
     "metadata": {
      "needs_background": "light"
     },
     "output_type": "display_data"
    },
    {
     "data": {
      "image/png": "[encoded data removed]",
      "text/plain": [
       "<Figure size 432x288 with 1 Axes>"
      ]
     },
     "metadata": {
      "needs_background": "light"
     },
     "output_type": "display_data"
    }
   ],
   "source": [
    "eph = batch_run.get_result_ephemeris(2)\n",
    "print (eph.values[0])\n",
    "eph.plot(x='Epoch', y=['X','Y','Z'], ylabel='Position(km)')\n",
    "eph.plot(x='Epoch', y=['Vx','Vy','Vz'], ylabel=\"Velocity(km/s)\")"
   ]
  },
  {
   "cell_type": "code",
   "execution_count": 11,
   "metadata": {},
   "outputs": [],
   "source": [
    "### Get Raw Ephemeris Data"
   ]
  },
  {
   "cell_type": "code",
   "execution_count": 12,
   "metadata": {},
   "outputs": [
    {
     "name": "stdout",
     "output_type": "stream",
     "text": [
      "stk.v.11.0\n",
      "BEGIN Ephemeris\n",
      "ScenarioEpoch 04 Oct 2017 00:00:00.000000\n",
      "CentralBody SUN\n",
      "CoordinateSystem ICRF\n",
      "InterpolationMethod HERMITE\n",
      "InterpolationOrder 5\n",
      "NumberOfEphemerisPoints 8\n",
      "\n",
      "EphemerisTimePosVel\n",
      "0.000000000000e+00 1.303475601335e+11 -7.440728759304e+10 -3.524759853804e+10 2.393524884363e+04 2.714629132829e+04 1.034657518873e+04\n",
      "8.640000000000e+04 1.323979017940e+11 -7.205192283917e+10 -3.434894303687e+10 2.352586222700e+04 2.737450360283e+04 1.045501952587e+04\n",
      "1.728000000000e+05 1.344127479740e+11 -6.967723942427e+10 -3.344107796102e+10 2.311365770293e+04 2.759347848765e+04 1.055975587902e+04\n",
      "2.592000000000e+05 1.363918716097e+11 -6.728403626072e+10 -3.252432458741e+10 2.269901429550e+04 2.780320032640e+04 1.066076447235e+04\n",
      "3.456000000000e+05 1.383350781923e+11 -6.487311286780e+10 -3.159900558744e+10 2.228230639228e+04 2.800367063803e+04 1.075803277155e+04\n",
      "4.320000000000e+05 1.402422053215e+11 -6.244526791166e+10 -3.066544440957e+10 2.186390268296e+04 2.819490755279e+04 1.085155528864e+04\n",
      "5.184000000000e+05 1.421131221696e+11 -6.000129779665e+10 -2.972396467993e+10 2.144416516878e+04 2.837694518753e+04 1.094133335939e+04\n",
      "6.048000000000e+05 1.439477288638e+11 -5.754199531307e+10 -2.877488962330e+10 2.102344824655e+04 2.854983296777e+04 1.102737489607e+04\n",
      "\n",
      "\n",
      "END Ephemeris\n",
      "\n"
     ]
    }
   ],
   "source": [
    "ephem_raw_data = batch_run.get_result_raw_ephemeris(2)\n",
    "print(ephem_raw_data)"
   ]
  },
  {
   "cell_type": "markdown",
   "metadata": {},
   "source": [
    "### Get ending state vector"
   ]
  },
  {
   "cell_type": "code",
   "execution_count": 13,
   "metadata": {},
   "outputs": [
    {
     "name": "stdout",
     "output_type": "stream",
     "text": [
      "Close State Vectors\n",
      "None\n",
      "Impact State Vectors\n",
      "None\n",
      "Miss State Vectors\n",
      "First miss end state: [1610537328.1226196, -99035107564.6815, -46761965680.43153]\n"
     ]
    }
   ],
   "source": [
    "end_state_vectors = batch_run.get_final_positions(BatchPropagationResults.PositionOrbitType.CLOSE_APPROACH)\n",
    "print(\"Close State Vectors\")\n",
    "if len(end_state_vectors) > 0:\n",
    "    print(f'First close end state: {end_state_vectors[0]}')\n",
    "else:\n",
    "    print(\"None\")\n",
    "\n",
    "\n",
    "end_state_vectors = batch_run.get_final_positions(BatchPropagationResults.PositionOrbitType.IMPACT)\n",
    "print(\"Impact State Vectors\")\n",
    "if len(end_state_vectors) > 0:\n",
    "    print(f'First impact end state: {end_state_vectors[0]}')\n",
    "else:\n",
    "    print(\"None\")\n",
    "\n",
    "\n",
    "end_state_vectors = batch_run.get_final_positions(BatchPropagationResults.PositionOrbitType.MISS)\n",
    "print(\"Miss State Vectors\")\n",
    "if len(end_state_vectors) > 0:\n",
    "    print(f'First miss end state: {end_state_vectors[0]}')\n",
    "else:\n",
    "    print(\"None\")\n",
    "\n"
   ]
  }
 ],
 "metadata": {
  "kernelspec": {
   "display_name": "Python 3",
   "language": "python",
   "name": "python3"
  },
  "language_info": {
   "codemirror_mode": {
    "name": "ipython",
    "version": 3
   },
   "file_extension": ".py",
   "mimetype": "text/x-python",
   "name": "python",
   "nbconvert_exporter": "python",
   "pygments_lexer": "ipython3",
   "version": "3.8.5"
  }
 },
 "nbformat": 4,
 "nbformat_minor": 1
}
