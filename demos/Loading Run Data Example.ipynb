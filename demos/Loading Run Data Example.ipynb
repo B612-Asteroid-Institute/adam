{
 "cells": [
  {
   "cell_type": "markdown",
   "metadata": {},
   "source": [
    "# Illustrate Pulling Run Data From ADAM"
   ]
  },
  {
   "cell_type": "code",
   "execution_count": null,
   "metadata": {},
   "outputs": [],
   "source": [
    "from adam import ConfigManager\n",
    "from adam import ProjectsClient, JobsClient, ResultsClient\n",
    "from adam import MonteCarloResults\n",
    "from adam import Comparison\n",
    "import datetime"
   ]
  },
  {
   "cell_type": "markdown",
   "metadata": {},
   "source": [
    "This sets up authenticated access to the server. It needs to be done before pretty much everything you want to do with ADAM."
   ]
  },
  {
   "cell_type": "code",
   "execution_count": null,
   "metadata": {},
   "outputs": [],
   "source": [
    "# ConfigManager loads the config set up via adamctl.\n",
    "# See the README at https://github.com/B612-Asteroid-Institute/adam_home/blob/master/README.md\n",
    "config_manager = ConfigManager()\n",
    "config_manager.set_default_env('dev')\n",
    "config = config_manager.get_config()"
   ]
  },
  {
   "cell_type": "markdown",
   "metadata": {},
   "source": [
    "## Getting Projects List\n",
    "\n",
    "It is also possible to filter the results based on whether the name, description, or project ID contain a desired text value."
   ]
  },
  {
   "cell_type": "code",
   "execution_count": null,
   "metadata": {},
   "outputs": [],
   "source": [
    "projects = ProjectsClient().get_projects()\n",
    "print(len(projects))"
   ]
  },
  {
   "cell_type": "markdown",
   "metadata": {},
   "source": [
    "...or can get the project from your workspace configuration..."
   ]
  },
  {
   "cell_type": "code",
   "execution_count": null,
   "metadata": {},
   "outputs": [],
   "source": [
    "project = ProjectsClient().get_project_from_config(config)\n",
    "project"
   ]
  },
  {
   "cell_type": "markdown",
   "metadata": {},
   "source": [
    "## Getting Jobs for project\n",
    "\n",
    "It is possible to query the service for all the jobs for a project. One can query on fields like: name, earliest/latest submission date, object ID, and most text fields support wildcard searches."
   ]
  },
  {
   "cell_type": "code",
   "execution_count": null,
   "metadata": {
    "scrolled": true
   },
   "outputs": [],
   "source": [
    "jobs = JobsClient().get_jobs(project, status=\"COMPLETED\")\n",
    "for j in jobs:\n",
    "    print(f\"Object: {j.get_object_id()}, Status: {j.get_status()}, Description: {j.get_description()}\")"
   ]
  },
  {
   "cell_type": "markdown",
   "metadata": {},
   "source": [
    "...or get all jobs for the project submitted today..."
   ]
  },
  {
   "cell_type": "code",
   "execution_count": null,
   "metadata": {},
   "outputs": [],
   "source": [
    "today_jobs = JobsClient().get_jobs(project, earliest_submission_datetime=datetime.datetime.today())\n",
    "for j in today_jobs:\n",
    "    print(f\"Object: {j.get_object_id()}, Time: {j.get_submission_time()}, Description: {j.get_description()}, Status: {j.get_status()}\")"
   ]
  },
  {
   "cell_type": "markdown",
   "metadata": {},
   "source": [
    "...or all jobs submitted last week for a Object ID's contain the word \"Asteroid\""
   ]
  },
  {
   "cell_type": "code",
   "execution_count": null,
   "metadata": {},
   "outputs": [],
   "source": [
    "earliest = datetime.datetime.today() - datetime.timedelta(days=30)\n",
    "latest = datetime.datetime.today() - datetime.timedelta(days=7)\n",
    "JobsClient().get_jobs(\n",
    "    project, \n",
    "    object_id=\"*Asteroid*\", \n",
    "    earliest_submission_datetime=earliest, \n",
    "    latest_submission_datetime=latest)"
   ]
  },
  {
   "cell_type": "markdown",
   "metadata": {},
   "source": [
    "## Post-Filtering Job list"
   ]
  },
  {
   "cell_type": "markdown",
   "metadata": {},
   "source": [
    "Once you have a job list you can perform additional filtering based on the input JSON data such as:"
   ]
  },
  {
   "cell_type": "code",
   "execution_count": null,
   "metadata": {},
   "outputs": [],
   "source": [
    "JobsClient().filter_by_inputs(jobs, ['monteCarloDraws'], Comparison.GreaterThanOrEquals, 10)"
   ]
  },
  {
   "cell_type": "code",
   "execution_count": null,
   "metadata": {},
   "outputs": [],
   "source": [
    "JobsClient().filter_by_inputs(jobs, ['opm','keplerian','inclination'], Comparison.LessThan, 22.5)"
   ]
  },
  {
   "cell_type": "markdown",
   "metadata": {},
   "source": [
    "## Get Job Results\n",
    "\n",
    "Get last job (assuming at least one job) and its inputs JSON"
   ]
  },
  {
   "cell_type": "code",
   "execution_count": null,
   "metadata": {},
   "outputs": [],
   "source": [
    "job = jobs[len(jobs)-1]\n",
    "print(jobs[0].get_object_id())\n",
    "print(jobs[0].get_input_json())"
   ]
  },
  {
   "cell_type": "markdown",
   "metadata": {},
   "source": [
    "### Get Job Result Data"
   ]
  },
  {
   "cell_type": "code",
   "execution_count": null,
   "metadata": {},
   "outputs": [],
   "source": [
    "results = ResultsClient().get_monte_carlo_results(jobs[0])"
   ]
  },
  {
   "cell_type": "markdown",
   "metadata": {},
   "source": [
    "### Confirm Job Completed"
   ]
  },
  {
   "cell_type": "code",
   "execution_count": null,
   "metadata": {
    "scrolled": false
   },
   "outputs": [],
   "source": [
    "results.check_status()"
   ]
  },
  {
   "cell_type": "markdown",
   "metadata": {},
   "source": [
    "### Get Number of Runs"
   ]
  },
  {
   "cell_type": "code",
   "execution_count": null,
   "metadata": {},
   "outputs": [],
   "source": [
    "runs_count = results.get_result_ephemeris_count()\n",
    "print(f'# Runs: {runs_count}')"
   ]
  },
  {
   "cell_type": "markdown",
   "metadata": {},
   "source": [
    "### Get Summary Statistics"
   ]
  },
  {
   "cell_type": "code",
   "execution_count": null,
   "metadata": {},
   "outputs": [],
   "source": [
    "stats = results.get_summary()\n",
    "print(stats)\n",
    "print(stats.get_misses())"
   ]
  },
  {
   "cell_type": "markdown",
   "metadata": {},
   "source": [
    "### Get Ephemeris and Graph\n",
    "It is possible to pull the ephemeris in a way that can be directly used for analysis"
   ]
  },
  {
   "cell_type": "code",
   "execution_count": null,
   "metadata": {},
   "outputs": [],
   "source": [
    "eph = results.get_result_ephemeris(2)\n",
    "print (eph.values[0])\n",
    "eph.plot(x='Epoch', y=['X','Y','Z'], ylabel='Position(km)')\n",
    "eph.plot(x='Epoch', y=['Vx','Vy','Vz'], ylabel=\"Velocity(km/s)\")"
   ]
  },
  {
   "cell_type": "markdown",
   "metadata": {},
   "source": [
    "### Get Raw Ephemeris Data\n",
    "It is also possible to pull the raw ephemeris file text as well."
   ]
  },
  {
   "cell_type": "code",
   "execution_count": null,
   "metadata": {},
   "outputs": [],
   "source": [
    "ephem_raw_data = results.get_result_raw_ephemeris(2)\n",
    "print(ephem_raw_data)"
   ]
  },
  {
   "cell_type": "markdown",
   "metadata": {},
   "source": [
    "### Get ending state vector"
   ]
  },
  {
   "cell_type": "code",
   "execution_count": null,
   "metadata": {},
   "outputs": [],
   "source": [
    "end_state_vectors = results.get_final_positions(MonteCarloResults.PositionOrbitType.CLOSE_APPROACH)\n",
    "print(\"Close State Vectors\")\n",
    "if len(end_state_vectors) > 0:\n",
    "    print(f'First close end state: {end_state_vectors[0]}')\n",
    "else:\n",
    "    print(\"None\")\n",
    "\n",
    "\n",
    "end_state_vectors = results.get_final_positions(MonteCarloResults.PositionOrbitType.IMPACT)\n",
    "print(\"Impact State Vectors\")\n",
    "if len(end_state_vectors) > 0:\n",
    "    print(f'First impact end state: {end_state_vectors[0]}')\n",
    "else:\n",
    "    print(\"None\")\n",
    "\n",
    "\n",
    "end_state_vectors = results.get_final_positions(MonteCarloResults.PositionOrbitType.MISS)\n",
    "print(\"Miss State Vectors\")\n",
    "if len(end_state_vectors) > 0:\n",
    "    print(f'First miss end state: {end_state_vectors[0]}')\n",
    "else:\n",
    "    print(\"None\")\n",
    "\n"
   ]
  }
 ],
 "metadata": {
  "kernelspec": {
   "display_name": "Python 3",
   "language": "python",
   "name": "python3"
  },
  "language_info": {
   "codemirror_mode": {
    "name": "ipython",
    "version": 3
   },
   "file_extension": ".py",
   "mimetype": "text/x-python",
   "name": "python",
   "nbconvert_exporter": "python",
   "pygments_lexer": "ipython3",
   "version": "3.7.6"
  }
 },
 "nbformat": 4,
 "nbformat_minor": 1
}
