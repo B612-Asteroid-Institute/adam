{
 "cells": [
  {
   "cell_type": "markdown",
   "metadata": {},
   "source": [
    "Demo for running OORB propagation using ADAM. Still WIP."
   ]
  },
  {
   "cell_type": "code",
   "execution_count": null,
   "metadata": {},
   "outputs": [],
   "source": [
    "from adam import Service\n",
    "\n",
    "from adam import Batch\n",
    "from adam import Batches\n",
    "from adam import BatchRunManager\n",
    "from adam import PropagationParams\n",
    "from adam import OpmParams\n",
    "from adam import ConfigManager\n",
    "from adam import Projects\n",
    "from adam import RestRequests\n",
    "from adam import AuthenticatingRestProxy\n",
    "from adam import BatchPropagation\n",
    "from adam import BatchPropagations\n",
    "from adam import RunnableManager\n",
    "import time\n",
    "import os"
   ]
  },
  {
   "cell_type": "code",
   "execution_count": null,
   "metadata": {},
   "outputs": [],
   "source": [
    "# Reads your config from a file in current directory. For instructions on setting this up, see config_demo notebook.\n",
    "config = ConfigManager(os.getcwd() + '/config.json').get_config('dev')\n",
    "auth_rest = AuthenticatingRestProxy(RestRequests(config.get_url()), config.get_token())"
   ]
  },
  {
   "cell_type": "code",
   "execution_count": null,
   "metadata": {},
   "outputs": [],
   "source": [
    "service = Service(config)\n",
    "service.setup()"
   ]
  },
  {
   "cell_type": "code",
   "execution_count": null,
   "metadata": {},
   "outputs": [],
   "source": [
    "working_project = service.new_working_project()"
   ]
  },
  {
   "cell_type": "code",
   "execution_count": null,
   "metadata": {},
   "outputs": [],
   "source": [
    "# 6x1 state vector (position [km], velocity [km/s]) for a perfectly circular orbit at about 1.5 AU\n",
    "state_vec = [2.244e8, 0, 0,\n",
    "             0, 24.31892597576429, 0]\n",
    "# Period of this orbit is 671.0340959304685 days"
   ]
  },
  {
   "cell_type": "code",
   "execution_count": null,
   "metadata": {},
   "outputs": [],
   "source": [
    "propagation_params = PropagationParams({\n",
    "    'start_time': '2019-01-01T00:00:00Z',     # propagation start time ignored by OORB propagator\n",
    "    'end_time':   '2037-05-16T08:10:58.884Z', # propagation end time in ISO format\n",
    "    'project_uuid': config.get_workspace(),\n",
    "    'executor': 'OORB',\n",
    "\n",
    "#     'propagator_uuid': '00000000-0000-0000-0000-000000000002',  # force model\n",
    "#     'description': 'some description'       # description of run\n",
    "})\n",
    "\n",
    "opm_params = OpmParams({\n",
    "    'epoch': '2019-01-01T00:00:00Z',\n",
    "    'state_vector': state_vec,\n",
    "})\n",
    "\n",
    "print(propagation_params)"
   ]
  },
  {
   "cell_type": "code",
   "execution_count": null,
   "metadata": {},
   "outputs": [],
   "source": [
    "single = BatchPropagation(propagation_params, opm_params)\n",
    "props = BatchPropagations(service.rest)"
   ]
  },
  {
   "cell_type": "code",
   "execution_count": null,
   "metadata": {},
   "outputs": [],
   "source": [
    "RunnableManager(props, [single], working_project.get_uuid()).run()"
   ]
  },
  {
   "cell_type": "code",
   "execution_count": null,
   "metadata": {},
   "outputs": [],
   "source": [
    "print(single.get_runnable_state().get_calc_state())\n",
    "print(single.get_runnable_state().get_error())"
   ]
  },
  {
   "cell_type": "markdown",
   "metadata": {},
   "source": [
    "For now, results from OORB are not parsed. They are available in the ephemeris field in their native form and units. Conversion is TBD."
   ]
  },
  {
   "cell_type": "code",
   "execution_count": null,
   "metadata": {},
   "outputs": [],
   "source": [
    "children = props.get_children(single.get_uuid())\n",
    "result = children[0]\n",
    "print(result.get_runnable_state().get_calc_state())\n",
    "print(result.get_runnable_state().get_error())"
   ]
  },
  {
   "cell_type": "code",
   "execution_count": null,
   "metadata": {},
   "outputs": [],
   "source": [
    "# This is raw OORB output for now.\n",
    "print(result.get_ephemeris())"
   ]
  },
  {
   "cell_type": "code",
   "execution_count": null,
   "metadata": {},
   "outputs": [],
   "source": [
    "#Cleans up working project and any batches and runs that were made within the project.\n",
    "service.teardown()"
   ]
  }
 ],
 "metadata": {
  "kernelspec": {
   "display_name": "Python 3",
   "language": "python",
   "name": "python3"
  },
  "language_info": {
   "codemirror_mode": {
    "name": "ipython",
    "version": 3
   },
   "file_extension": ".py",
   "mimetype": "text/x-python",
   "name": "python",
   "nbconvert_exporter": "python",
   "pygments_lexer": "ipython3",
   "version": "3.5.2"
  }
 },
 "nbformat": 4,
 "nbformat_minor": 2
}
