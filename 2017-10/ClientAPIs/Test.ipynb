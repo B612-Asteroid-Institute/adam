{
 "cells": [
  {
   "cell_type": "markdown",
   "metadata": {},
   "source": [
    "This is a Notebook to test the ADAM batch OPM API.<br>\n",
    "It was taken from test.py"
   ]
  },
  {
   "cell_type": "code",
   "execution_count": null,
   "metadata": {},
   "outputs": [],
   "source": [
    "from adam import Auth\n",
    "from adam import Batch\n",
    "from adam import Projects\n",
    "from adam import RestRequests\n",
    "from adam import AuthorizingRestProxy\n",
    "import time\n",
    "import os"
   ]
  },
  {
   "cell_type": "code",
   "execution_count": null,
   "metadata": {},
   "outputs": [],
   "source": [
    "rest = RestRequests(\"http://pro-equinox-162418.appspot.com/_ah/api/adam/v1\")\n",
    "auth = Auth()\n",
    "auth.set_rest_accessor(rest)\n",
    "\n",
    "tokenFile = os.getcwd() + '/token.txt'\n",
    "# Opening with \"a+\" instead of \"r\" creates the file if it doesn't exist.\n",
    "with open(tokenFile, \"a+\") as f:\n",
    "    f.seek(0)\n",
    "    token = f.read()\n",
    "\n",
    "try:\n",
    "    if not auth.authorize(token):\n",
    "        if auth.initial_authorization():\n",
    "            with open(tokenFile, \"w\") as f:\n",
    "                f.write(auth.get_token())\n",
    "except RuntimeError as e:\n",
    "    print('Encountered server error while attempting to authorize: ' + str(e))\n",
    "\n",
    "if auth.get_token() == \"\":\n",
    "    print('Could not authorize user.')\n",
    "else:\n",
    "    print('Welcome, ' + auth.get_user())\n",
    "    "
   ]
  },
  {
   "cell_type": "code",
   "execution_count": null,
   "metadata": {},
   "outputs": [],
   "source": [
    "# If non-empty, auth.get_token() can now be used to authorize calls to other API methods.\n",
    "auth_rest = AuthorizingRestProxy(rest, auth.get_token())\n",
    "\n",
    "projects = Projects(auth_rest)\n",
    "project = projects.new_project('ffffffff-ffff-ffff-ffff-ffffffffffff', None, \"parent\")\n",
    "child = projects.new_project(project.get_uuid(), None, \"child\")\n",
    "print('Current projects, including newly-created parent and child:')\n",
    "projects.print_projects()\n",
    "projects.delete_project(child.get_uuid())\n",
    "projects.delete_project(project.get_uuid())"
   ]
  },
  {
   "cell_type": "code",
   "execution_count": null,
   "metadata": {},
   "outputs": [],
   "source": [
    "state_vec = [130347560.13690618,\n",
    "             -74407287.6018632,\n",
    "             -35247598.541470632,\n",
    "             23.935241263310683,\n",
    "             27.146279819258538,\n",
    "             10.346605942591514]"
   ]
  },
  {
   "cell_type": "markdown",
   "metadata": {},
   "source": [
    "### Initiate Batch Class and Set Params"
   ]
  },
  {
   "cell_type": "code",
   "execution_count": null,
   "metadata": {},
   "outputs": [],
   "source": [
    "batch_run = Batch()\n",
    "batch_run.set_start_time('2017-10-04T00:00:00Z')\n",
    "batch_run.set_end_time('2017-10-11T00:00:00Z')\n",
    "batch_run.set_state_vector('2017-10-04T00:00:00.000Z', state_vec)"
   ]
  },
  {
   "cell_type": "code",
   "execution_count": null,
   "metadata": {},
   "outputs": [],
   "source": [
    "# Optional parameters (uncomment to use)\n",
    "# batch_run.set_propagator_uuid(\"00000000-0000-0000-0000-000000000002\")    # Only Sun as point mass, nothing else\n",
    "# batch_run.set_step_size(3600, 'min')\n",
    "# batch_run.set_mass(500.5)\n",
    "# batch_run.set_solar_rad_area(25.2)\n",
    "# batch_run.set_solar_rad_coeff(1.2)\n",
    "# batch_run.set_drag_area(33.3)\n",
    "# batch_run.set_drag_coeff(2.5)\n",
    "# batch_run.set_originator('Robot')\n",
    "# batch_run.set_object_name('TestObj')\n",
    "# batch_run.set_object_id('test1234')\n",
    "# batch_run.set_description('some description')"
   ]
  },
  {
   "cell_type": "markdown",
   "metadata": {},
   "source": [
    "### Submit Batch"
   ]
  },
  {
   "cell_type": "code",
   "execution_count": null,
   "metadata": {},
   "outputs": [],
   "source": [
    "print(\"Initial state %s\" % batch_run)\n",
    "print\n",
    "print(batch_run.generate_opm())"
   ]
  },
  {
   "cell_type": "code",
   "execution_count": null,
   "metadata": {},
   "outputs": [],
   "source": [
    "batch_run.submit()\n",
    "print\n",
    "print(\"Final state %s\" % batch_run)\n",
    "\n",
    "#while not batch_run.is_ready():\n",
    "#    time.sleep(5)"
   ]
  },
  {
   "cell_type": "markdown",
   "metadata": {},
   "source": [
    "### Get Status"
   ]
  },
  {
   "cell_type": "code",
   "execution_count": null,
   "metadata": {},
   "outputs": [],
   "source": [
    "batch_run.is_ready()"
   ]
  },
  {
   "cell_type": "code",
   "execution_count": null,
   "metadata": {},
   "outputs": [],
   "source": [
    "batch_run.get_calc_state()"
   ]
  },
  {
   "cell_type": "markdown",
   "metadata": {},
   "source": [
    "### Get Ephemeris"
   ]
  },
  {
   "cell_type": "code",
   "execution_count": null,
   "metadata": {},
   "outputs": [],
   "source": [
    "part_count = batch_run.get_parts_count()\n",
    "print(\"Parts count: %s\" % (part_count))"
   ]
  },
  {
   "cell_type": "code",
   "execution_count": null,
   "metadata": {},
   "outputs": [],
   "source": [
    "part_to_get = 1\n",
    "eph = batch_run.get_part_ephemeris(part_to_get)\n",
    "print(\"Ephemeris\")\n",
    "print(eph)"
   ]
  },
  {
   "cell_type": "code",
   "execution_count": null,
   "metadata": {},
   "outputs": [],
   "source": []
  }
 ],
 "metadata": {
  "kernelspec": {
   "display_name": "Python 3",
   "language": "python",
   "name": "python3"
  },
  "language_info": {
   "codemirror_mode": {
    "name": "ipython",
    "version": 3
   },
   "file_extension": ".py",
   "mimetype": "text/x-python",
   "name": "python",
   "nbconvert_exporter": "python",
   "pygments_lexer": "ipython3",
   "version": "3.6.4"
  }
 },
 "nbformat": 4,
 "nbformat_minor": 1
}
