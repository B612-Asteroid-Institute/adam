{
 "cells": [
  {
   "cell_type": "markdown",
   "metadata": {},
   "source": [
    "This is a Notebook to test the ADAM batch OPM API.<br>\n",
    "It was taken from test.py"
   ]
  },
  {
   "cell_type": "code",
   "execution_count": 5,
   "metadata": {},
   "outputs": [],
   "source": [
    "from adam import Auth\n",
    "from adam import Batch\n",
    "import time\n",
    "import os"
   ]
  },
  {
   "cell_type": "code",
   "execution_count": 8,
   "metadata": {},
   "outputs": [
    {
     "name": "stdout",
     "output_type": "stream",
     "text": [
      "Encountered server error while attempting to authorize: Server status code: 503; Response: {u'error': {u'code': 503, u'message': u'org.apache.shiro.session.UnknownSessionException: There is no session with id [178b7a41-dc06-4ec1-be7d-f40f8d46af09]', u'errors': [{u'domain': u'global', u'message': u'org.apache.shiro.session.UnknownSessionException: There is no session with id [178b7a41-dc06-4ec1-be7d-f40f8d46af09]', u'reason': u'backendError'}]}}\n",
      "Could not authorize user.\n"
     ]
    }
   ],
   "source": [
    "auth = Auth()\n",
    "tokenFile = os.getcwd() + '/token.txt'\n",
    "# Opening with \"a+\" instead of \"r\" creates the file if it doesn't exist.\n",
    "with open(tokenFile, \"a+\") as f:\n",
    "    f.seek(0)\n",
    "    token = f.read()\n",
    "\n",
    "try:\n",
    "    if not auth.authorize(token):\n",
    "        if auth.initial_authorization():\n",
    "            with open(tokenFile, \"w\") as f:\n",
    "                f.write(auth.get_token())\n",
    "except RuntimeError as e:\n",
    "    print('Encountered server error while attempting to authorize: ' + str(e))\n",
    "\n",
    "if auth.get_token() == \"\":\n",
    "    print('Could not authorize user.')\n",
    "else:\n",
    "    print('Welcome, ' + auth.get_user())\n",
    "    \n",
    "# If non-empty, auth.get_token() can now be used to authorize calls to other API methods."
   ]
  },
  {
   "cell_type": "code",
   "execution_count": 9,
   "metadata": {},
   "outputs": [],
   "source": [
    "state_vec = [130347560.13690618,\n",
    "             -74407287.6018632,\n",
    "             -35247598.541470632,\n",
    "             23.935241263310683,\n",
    "             27.146279819258538,\n",
    "             10.346605942591514]"
   ]
  },
  {
   "cell_type": "markdown",
   "metadata": {},
   "source": [
    "### Initiate Batch Class and Set Params"
   ]
  },
  {
   "cell_type": "code",
   "execution_count": 10,
   "metadata": {},
   "outputs": [],
   "source": [
    "batch_run = Batch()\n",
    "batch_run.set_start_time('2017-10-04T00:00:00Z')\n",
    "batch_run.set_end_time('2017-10-11T00:00:00Z')\n",
    "batch_run.set_state_vector('2017-10-04T00:00:00.000Z', state_vec)"
   ]
  },
  {
   "cell_type": "code",
   "execution_count": 11,
   "metadata": {},
   "outputs": [],
   "source": [
    "# Optional parameters (uncomment to use)\n",
    "# batch_run.set_propagator_uuid(\"00000000-0000-0000-0000-000000000002\")    # Only Sun as point mass, nothing else\n",
    "# batch_run.set_step_size(3600, 'min')\n",
    "# batch_run.set_mass(500.5)\n",
    "# batch_run.set_solar_rad_area(25.2)\n",
    "# batch_run.set_solar_rad_coeff(1.2)\n",
    "# batch_run.set_drag_area(33.3)\n",
    "# batch_run.set_drag_coeff(2.5)\n",
    "# batch_run.set_originator('Robot')\n",
    "# batch_run.set_object_name('TestObj')\n",
    "# batch_run.set_object_id('test1234')\n",
    "# batch_run.set_description('some description')"
   ]
  },
  {
   "cell_type": "markdown",
   "metadata": {},
   "source": [
    "### Submit Batch"
   ]
  },
  {
   "cell_type": "code",
   "execution_count": 12,
   "metadata": {},
   "outputs": [
    {
     "name": "stdout",
     "output_type": "stream",
     "text": [
      "Initial state Batch None, None\n",
      "\n",
      "CCSDS_OPM_VERS = 2.0\n",
      "CREATION_DATE = 2018-01-16 16:29:21.924523\n",
      "ORIGINATOR = ADAM_User\n",
      "COMMENT Cartesian coordinate system\n",
      "OBJECT_NAME = dummy\n",
      "OBJECT_ID = 001\n",
      "CENTER_NAME = SUN\n",
      "REF_FRAME = ITRF-97\n",
      "TIME_SYSTEM = UTC\n",
      "EPOCH = 2017-10-04T00:00:00.000Z\n",
      "X = 130347560.137\n",
      "Y = -74407287.6019\n",
      "Z = -35247598.5415\n",
      "X_DOT = 23.9352412633\n",
      "Y_DOT = 27.1462798193\n",
      "Z_DOT = 10.3466059426\n",
      "MASS = 1000\n",
      "SOLAR_RAD_AREA = 20\n",
      "SOLAR_RAD_COEFF = 1\n",
      "DRAG_AREA = 20\n",
      "DRAG_COEFF = 2.2\n"
     ]
    }
   ],
   "source": [
    "print(\"Initial state %s\" % batch_run)\n",
    "print\n",
    "print(batch_run.generate_opm())"
   ]
  },
  {
   "cell_type": "code",
   "execution_count": 13,
   "metadata": {},
   "outputs": [
    {
     "name": "stdout",
     "output_type": "stream",
     "text": [
      "\n",
      "Final state Batch d5818bd0-0b2c-429f-9bba-e132e3a0aadb, COMPLETED\n"
     ]
    }
   ],
   "source": [
    "batch_run.submit()\n",
    "print\n",
    "print(\"Final state %s\" % batch_run)\n",
    "\n",
    "#while not batch_run.is_ready():\n",
    "#    time.sleep(5)"
   ]
  },
  {
   "cell_type": "markdown",
   "metadata": {},
   "source": [
    "### Get Status"
   ]
  },
  {
   "cell_type": "code",
   "execution_count": 14,
   "metadata": {},
   "outputs": [
    {
     "data": {
      "text/plain": [
       "True"
      ]
     },
     "execution_count": 14,
     "metadata": {},
     "output_type": "execute_result"
    }
   ],
   "source": [
    "batch_run.is_ready()"
   ]
  },
  {
   "cell_type": "code",
   "execution_count": 15,
   "metadata": {},
   "outputs": [
    {
     "data": {
      "text/plain": [
       "u'COMPLETED'"
      ]
     },
     "execution_count": 15,
     "metadata": {},
     "output_type": "execute_result"
    }
   ],
   "source": [
    "batch_run.get_calc_state()"
   ]
  },
  {
   "cell_type": "markdown",
   "metadata": {},
   "source": [
    "### Get Ephemeris"
   ]
  },
  {
   "cell_type": "code",
   "execution_count": 16,
   "metadata": {},
   "outputs": [
    {
     "name": "stdout",
     "output_type": "stream",
     "text": [
      "Parts count: 1\n"
     ]
    }
   ],
   "source": [
    "part_count = batch_run.get_parts_count()\n",
    "print(\"Parts count: %s\" % (part_count))"
   ]
  },
  {
   "cell_type": "code",
   "execution_count": 17,
   "metadata": {},
   "outputs": [
    {
     "name": "stdout",
     "output_type": "stream",
     "text": [
      "Ephemeris\n",
      "stk.v.9.0\n",
      "\n",
      "# WrittenBy    STK_Components_2017 r2(17.2.389.0)\n",
      "\n",
      "BEGIN Ephemeris\n",
      "\n",
      "NumberOfEphemerisPoints\t8\n",
      "ScenarioEpoch\t4 Oct 2017 00:00:00\n",
      "InterpolationMethod\tHermite\n",
      "InterpolationSamplesM1\t2\n",
      "CentralBody\tSun\n",
      "CoordinateSystem\tICRF\n",
      "\n",
      "EphemerisTimePosVel\n",
      "\n",
      "0 130347560137 -74407287601.9 -35247598541.5 23935.2412633 27146.279819299998 10346.6059426\n",
      "86400 132397901142.45258 -72051923842.3127 -34348940383.292072 23525.854645003623 27374.492096888574 10455.050276314887\n",
      "172800 134412746667.19612 -69677241421.18349 -33441072651.001106 23113.650115735036 27593.466990700686 10559.786619251057\n",
      "259200 136391869646.96265 -67284039250.37945 -32524316622.11705 22699.006699399622 27803.18884410494 10660.795195651612\n",
      "345600 138335075572.74088 -64873116848.70206 -31598994968.622974 22282.298783428872 28003.659175769622 10758.063471260788\n",
      "432000 140242202043.83856 -62445272881.84307 -30665431139.550724 21863.8950573874 28194.896115651063 10851.585958191672\n",
      "518400 142113118232.26938 -60001303753.74594 -29723948761.60501 21444.157522417954 28376.933780295265 10941.363992288676\n",
      "604800 143947724264.7554 -57542002254.29527 -28774871060.106117 21023.440575249795 28549.821594895373 11027.405485923911\n",
      "\n",
      "END Ephemeris\n",
      "\n",
      "\n"
     ]
    }
   ],
   "source": [
    "part_to_get = 1\n",
    "eph = batch_run.get_part_ephemeris(part_to_get)\n",
    "print(\"Ephemeris\")\n",
    "print(eph)"
   ]
  },
  {
   "cell_type": "code",
   "execution_count": null,
   "metadata": {},
   "outputs": [],
   "source": []
  }
 ],
 "metadata": {
  "kernelspec": {
   "display_name": "Python 3",
   "language": "python",
   "name": "python3"
  },
  "language_info": {
   "codemirror_mode": {
    "name": "ipython",
    "version": 2
   },
   "file_extension": ".py",
   "mimetype": "text/x-python",
   "name": "python",
   "nbconvert_exporter": "python",
   "pygments_lexer": "ipython2",
   "version": "2.7.14"
  }
 },
 "nbformat": 4,
 "nbformat_minor": 1
}
