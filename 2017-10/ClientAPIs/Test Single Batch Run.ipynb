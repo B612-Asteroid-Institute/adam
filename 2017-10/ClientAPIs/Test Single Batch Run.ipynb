{
 "cells": [
  {
   "cell_type": "markdown",
   "metadata": {},
   "source": [
    "# This notebook is to test a single batch run in ADAM"
   ]
  },
  {
   "cell_type": "code",
   "execution_count": null,
   "metadata": {
    "collapsed": true
   },
   "outputs": [],
   "source": [
    "from adam import Auth\n",
    "from adam import RestRequests\n",
    "from adam import Batch\n",
    "from adam import Projects\n",
    "from adam import AuthorizingRestProxy\n",
    "import time\n",
    "import os"
   ]
  },
  {
   "cell_type": "markdown",
   "metadata": {},
   "source": [
    "### Authorize User and Get Projects [TODO: move this somewhere else]\n",
    "This should really be done under the hood and not exposed to the client"
   ]
  },
  {
   "cell_type": "code",
   "execution_count": null,
   "metadata": {
    "collapsed": true
   },
   "outputs": [],
   "source": [
    "url = \"https://pro-equinox-162418.appspot.com/_ah/api/adam/v1\"\n",
    "rest = RestRequests(url)\n",
    "auth = Auth(rest)\n",
    "\n",
    "tokenFile = os.getcwd() + '/token.txt'\n",
    "# Opening with \"a+\" instead of \"r\" creates the file if it doesn't exist.\n",
    "with open(tokenFile, \"a+\") as f:\n",
    "    f.seek(0)\n",
    "    token = f.readline().replace('\\n', '')\n",
    "\n",
    "try:\n",
    "    if not auth.authorize(token):\n",
    "        if auth.initial_authorization():\n",
    "            with open(tokenFile, \"w\") as f:\n",
    "                f.write(auth.get_token())\n",
    "except RuntimeError as e:\n",
    "    print('Encountered server error while attempting to authorize: ' + str(e))\n",
    "\n",
    "if auth.get_token() == \"\":\n",
    "    print('Could not authorize user.')\n",
    "else:\n",
    "    print('Welcome, ' + auth.get_user())\n",
    "    "
   ]
  },
  {
   "cell_type": "code",
   "execution_count": null,
   "metadata": {
    "collapsed": true
   },
   "outputs": [],
   "source": [
    "# If non-empty, auth.get_token() can now be used to authorize calls to other API methods.\n",
    "auth_rest = AuthorizingRestProxy(rest, auth.get_token())\n",
    "\n",
    "projects = Projects(auth_rest)\n",
    "project = projects.new_project('ffffffff-ffff-ffff-ffff-ffffffffffff', None, \"parent\")\n",
    "child = projects.new_project(project.get_uuid(), None, \"child\")\n",
    "print('Current projects, including newly-created parent and child:')\n",
    "projects.print_projects()\n",
    "projects.delete_project(child.get_uuid())\n",
    "projects.delete_project(project.get_uuid())"
   ]
  },
  {
   "cell_type": "markdown",
   "metadata": {},
   "source": [
    "## Example Inputs"
   ]
  },
  {
   "cell_type": "code",
   "execution_count": null,
   "metadata": {
    "collapsed": true
   },
   "outputs": [],
   "source": [
    "# 6x1 state vector (position [km], velocity [km/s])\n",
    "state_vec = [130347560.13690618,\n",
    "             -74407287.6018632,\n",
    "             -35247598.541470632,\n",
    "             23.935241263310683,\n",
    "             27.146279819258538,\n",
    "             10.346605942591514]\n",
    "\n",
    "# Lower triangular covariance matrix (21 elements in a list)\n",
    "covariance = [3.331349476038534e-04, + \\\n",
    "              4.618927349220216e-04, 6.782421679971363e-04, + \\\n",
    "             -3.070007847730449e-04, -4.221234189514228e-04, 3.231931992380369e-04, + \\\n",
    "             -3.349365033922630e-07, -4.686084221046758e-07, 2.484949578400095e-07, 4.296022805587290e-10, + \\\n",
    "             -2.211832501084875e-07, -2.864186892102733e-07, 1.798098699846038e-07, 2.608899201686016e-10, 1.767514756338532e-10, + \\\n",
    "             -3.041346050686871e-07, -4.989496988610662e-07, 3.540310904497689e-07, 1.869263192954590e-10, 1.008862586240695e-10, 6.224444338635500e-10]"
   ]
  },
  {
   "cell_type": "markdown",
   "metadata": {},
   "source": [
    "### Initiate Batch Class and Set Parameters"
   ]
  },
  {
   "cell_type": "code",
   "execution_count": null,
   "metadata": {
    "collapsed": true
   },
   "outputs": [],
   "source": [
    "batch_run = Batch(rest)                                              # initialize\n",
    "batch_run.set_start_time('2017-10-04T00:00:00Z')                     # set propagation start time in ISO format\n",
    "batch_run.set_end_time('2017-10-11T00:00:00Z')                       # set propagation end time in ISO format\n",
    "batch_run.set_state_vector('2017-10-04T00:00:00.000Z', state_vec)    # set epoch (in ISO format) and state vector"
   ]
  },
  {
   "cell_type": "code",
   "execution_count": null,
   "metadata": {
    "collapsed": true
   },
   "outputs": [],
   "source": [
    "# Optional parameters (uncomment to use)\n",
    "# batch_run.set_propagator_uuid(\"00000000-0000-0000-0000-000000000002\")    # set force model from config\n",
    "# batch_run.set_step_size(3600, 'min')                                     # set step size and units\n",
    "# batch_run.set_mass(500.5)                                                # set covariance, type, and sigma\n",
    "# batch_run.set_solar_rad_area(25.2)                                       # set object mass\n",
    "# batch_run.set_solar_rad_coeff(1.2)                                       # set object solar radiation area (m^2)\n",
    "# batch_run.set_drag_area(33.3)                                            # set object drag area (m^2)\n",
    "# batch_run.set_drag_coeff(2.5)                                            # set object drag coefficient\n",
    "# batch_run.set_originator('Robot')                                        # set originator of run\n",
    "# batch_run.set_object_name('TestObj')                                     # set object name\n",
    "# batch_run.set_object_id('test1234')                                      # set object ID\n",
    "# batch_run.set_description('some description')                            # set description of run"
   ]
  },
  {
   "cell_type": "markdown",
   "metadata": {},
   "source": [
    "### Generate OPM and Submit Batch"
   ]
  },
  {
   "cell_type": "code",
   "execution_count": null,
   "metadata": {
    "collapsed": true
   },
   "outputs": [],
   "source": [
    "# Generate OPM\n",
    "print(\"Initial state %s\" % batch_run)\n",
    "print\n",
    "print(\"Submitted OPM:\")\n",
    "print(batch_run.generate_opm())"
   ]
  },
  {
   "cell_type": "code",
   "execution_count": null,
   "metadata": {
    "collapsed": true
   },
   "outputs": [],
   "source": [
    "# Submit batch\n",
    "batch_run.submit()\n",
    "print\n",
    "print(\"Final state: %s\" % batch_run)"
   ]
  },
  {
   "cell_type": "code",
   "execution_count": null,
   "metadata": {
    "collapsed": true
   },
   "outputs": [],
   "source": [
    "# Wait until batch is ready\n",
    "while not batch_run.is_ready():\n",
    "    print(\"Waiting...\")\n",
    "    time.sleep(5)"
   ]
  },
  {
   "cell_type": "markdown",
   "metadata": {},
   "source": [
    "### Get Status and Parts Count"
   ]
  },
  {
   "cell_type": "code",
   "execution_count": null,
   "metadata": {
    "collapsed": true
   },
   "outputs": [],
   "source": [
    "# Check if batch is ready\n",
    "batch_run.is_ready()\n",
    "\n",
    "# Get batch state\n",
    "batch_run.get_calc_state()"
   ]
  },
  {
   "cell_type": "code",
   "execution_count": null,
   "metadata": {
    "collapsed": true
   },
   "outputs": [],
   "source": [
    "# Get final parts count\n",
    "part_count = batch_run.get_parts_count()\n",
    "print(\"Final state %s, part count %s\\n\" % (batch_run.get_calc_state(), part_count))"
   ]
  },
  {
   "cell_type": "markdown",
   "metadata": {},
   "source": [
    "### Get Ephemeris of Specified Part"
   ]
  },
  {
   "cell_type": "code",
   "execution_count": null,
   "metadata": {
    "collapsed": true
   },
   "outputs": [],
   "source": [
    "part_to_get = 1\n",
    "eph = batch_run.get_part_ephemeris(part_to_get)\n",
    "print(\"Ephemeris\")\n",
    "print(eph)"
   ]
  },
  {
   "cell_type": "markdown",
   "metadata": {},
   "source": [
    "### Get ending state vector"
   ]
  },
  {
   "cell_type": "code",
   "execution_count": null,
   "metadata": {
    "collapsed": true
   },
   "outputs": [],
   "source": [
    "end_state_vector = batch_run.get_end_state_vector()\n",
    "print(\"State vector at the end of propagation:\")\n",
    "print(end_state_vector)"
   ]
  }
 ],
 "metadata": {
  "kernelspec": {
   "display_name": "Python 3",
   "language": "python",
   "name": "python3"
  },
  "language_info": {
   "codemirror_mode": {
    "name": "ipython",
    "version": 3
   },
   "file_extension": ".py",
   "mimetype": "text/x-python",
   "name": "python",
   "nbconvert_exporter": "python",
   "pygments_lexer": "ipython3",
   "version": "3.6.2"
  }
 },
 "nbformat": 4,
 "nbformat_minor": 1
}
