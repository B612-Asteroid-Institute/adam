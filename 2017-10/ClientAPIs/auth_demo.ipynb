{
 "cells": [
  {
   "cell_type": "markdown",
   "metadata": {},
   "source": [
    "## Authorization demo\n",
    "\n",
    "This notebook demonstrates use of the Auth module to generate a token that can be passed to the ADAM REST server for access to API methods.\n",
    "\n",
    "Specifically, it demonstrates how to store a token in a local file for continued use, while using the Auth module to validate that token and generate new tokens as necessary."
   ]
  },
  {
   "cell_type": "code",
   "execution_count": 1,
   "metadata": {},
   "outputs": [],
   "source": [
    "from adam.auth import Auth\n",
    "import os"
   ]
  },
  {
   "cell_type": "markdown",
   "metadata": {},
   "source": [
    "This demo uses a file in the current directory for both reading and writing the token, but you could use separate files for input and output, or not use a file to store your token at all!\n",
    "\n",
    "It attempts to authorize using the token in the file. If that fails, it tries to authorize anew. This is a flow that directs a user to a page where they can log in and get a token. Finally, it writes the token out to a file so it can be used next time!"
   ]
  },
  {
   "cell_type": "code",
   "execution_count": 6,
   "metadata": {},
   "outputs": [],
   "source": [
    "auth = Auth()"
   ]
  },
  {
   "cell_type": "code",
   "execution_count": 7,
   "metadata": {},
   "outputs": [],
   "source": [
    "tokenFile = os.getcwd() + '/token.txt'\n",
    "# Opening with \"a+\" instead of \"r\" creates the file if it doesn't exist.\n",
    "with open(tokenFile, \"a+\") as f:\n",
    "    f.seek(0)\n",
    "    token = f.read()"
   ]
  },
  {
   "cell_type": "code",
   "execution_count": 10,
   "metadata": {},
   "outputs": [
    {
     "name": "stdout",
     "output_type": "stream",
     "text": [
      "Encountered server error while attempting to authorize: Server status code: 503; Response: {u'error': {u'code': 503, u'message': u'org.apache.shiro.session.UnknownSessionException: There is no session with id [178b7a41-dc06-4ec1-be7d-f40f8d46af09]', u'errors': [{u'domain': u'global', u'message': u'org.apache.shiro.session.UnknownSessionException: There is no session with id [178b7a41-dc06-4ec1-be7d-f40f8d46af09]', u'reason': u'backendError'}]}}\n"
     ]
    }
   ],
   "source": [
    "try:\n",
    "    if not auth.authorize(token):\n",
    "        if auth.initial_authorization():\n",
    "            with open(tokenFile, \"w\") as f:\n",
    "                f.write(auth.get_token())\n",
    "except RuntimeError as e:\n",
    "    print('Encountered server error while attempting to authorize: ' + str(e))"
   ]
  },
  {
   "cell_type": "code",
   "execution_count": 11,
   "metadata": {},
   "outputs": [
    {
     "name": "stdout",
     "output_type": "stream",
     "text": [
      "Could not authorize user.\n"
     ]
    }
   ],
   "source": [
    "if auth.get_token() == \"\":\n",
    "    print('Could not authorize user.')\n",
    "else:\n",
    "    print('Welcome, ' + auth.get_user())"
   ]
  },
  {
   "cell_type": "markdown",
   "metadata": {},
   "source": [
    "If non-empty, auth.get_token() can now be used for any API method requiring authorization."
   ]
  },
  {
   "cell_type": "code",
   "execution_count": null,
   "metadata": {},
   "outputs": [],
   "source": []
  }
 ],
 "metadata": {
  "kernelspec": {
   "display_name": "Python 3",
   "language": "python",
   "name": "python3"
  },
  "language_info": {
   "codemirror_mode": {
    "name": "ipython",
    "version": 2
   },
   "file_extension": ".py",
   "mimetype": "text/x-python",
   "name": "python",
   "nbconvert_exporter": "python",
   "pygments_lexer": "ipython2",
   "version": "2.7.14"
  }
 },
 "nbformat": 4,
 "nbformat_minor": 2
}
