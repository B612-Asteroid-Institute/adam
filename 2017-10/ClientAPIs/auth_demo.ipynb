{
 "cells": [
  {
   "cell_type": "markdown",
   "metadata": {},
   "source": [
    "## Authorization demo\n",
    "\n",
    "This notebook demonstrates use of the Auth module to generate a token that can be passed to the ADAM REST server for access to API methods.\n",
    "\n",
    "Specifically, it demonstrates how to store a token in a local file for continued use, while using the Auth module to validate that token and generate new tokens as necessary."
   ]
  },
  {
   "cell_type": "code",
   "execution_count": 1,
   "metadata": {},
   "outputs": [],
   "source": [
    "from adam.auth import Auth\n",
    "from adam import common\n",
    "import os"
   ]
  },
  {
   "cell_type": "markdown",
   "metadata": {},
   "source": [
    "This demo uses a file in the current directory for both reading and writing the token, but you could use separate files for input and output, or not use a file to store your token at all!\n",
    "\n",
    "It attempts to authorize using the token in the file. If that fails, it tries to authorize anew. This is a flow that directs a user to a page where they can log in and get a token. Finally, it writes the token out to a file so it can be used next time!"
   ]
  },
  {
   "cell_type": "code",
   "execution_count": 2,
   "metadata": {},
   "outputs": [],
   "source": [
    "auth = Auth(common.DEFAULT_BASE_URL)"
   ]
  },
  {
   "cell_type": "code",
   "execution_count": 5,
   "metadata": {},
   "outputs": [],
   "source": [
    "tokenFile = os.getcwd() + '/token.txt'\n",
    "# Opening with \"a+\" instead of \"r\" creates the file if it doesn't exist.\n",
    "with open(tokenFile, \"a+\") as f:\n",
    "    f.seek(0)\n",
    "    token = f.read()"
   ]
  },
  {
   "cell_type": "code",
   "execution_count": 6,
   "metadata": {},
   "outputs": [
    {
     "name": "stdout",
     "output_type": "stream",
     "text": [
      "A web browser will open with a page where you can log in. Please choose your method of authorization, then copy the generated token here. Press enter to continue.\n",
      "Please paste the generated token here: ik6O46g4ZDThQjEKrvp5ZQo36ai2\n"
     ]
    }
   ],
   "source": [
    "if not auth.authorize(token):\n",
    "    if not auth.initial_authorization():\n",
    "        print('Could not authorize user.')\n",
    "    else:\n",
    "        with open(tokenFile, \"w\") as f:\n",
    "            f.write(auth.get_token())"
   ]
  },
  {
   "cell_type": "code",
   "execution_count": 9,
   "metadata": {},
   "outputs": [
    {
     "name": "stdout",
     "output_type": "stream",
     "text": [
      "Welcome, laurahlark@gmail.com\n"
     ]
    }
   ],
   "source": [
    "if not auth.get_token() == \"\":\n",
    "    print('Welcome, ' + auth.get_user())"
   ]
  },
  {
   "cell_type": "markdown",
   "metadata": {},
   "source": [
    "auth.get_token() can now be used for any API method requiring authorization."
   ]
  },
  {
   "cell_type": "code",
   "execution_count": null,
   "metadata": {},
   "outputs": [],
   "source": []
  }
 ],
 "metadata": {
  "kernelspec": {
   "display_name": "Python 3",
   "language": "python",
   "name": "python3"
  },
  "language_info": {
   "codemirror_mode": {
    "name": "ipython",
    "version": 2
   },
   "file_extension": ".py",
   "mimetype": "text/x-python",
   "name": "python",
   "nbconvert_exporter": "python",
   "pygments_lexer": "ipython2",
   "version": "2.7.14"
  }
 },
 "nbformat": 4,
 "nbformat_minor": 2
}
