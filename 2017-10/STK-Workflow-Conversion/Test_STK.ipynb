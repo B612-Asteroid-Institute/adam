{
 "cells": [
  {
   "cell_type": "markdown",
   "metadata": {},
   "source": [
    "Here is some code for importing Python modules"
   ]
  },
  {
   "cell_type": "code",
   "execution_count": 10,
   "metadata": {
    "collapsed": true
   },
   "outputs": [],
   "source": [
    "import numpy as np\n",
    "\n",
    "import pandas as pd\n",
    "\n",
    "import scipy as sp\n",
    "\n",
    "import matplotlib\n",
    "\n",
    "import matplotlib.pyplot as plt\n",
    "\n",
    "% matplotlib inline"
   ]
  },
  {
   "cell_type": "markdown",
   "metadata": {},
   "source": [
    "Here is an example of a simple graph:"
   ]
  },
  {
   "cell_type": "code",
   "execution_count": 4,
   "metadata": {
    "scrolled": true
   },
   "outputs": [
    {
     "data": {
      "text/plain": [
       "<matplotlib.text.Text at 0x1c275efcd30>"
      ]
     },
     "execution_count": 4,
     "metadata": {},
     "output_type": "execute_result"
    },
    {
     "data": {
      "image/png": "[encoded data removed]",
      "text/plain": [
       "<matplotlib.figure.Figure at 0x1c2720a3f28>"
      ]
     },
     "metadata": {},
     "output_type": "display_data"
    }
   ],
   "source": [
    "plt.plot([1,2,3,4])\n",
    "plt.ylabel('some numbers')"
   ]
  },
  {
   "cell_type": "markdown",
   "metadata": {},
   "source": [
    "Another example of graphing:"
   ]
  },
  {
   "cell_type": "markdown",
   "metadata": {},
   "source": [
    "Now, to control STK:"
   ]
  },
  {
   "cell_type": "code",
   "execution_count": 5,
   "metadata": {
    "collapsed": true
   },
   "outputs": [],
   "source": [
    "import os\n",
    "\n",
    "import win32com.client as win32\n",
    "\n",
    "import datetime\n",
    "\n",
    "import pandas as pd"
   ]
  },
  {
   "cell_type": "code",
   "execution_count": 7,
   "metadata": {
    "collapsed": true,
    "scrolled": false
   },
   "outputs": [],
   "source": [
    "stk_app = win32.gencache.EnsureDispatch('STK11.Application')\n",
    "\n",
    "STK = stk_app.Personality\n",
    "\n",
    "root = stk_app.Personality2\n",
    "\n",
    "stk_app.Visible = True"
   ]
  },
  {
   "cell_type": "markdown",
   "metadata": {},
   "source": [
    "Stop at this point, open a new scenario, get the satellite name and figure out what result value you want. "
   ]
  },
  {
   "cell_type": "code",
   "execution_count": 540,
   "metadata": {},
   "outputs": [],
   "source": [
    "g_gatorDefn = STK.scenario(0).Satellite(\"TestSat\").GetAstrogatorDefn()\n",
    "\n",
    "class STKOutput:\n",
    "    \n",
    "    def __init__(self):\n",
    "        \n",
    "        self.events = []\n",
    "        self.results = None\n",
    "        self._rowNames = None\n",
    "        self._df = None   # semi-private\n",
    "     \n",
    "    def add(self, eventName, quantity, unit):\n",
    "        self.events.append( [eventName, quantity, unit] )\n",
    "        \n",
    "    #def initialize(self, num):\n",
    "        #self.results = np.zeros([len(self.events),num])\n",
    "        \n",
    "    #def update(self, gatorDefn, index):\n",
    "        #for (eventRow, resultRow) in zip(self.events, self.results):\n",
    "            #seg = gatorDefn.GetSegmentByName(eventRow[0])\n",
    "            #resultRow[index] = seg.GetResultValue(eventRow[1]).Getin(eventRow[2]).value\n",
    "    \n",
    "    def update(self, gatorDefn, index):\n",
    "        tempArray = np.zeros([1,len(self.events)])\n",
    "        for i,eventRow in enumerate(self.events):\n",
    "            seg = gatorDefn.GetSegmentByName(eventRow[0])\n",
    "            tempArray[0,i] = seg.GetResultValue(eventRow[1]).Getin(eventRow[2]).value\n",
    "        print(tempArray.T)\n",
    "        print(tempArray.T.shape)\n",
    "        if self.results is None:\n",
    "            self.results = tempArray.T\n",
    "        else:\n",
    "            self.results = np.concatenate((self.results,tempArray.T),axis=1)\n",
    "            \n",
    "    def saveCSV(self,path):\n",
    "        self.df.transpose().to_csv(path)\n",
    "        \n",
    "    @classmethod\n",
    "    def loadCSV(cls,path):\n",
    "        c = cls()\n",
    "        c._df = pd.read_csv(path,index_col=0)\n",
    "        c.results = c._df.as_matrix()\n",
    "        c._rowNames = c._df.index.values.tolist()\n",
    "        c.events = list(c.df.index.map(lambda x: x.replace(')','')).map(lambda x: x.replace('(','')).str.split(\" \").values)\n",
    "        return c\n",
    "            \n",
    "    @property\n",
    "    def rowNames(self):\n",
    "        if self._rowNames is None:\n",
    "            self._rowNames = []\n",
    "            for row in self.events:\n",
    "                self._rowNames.append(row[0] + ' ' + row[1] + ' (' + row[2] + ')')\n",
    "        return self._rowNames\n",
    "        \n",
    "    @property\n",
    "    def df(self):\n",
    "        if self._df is None:\n",
    "            self._df = pd.DataFrame(self.results.transpose(),columns=self.rowNames)\n",
    "        return self._df\n",
    "\n",
    "myOutputs = STKOutput()\n",
    "\n",
    "myOutputs.add(\"Prop_to_apo\", \"Altitude\", \"km\") \n",
    "myOutputs.add(\"Prop_to_apo\", \"Orbit_Period\", \"hr\")\n",
    "    \n",
    "myOutputs.add(\"Prop_to_peri\", \"Altitude\", \"km\")\n",
    "myOutputs.add(\"Prop_to_peri\", \"Orbit_Period\", \"hr\")\n",
    "    \n",
    "myOutputs.add(\"Maneuver\", \"DeltaV\", \"m/sec\")  \n",
    "\n"
   ]
  },
  {
   "cell_type": "code",
   "execution_count": 541,
   "metadata": {},
   "outputs": [
    {
     "data": {
      "text/plain": [
       "<__main__.STKOutput at 0x1c27c668f28>"
      ]
     },
     "execution_count": 541,
     "metadata": {},
     "output_type": "execute_result"
    }
   ],
   "source": [
    "myOutputs"
   ]
  },
  {
   "cell_type": "code",
   "execution_count": 542,
   "metadata": {},
   "outputs": [
    {
     "data": {
      "text/plain": [
       "[['Prop_to_apo', 'Altitude', 'km'],\n",
       " ['Prop_to_apo', 'Orbit_Period', 'hr'],\n",
       " ['Prop_to_peri', 'Altitude', 'km'],\n",
       " ['Prop_to_peri', 'Orbit_Period', 'hr'],\n",
       " ['Maneuver', 'DeltaV', 'm/sec']]"
      ]
     },
     "execution_count": 542,
     "metadata": {},
     "output_type": "execute_result"
    }
   ],
   "source": [
    "numruns = 10\n",
    "\n",
    "myOutputs.events\n",
    "\n"
   ]
  },
  {
   "cell_type": "code",
   "execution_count": 543,
   "metadata": {},
   "outputs": [
    {
     "data": {
      "text/plain": [
       "['Prop_to_apo Altitude (km)',\n",
       " 'Prop_to_apo Orbit_Period (hr)',\n",
       " 'Prop_to_peri Altitude (km)',\n",
       " 'Prop_to_peri Orbit_Period (hr)',\n",
       " 'Maneuver DeltaV (m/sec)']"
      ]
     },
     "execution_count": 543,
     "metadata": {},
     "output_type": "execute_result"
    }
   ],
   "source": [
    "myOutputs.rowNames"
   ]
  },
  {
   "cell_type": "code",
   "execution_count": 544,
   "metadata": {},
   "outputs": [],
   "source": [
    "myOutputs.results"
   ]
  },
  {
   "cell_type": "code",
   "execution_count": 545,
   "metadata": {},
   "outputs": [
    {
     "name": "stdout",
     "output_type": "stream",
     "text": [
      "[[ 299.45525587]\n",
      " [   1.50854965]\n",
      " [ 283.36851454]\n",
      " [   1.50864494]\n",
      " [   0.        ]]\n",
      "(5, 1)\n",
      "[[ 334.20270215]\n",
      " [   1.51442278]\n",
      " [ 283.36851454]\n",
      " [   1.50864494]\n",
      " [  10.        ]]\n",
      "(5, 1)\n",
      "[[ 369.16627089]\n",
      " [   1.52033924]\n",
      " [ 283.36851454]\n",
      " [   1.50864494]\n",
      " [  20.        ]]\n",
      "(5, 1)\n",
      "[[ 404.35249527]\n",
      " [   1.52629969]\n",
      " [ 283.36851454]\n",
      " [   1.50864494]\n",
      " [  30.        ]]\n",
      "(5, 1)\n",
      "[[ 439.76546125]\n",
      " [   1.53230559]\n",
      " [ 283.36851454]\n",
      " [   1.50864494]\n",
      " [  40.        ]]\n",
      "(5, 1)\n",
      "[[ 475.4084281 ]\n",
      " [   1.53835807]\n",
      " [ 283.36851454]\n",
      " [   1.50864494]\n",
      " [  50.        ]]\n",
      "(5, 1)\n",
      "[[ 511.28428689]\n",
      " [   1.54445803]\n",
      " [ 283.36851454]\n",
      " [   1.50864494]\n",
      " [  60.        ]]\n",
      "(5, 1)\n",
      "[[ 547.39573358]\n",
      " [   1.55060624]\n",
      " [ 283.36851454]\n",
      " [   1.50864494]\n",
      " [  70.        ]]\n",
      "(5, 1)\n",
      "[[ 583.74535481]\n",
      " [   1.55680338]\n",
      " [ 283.36851454]\n",
      " [   1.50864494]\n",
      " [  80.        ]]\n",
      "(5, 1)\n",
      "[[ 620.33568301]\n",
      " [   1.56305012]\n",
      " [ 283.36851454]\n",
      " [   1.50864494]\n",
      " [  90.        ]]\n",
      "(5, 1)\n"
     ]
    }
   ],
   "source": [
    "maneuver = g_gatorDefn.GetSegmentByName(\"Maneuver\")\n",
    "\n",
    "for i in range(numruns):\n",
    "    tf = maneuver.ImpulsiveMnvr.Cartesian.X.Set(10*i, \"m/sec\")\n",
    "    tf = g_gatorDefn.RunMCS()\n",
    "    myOutputs.update(g_gatorDefn,i)\n",
    "    \n",
    "    #results[i,0] = peri.GetResultValue(\"Altitude\").Getin(\"km\").value\n",
    "    #results[i,1] = apo.GetResultValue(\"Altitude\").Getin(\"km\").value\n",
    "    #results[i,2] = maneuver.GetResultValue(\"DeltaV\").Getin(\"m/sec\").value"
   ]
  },
  {
   "cell_type": "code",
   "execution_count": 546,
   "metadata": {},
   "outputs": [
    {
     "name": "stdout",
     "output_type": "stream",
     "text": [
      "[[ 0.  0.  0.]\n",
      " [ 0.  0.  0.]\n",
      " [ 0.  0.  0.]\n",
      " [ 0.  0.  0.]\n",
      " [ 0.  0.  0.]]\n"
     ]
    }
   ],
   "source": [
    "s = np.zeros([5,3])\n",
    "print(s)"
   ]
  },
  {
   "cell_type": "markdown",
   "metadata": {},
   "source": [
    "And that's all!"
   ]
  },
  {
   "cell_type": "code",
   "execution_count": 547,
   "metadata": {},
   "outputs": [
    {
     "data": {
      "text/plain": [
       "array([[ 299.45525587,  334.20270215,  369.16627089,  404.35249527,\n",
       "         439.76546125,  475.4084281 ,  511.28428689,  547.39573358,\n",
       "         583.74535481,  620.33568301],\n",
       "       [   1.50854965,    1.51442278,    1.52033924,    1.52629969,\n",
       "           1.53230559,    1.53835807,    1.54445803,    1.55060624,\n",
       "           1.55680338,    1.56305012],\n",
       "       [ 283.36851454,  283.36851454,  283.36851454,  283.36851454,\n",
       "         283.36851454,  283.36851454,  283.36851454,  283.36851454,\n",
       "         283.36851454,  283.36851454],\n",
       "       [   1.50864494,    1.50864494,    1.50864494,    1.50864494,\n",
       "           1.50864494,    1.50864494,    1.50864494,    1.50864494,\n",
       "           1.50864494,    1.50864494],\n",
       "       [   0.        ,   10.        ,   20.        ,   30.        ,\n",
       "          40.        ,   50.        ,   60.        ,   70.        ,\n",
       "          80.        ,   90.        ]])"
      ]
     },
     "execution_count": 547,
     "metadata": {},
     "output_type": "execute_result"
    }
   ],
   "source": [
    "myOutputs.results"
   ]
  },
  {
   "cell_type": "code",
   "execution_count": 548,
   "metadata": {},
   "outputs": [],
   "source": [
    "np.savetxt(\"test.csv\",myOutputs.results, delimiter=\",\")"
   ]
  },
  {
   "cell_type": "code",
   "execution_count": 549,
   "metadata": {},
   "outputs": [
    {
     "name": "stdout",
     "output_type": "stream",
     "text": [
      "2.994552558721916284e+02,3.342027021467495729e+02,3.691662708917770601e+02,4.043524952712768368e+02,4.397654612474453870e+02,4.754084280958695672e+02,5.112842868925695257e+02,5.473957335801170530e+02,5.837453548084247359e+02,6.203356830058977494e+02\n",
      "1.508549653602754503e+00,1.514422779996963619e+00,1.520339236894433066e+00,1.526299688272273469e+00,1.532305589915368582e+00,1.538358069875672252e+00,1.544458030666684634e+00,1.550606237889665007e+00,1.556803384798315371e+00,1.563050117939918993e+00\n",
      "2.833685145353209691e+02,2.833685145353209691e+02,2.833685145353209691e+02,2.833685145353209691e+02,2.833685145353209691e+02,2.833685145353209691e+02,2.833685145353209691e+02,2.833685145353209691e+02,2.833685145353209691e+02,2.833685145353209691e+02\n",
      "1.508644935592839076e+00,1.508644935592839076e+00,1.508644935592839076e+00,1.508644935592839076e+00,1.508644935592839076e+00,1.508644935592839076e+00,1.508644935592839076e+00,1.508644935592839076e+00,1.508644935592839076e+00,1.508644935592839076e+00\n",
      "0.000000000000000000e+00,1.000000000000000000e+01,2.000000000000000000e+01,3.000000000000000000e+01,4.000000000000000000e+01,5.000000000000000000e+01,6.000000000000000000e+01,7.000000000000000000e+01,8.000000000000000000e+01,9.000000000000000000e+01\n"
     ]
    }
   ],
   "source": [
    "!more \"test.csv\""
   ]
  },
  {
   "cell_type": "code",
   "execution_count": 550,
   "metadata": {},
   "outputs": [
    {
     "data": {
      "text/html": [
       "<div>\n",
       "<style>\n",
       "    .dataframe thead tr:only-child th {\n",
       "        text-align: right;\n",
       "    }\n",
       "\n",
       "    .dataframe thead th {\n",
       "        text-align: left;\n",
       "    }\n",
       "\n",
       "    .dataframe tbody tr th {\n",
       "        vertical-align: top;\n",
       "    }\n",
       "</style>\n",
       "<table border=\"1\" class=\"dataframe\">\n",
       "  <thead>\n",
       "    <tr style=\"text-align: right;\">\n",
       "      <th></th>\n",
       "      <th>Prop_to_apo Altitude (km)</th>\n",
       "      <th>Prop_to_apo Orbit_Period (hr)</th>\n",
       "      <th>Prop_to_peri Altitude (km)</th>\n",
       "      <th>Prop_to_peri Orbit_Period (hr)</th>\n",
       "      <th>Maneuver DeltaV (m/sec)</th>\n",
       "    </tr>\n",
       "  </thead>\n",
       "  <tbody>\n",
       "    <tr>\n",
       "      <th>0</th>\n",
       "      <td>299.455256</td>\n",
       "      <td>1.508550</td>\n",
       "      <td>283.368515</td>\n",
       "      <td>1.508645</td>\n",
       "      <td>0.0</td>\n",
       "    </tr>\n",
       "    <tr>\n",
       "      <th>1</th>\n",
       "      <td>334.202702</td>\n",
       "      <td>1.514423</td>\n",
       "      <td>283.368515</td>\n",
       "      <td>1.508645</td>\n",
       "      <td>10.0</td>\n",
       "    </tr>\n",
       "    <tr>\n",
       "      <th>2</th>\n",
       "      <td>369.166271</td>\n",
       "      <td>1.520339</td>\n",
       "      <td>283.368515</td>\n",
       "      <td>1.508645</td>\n",
       "      <td>20.0</td>\n",
       "    </tr>\n",
       "    <tr>\n",
       "      <th>3</th>\n",
       "      <td>404.352495</td>\n",
       "      <td>1.526300</td>\n",
       "      <td>283.368515</td>\n",
       "      <td>1.508645</td>\n",
       "      <td>30.0</td>\n",
       "    </tr>\n",
       "    <tr>\n",
       "      <th>4</th>\n",
       "      <td>439.765461</td>\n",
       "      <td>1.532306</td>\n",
       "      <td>283.368515</td>\n",
       "      <td>1.508645</td>\n",
       "      <td>40.0</td>\n",
       "    </tr>\n",
       "    <tr>\n",
       "      <th>5</th>\n",
       "      <td>475.408428</td>\n",
       "      <td>1.538358</td>\n",
       "      <td>283.368515</td>\n",
       "      <td>1.508645</td>\n",
       "      <td>50.0</td>\n",
       "    </tr>\n",
       "    <tr>\n",
       "      <th>6</th>\n",
       "      <td>511.284287</td>\n",
       "      <td>1.544458</td>\n",
       "      <td>283.368515</td>\n",
       "      <td>1.508645</td>\n",
       "      <td>60.0</td>\n",
       "    </tr>\n",
       "    <tr>\n",
       "      <th>7</th>\n",
       "      <td>547.395734</td>\n",
       "      <td>1.550606</td>\n",
       "      <td>283.368515</td>\n",
       "      <td>1.508645</td>\n",
       "      <td>70.0</td>\n",
       "    </tr>\n",
       "    <tr>\n",
       "      <th>8</th>\n",
       "      <td>583.745355</td>\n",
       "      <td>1.556803</td>\n",
       "      <td>283.368515</td>\n",
       "      <td>1.508645</td>\n",
       "      <td>80.0</td>\n",
       "    </tr>\n",
       "    <tr>\n",
       "      <th>9</th>\n",
       "      <td>620.335683</td>\n",
       "      <td>1.563050</td>\n",
       "      <td>283.368515</td>\n",
       "      <td>1.508645</td>\n",
       "      <td>90.0</td>\n",
       "    </tr>\n",
       "  </tbody>\n",
       "</table>\n",
       "</div>"
      ],
      "text/plain": [
       "   Prop_to_apo Altitude (km)  Prop_to_apo Orbit_Period (hr)  \\\n",
       "0                 299.455256                       1.508550   \n",
       "1                 334.202702                       1.514423   \n",
       "2                 369.166271                       1.520339   \n",
       "3                 404.352495                       1.526300   \n",
       "4                 439.765461                       1.532306   \n",
       "5                 475.408428                       1.538358   \n",
       "6                 511.284287                       1.544458   \n",
       "7                 547.395734                       1.550606   \n",
       "8                 583.745355                       1.556803   \n",
       "9                 620.335683                       1.563050   \n",
       "\n",
       "   Prop_to_peri Altitude (km)  Prop_to_peri Orbit_Period (hr)  \\\n",
       "0                  283.368515                        1.508645   \n",
       "1                  283.368515                        1.508645   \n",
       "2                  283.368515                        1.508645   \n",
       "3                  283.368515                        1.508645   \n",
       "4                  283.368515                        1.508645   \n",
       "5                  283.368515                        1.508645   \n",
       "6                  283.368515                        1.508645   \n",
       "7                  283.368515                        1.508645   \n",
       "8                  283.368515                        1.508645   \n",
       "9                  283.368515                        1.508645   \n",
       "\n",
       "   Maneuver DeltaV (m/sec)  \n",
       "0                      0.0  \n",
       "1                     10.0  \n",
       "2                     20.0  \n",
       "3                     30.0  \n",
       "4                     40.0  \n",
       "5                     50.0  \n",
       "6                     60.0  \n",
       "7                     70.0  \n",
       "8                     80.0  \n",
       "9                     90.0  "
      ]
     },
     "execution_count": 550,
     "metadata": {},
     "output_type": "execute_result"
    }
   ],
   "source": [
    "myOutputs.df"
   ]
  },
  {
   "cell_type": "code",
   "execution_count": 551,
   "metadata": {},
   "outputs": [],
   "source": [
    "a = myOutputs.df"
   ]
  },
  {
   "cell_type": "code",
   "execution_count": 552,
   "metadata": {},
   "outputs": [
    {
     "data": {
      "text/plain": [
       "<matplotlib.text.Text at 0x1c27c672198>"
      ]
     },
     "execution_count": 552,
     "metadata": {},
     "output_type": "execute_result"
    },
    {
     "data": {
      "image/png": "[encoded data removed]",
      "text/plain": [
       "<matplotlib.figure.Figure at 0x1c27c62e7f0>"
      ]
     },
     "metadata": {},
     "output_type": "display_data"
    }
   ],
   "source": [
    "ax = a.plot.scatter('Maneuver DeltaV (m/sec)', 'Prop_to_apo Altitude (km)')\n",
    "ax.set_ylabel('Apogee Altitude (km)')"
   ]
  },
  {
   "cell_type": "code",
   "execution_count": 553,
   "metadata": {},
   "outputs": [
    {
     "data": {
      "text/html": [
       "<div>\n",
       "<style>\n",
       "    .dataframe thead tr:only-child th {\n",
       "        text-align: right;\n",
       "    }\n",
       "\n",
       "    .dataframe thead th {\n",
       "        text-align: left;\n",
       "    }\n",
       "\n",
       "    .dataframe tbody tr th {\n",
       "        vertical-align: top;\n",
       "    }\n",
       "</style>\n",
       "<table border=\"1\" class=\"dataframe\">\n",
       "  <thead>\n",
       "    <tr style=\"text-align: right;\">\n",
       "      <th></th>\n",
       "      <th>0</th>\n",
       "      <th>1</th>\n",
       "      <th>2</th>\n",
       "      <th>3</th>\n",
       "      <th>4</th>\n",
       "      <th>5</th>\n",
       "      <th>6</th>\n",
       "      <th>7</th>\n",
       "      <th>8</th>\n",
       "      <th>9</th>\n",
       "    </tr>\n",
       "  </thead>\n",
       "  <tbody>\n",
       "    <tr>\n",
       "      <th>Prop_to_apo Altitude (km)</th>\n",
       "      <td>299.455256</td>\n",
       "      <td>334.202702</td>\n",
       "      <td>369.166271</td>\n",
       "      <td>404.352495</td>\n",
       "      <td>439.765461</td>\n",
       "      <td>475.408428</td>\n",
       "      <td>511.284287</td>\n",
       "      <td>547.395734</td>\n",
       "      <td>583.745355</td>\n",
       "      <td>620.335683</td>\n",
       "    </tr>\n",
       "    <tr>\n",
       "      <th>Prop_to_apo Orbit_Period (hr)</th>\n",
       "      <td>1.508550</td>\n",
       "      <td>1.514423</td>\n",
       "      <td>1.520339</td>\n",
       "      <td>1.526300</td>\n",
       "      <td>1.532306</td>\n",
       "      <td>1.538358</td>\n",
       "      <td>1.544458</td>\n",
       "      <td>1.550606</td>\n",
       "      <td>1.556803</td>\n",
       "      <td>1.563050</td>\n",
       "    </tr>\n",
       "    <tr>\n",
       "      <th>Prop_to_peri Altitude (km)</th>\n",
       "      <td>283.368515</td>\n",
       "      <td>283.368515</td>\n",
       "      <td>283.368515</td>\n",
       "      <td>283.368515</td>\n",
       "      <td>283.368515</td>\n",
       "      <td>283.368515</td>\n",
       "      <td>283.368515</td>\n",
       "      <td>283.368515</td>\n",
       "      <td>283.368515</td>\n",
       "      <td>283.368515</td>\n",
       "    </tr>\n",
       "    <tr>\n",
       "      <th>Prop_to_peri Orbit_Period (hr)</th>\n",
       "      <td>1.508645</td>\n",
       "      <td>1.508645</td>\n",
       "      <td>1.508645</td>\n",
       "      <td>1.508645</td>\n",
       "      <td>1.508645</td>\n",
       "      <td>1.508645</td>\n",
       "      <td>1.508645</td>\n",
       "      <td>1.508645</td>\n",
       "      <td>1.508645</td>\n",
       "      <td>1.508645</td>\n",
       "    </tr>\n",
       "    <tr>\n",
       "      <th>Maneuver DeltaV (m/sec)</th>\n",
       "      <td>0.000000</td>\n",
       "      <td>10.000000</td>\n",
       "      <td>20.000000</td>\n",
       "      <td>30.000000</td>\n",
       "      <td>40.000000</td>\n",
       "      <td>50.000000</td>\n",
       "      <td>60.000000</td>\n",
       "      <td>70.000000</td>\n",
       "      <td>80.000000</td>\n",
       "      <td>90.000000</td>\n",
       "    </tr>\n",
       "  </tbody>\n",
       "</table>\n",
       "</div>"
      ],
      "text/plain": [
       "                                         0           1           2  \\\n",
       "Prop_to_apo Altitude (km)       299.455256  334.202702  369.166271   \n",
       "Prop_to_apo Orbit_Period (hr)     1.508550    1.514423    1.520339   \n",
       "Prop_to_peri Altitude (km)      283.368515  283.368515  283.368515   \n",
       "Prop_to_peri Orbit_Period (hr)    1.508645    1.508645    1.508645   \n",
       "Maneuver DeltaV (m/sec)           0.000000   10.000000   20.000000   \n",
       "\n",
       "                                         3           4           5  \\\n",
       "Prop_to_apo Altitude (km)       404.352495  439.765461  475.408428   \n",
       "Prop_to_apo Orbit_Period (hr)     1.526300    1.532306    1.538358   \n",
       "Prop_to_peri Altitude (km)      283.368515  283.368515  283.368515   \n",
       "Prop_to_peri Orbit_Period (hr)    1.508645    1.508645    1.508645   \n",
       "Maneuver DeltaV (m/sec)          30.000000   40.000000   50.000000   \n",
       "\n",
       "                                         6           7           8           9  \n",
       "Prop_to_apo Altitude (km)       511.284287  547.395734  583.745355  620.335683  \n",
       "Prop_to_apo Orbit_Period (hr)     1.544458    1.550606    1.556803    1.563050  \n",
       "Prop_to_peri Altitude (km)      283.368515  283.368515  283.368515  283.368515  \n",
       "Prop_to_peri Orbit_Period (hr)    1.508645    1.508645    1.508645    1.508645  \n",
       "Maneuver DeltaV (m/sec)          60.000000   70.000000   80.000000   90.000000  "
      ]
     },
     "execution_count": 553,
     "metadata": {},
     "output_type": "execute_result"
    }
   ],
   "source": [
    "a.transpose()"
   ]
  },
  {
   "cell_type": "code",
   "execution_count": 554,
   "metadata": {},
   "outputs": [
    {
     "data": {
      "text/plain": [
       "array([<matplotlib.axes._subplots.AxesSubplot object at 0x000001C27C668908>,\n",
       "       <matplotlib.axes._subplots.AxesSubplot object at 0x000001C27C7307F0>,\n",
       "       <matplotlib.axes._subplots.AxesSubplot object at 0x000001C27C6ED5C0>,\n",
       "       <matplotlib.axes._subplots.AxesSubplot object at 0x000001C27C7EF860>,\n",
       "       <matplotlib.axes._subplots.AxesSubplot object at 0x000001C27C788E80>], dtype=object)"
      ]
     },
     "execution_count": 554,
     "metadata": {},
     "output_type": "execute_result"
    },
    {
     "data": {
      "image/png": "[encoded data removed]",
      "text/plain": [
       "<matplotlib.figure.Figure at 0x1c27c660048>"
      ]
     },
     "metadata": {},
     "output_type": "display_data"
    }
   ],
   "source": [
    "a.plot(subplots=True)"
   ]
  },
  {
   "cell_type": "code",
   "execution_count": 555,
   "metadata": {},
   "outputs": [
    {
     "data": {
      "text/plain": [
       "<matplotlib.axes._subplots.AxesSubplot at 0x1c27c6aacc0>"
      ]
     },
     "execution_count": 555,
     "metadata": {},
     "output_type": "execute_result"
    },
    {
     "data": {
      "image/png": "[encoded data removed]",
      "text/plain": [
       "<matplotlib.figure.Figure at 0x1c27c920cf8>"
      ]
     },
     "metadata": {},
     "output_type": "display_data"
    }
   ],
   "source": [
    "a.plot.line(\"Maneuver DeltaV (m/sec)\")"
   ]
  },
  {
   "cell_type": "code",
   "execution_count": 556,
   "metadata": {},
   "outputs": [],
   "source": [
    "myOutputs.saveCSV(\"dataFrame.csv\")"
   ]
  },
  {
   "cell_type": "code",
   "execution_count": 557,
   "metadata": {},
   "outputs": [],
   "source": [
    "b = STKOutput.loadCSV(\"dataFrame.csv\")"
   ]
  },
  {
   "cell_type": "code",
   "execution_count": 558,
   "metadata": {},
   "outputs": [
    {
     "data": {
      "text/html": [
       "<div>\n",
       "<style>\n",
       "    .dataframe thead tr:only-child th {\n",
       "        text-align: right;\n",
       "    }\n",
       "\n",
       "    .dataframe thead th {\n",
       "        text-align: left;\n",
       "    }\n",
       "\n",
       "    .dataframe tbody tr th {\n",
       "        vertical-align: top;\n",
       "    }\n",
       "</style>\n",
       "<table border=\"1\" class=\"dataframe\">\n",
       "  <thead>\n",
       "    <tr style=\"text-align: right;\">\n",
       "      <th></th>\n",
       "      <th>0</th>\n",
       "      <th>1</th>\n",
       "      <th>2</th>\n",
       "      <th>3</th>\n",
       "      <th>4</th>\n",
       "      <th>5</th>\n",
       "      <th>6</th>\n",
       "      <th>7</th>\n",
       "      <th>8</th>\n",
       "      <th>9</th>\n",
       "    </tr>\n",
       "  </thead>\n",
       "  <tbody>\n",
       "    <tr>\n",
       "      <th>Prop_to_apo Altitude (km)</th>\n",
       "      <td>299.455256</td>\n",
       "      <td>334.202702</td>\n",
       "      <td>369.166271</td>\n",
       "      <td>404.352495</td>\n",
       "      <td>439.765461</td>\n",
       "      <td>475.408428</td>\n",
       "      <td>511.284287</td>\n",
       "      <td>547.395734</td>\n",
       "      <td>583.745355</td>\n",
       "      <td>620.335683</td>\n",
       "    </tr>\n",
       "    <tr>\n",
       "      <th>Prop_to_apo Orbit_Period (hr)</th>\n",
       "      <td>1.508550</td>\n",
       "      <td>1.514423</td>\n",
       "      <td>1.520339</td>\n",
       "      <td>1.526300</td>\n",
       "      <td>1.532306</td>\n",
       "      <td>1.538358</td>\n",
       "      <td>1.544458</td>\n",
       "      <td>1.550606</td>\n",
       "      <td>1.556803</td>\n",
       "      <td>1.563050</td>\n",
       "    </tr>\n",
       "    <tr>\n",
       "      <th>Prop_to_peri Altitude (km)</th>\n",
       "      <td>283.368515</td>\n",
       "      <td>283.368515</td>\n",
       "      <td>283.368515</td>\n",
       "      <td>283.368515</td>\n",
       "      <td>283.368515</td>\n",
       "      <td>283.368515</td>\n",
       "      <td>283.368515</td>\n",
       "      <td>283.368515</td>\n",
       "      <td>283.368515</td>\n",
       "      <td>283.368515</td>\n",
       "    </tr>\n",
       "    <tr>\n",
       "      <th>Prop_to_peri Orbit_Period (hr)</th>\n",
       "      <td>1.508645</td>\n",
       "      <td>1.508645</td>\n",
       "      <td>1.508645</td>\n",
       "      <td>1.508645</td>\n",
       "      <td>1.508645</td>\n",
       "      <td>1.508645</td>\n",
       "      <td>1.508645</td>\n",
       "      <td>1.508645</td>\n",
       "      <td>1.508645</td>\n",
       "      <td>1.508645</td>\n",
       "    </tr>\n",
       "    <tr>\n",
       "      <th>Maneuver DeltaV (m/sec)</th>\n",
       "      <td>0.000000</td>\n",
       "      <td>10.000000</td>\n",
       "      <td>20.000000</td>\n",
       "      <td>30.000000</td>\n",
       "      <td>40.000000</td>\n",
       "      <td>50.000000</td>\n",
       "      <td>60.000000</td>\n",
       "      <td>70.000000</td>\n",
       "      <td>80.000000</td>\n",
       "      <td>90.000000</td>\n",
       "    </tr>\n",
       "  </tbody>\n",
       "</table>\n",
       "</div>"
      ],
      "text/plain": [
       "                                         0           1           2  \\\n",
       "Prop_to_apo Altitude (km)       299.455256  334.202702  369.166271   \n",
       "Prop_to_apo Orbit_Period (hr)     1.508550    1.514423    1.520339   \n",
       "Prop_to_peri Altitude (km)      283.368515  283.368515  283.368515   \n",
       "Prop_to_peri Orbit_Period (hr)    1.508645    1.508645    1.508645   \n",
       "Maneuver DeltaV (m/sec)           0.000000   10.000000   20.000000   \n",
       "\n",
       "                                         3           4           5  \\\n",
       "Prop_to_apo Altitude (km)       404.352495  439.765461  475.408428   \n",
       "Prop_to_apo Orbit_Period (hr)     1.526300    1.532306    1.538358   \n",
       "Prop_to_peri Altitude (km)      283.368515  283.368515  283.368515   \n",
       "Prop_to_peri Orbit_Period (hr)    1.508645    1.508645    1.508645   \n",
       "Maneuver DeltaV (m/sec)          30.000000   40.000000   50.000000   \n",
       "\n",
       "                                         6           7           8           9  \n",
       "Prop_to_apo Altitude (km)       511.284287  547.395734  583.745355  620.335683  \n",
       "Prop_to_apo Orbit_Period (hr)     1.544458    1.550606    1.556803    1.563050  \n",
       "Prop_to_peri Altitude (km)      283.368515  283.368515  283.368515  283.368515  \n",
       "Prop_to_peri Orbit_Period (hr)    1.508645    1.508645    1.508645    1.508645  \n",
       "Maneuver DeltaV (m/sec)          60.000000   70.000000   80.000000   90.000000  "
      ]
     },
     "execution_count": 558,
     "metadata": {},
     "output_type": "execute_result"
    }
   ],
   "source": [
    "b._df"
   ]
  },
  {
   "cell_type": "code",
   "execution_count": 559,
   "metadata": {},
   "outputs": [
    {
     "data": {
      "text/plain": [
       "['Prop_to_apo Altitude (km)',\n",
       " 'Prop_to_apo Orbit_Period (hr)',\n",
       " 'Prop_to_peri Altitude (km)',\n",
       " 'Prop_to_peri Orbit_Period (hr)',\n",
       " 'Maneuver DeltaV (m/sec)']"
      ]
     },
     "execution_count": 559,
     "metadata": {},
     "output_type": "execute_result"
    }
   ],
   "source": [
    "b.rowNames"
   ]
  },
  {
   "cell_type": "code",
   "execution_count": 560,
   "metadata": {},
   "outputs": [
    {
     "data": {
      "text/plain": [
       "[['Prop_to_apo', 'Altitude', 'km'],\n",
       " ['Prop_to_apo', 'Orbit_Period', 'hr'],\n",
       " ['Prop_to_peri', 'Altitude', 'km'],\n",
       " ['Prop_to_peri', 'Orbit_Period', 'hr'],\n",
       " ['Maneuver', 'DeltaV', 'm/sec']]"
      ]
     },
     "execution_count": 560,
     "metadata": {},
     "output_type": "execute_result"
    }
   ],
   "source": [
    "b.events"
   ]
  },
  {
   "cell_type": "code",
   "execution_count": 422,
   "metadata": {},
   "outputs": [
    {
     "data": {
      "text/plain": [
       "[['Prop_to_apo', 'Altitude', 'km'],\n",
       " ['Prop_to_apo', 'Orbit_Period', 'hr'],\n",
       " ['Prop_to_peri', 'Altitude', 'km'],\n",
       " ['Prop_to_peri', 'Orbit_Period', 'hr'],\n",
       " ['Maneuver', 'DeltaV', 'm/sec']]"
      ]
     },
     "execution_count": 422,
     "metadata": {},
     "output_type": "execute_result"
    }
   ],
   "source": [
    "myOutputs.events"
   ]
  },
  {
   "cell_type": "code",
   "execution_count": null,
   "metadata": {
    "collapsed": true
   },
   "outputs": [],
   "source": []
  }
 ],
 "metadata": {
  "kernelspec": {
   "display_name": "Python 3",
   "language": "python",
   "name": "python3"
  },
  "language_info": {
   "codemirror_mode": {
    "name": "ipython",
    "version": 3
   },
   "file_extension": ".py",
   "mimetype": "text/x-python",
   "name": "python",
   "nbconvert_exporter": "python",
   "pygments_lexer": "ipython3",
   "version": "3.6.1"
  }
 },
 "nbformat": 4,
 "nbformat_minor": 2
}
